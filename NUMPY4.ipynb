{
 "cells": [
  {
   "cell_type": "markdown",
   "id": "c60a5fb8",
   "metadata": {},
   "source": [
    "# `NUMPY`   "
   ]
  },
  {
   "cell_type": "code",
   "execution_count": 1,
   "id": "a267216f",
   "metadata": {},
   "outputs": [
    {
     "name": "stdout",
     "output_type": "stream",
     "text": [
      "Requirement already satisfied: numpy in c:\\users\\salun\\anaconda3\\lib\\site-packages (1.21.5)\n"
     ]
    }
   ],
   "source": [
    "# Following command is used to install the NUMPY \n",
    "\n",
    "!pip install numpy"
   ]
  },
  {
   "cell_type": "markdown",
   "id": "72191f90",
   "metadata": {},
   "source": [
    "### Imoprting the `Numpy Library`"
   ]
  },
  {
   "cell_type": "code",
   "execution_count": 3,
   "id": "4b08b905",
   "metadata": {},
   "outputs": [],
   "source": [
    "# Following command is used to import the NUMPY LIBRARY in jupyter notebook\n",
    "\n",
    "import numpy as np  \n",
    "\n",
    "# Here the \"np\" is used as an alias for numpy means np is used as short name for \"numpy\""
   ]
  },
  {
   "cell_type": "markdown",
   "id": "f1f9e9eb",
   "metadata": {},
   "source": [
    "### ARRAY ATTRIBUTES"
   ]
  },
  {
   "cell_type": "markdown",
   "id": "eead1982",
   "metadata": {},
   "source": [
    "- Attributes are the features/ characterstics of  an object that describe the object"
   ]
  },
  {
   "cell_type": "code",
   "execution_count": 127,
   "id": "7ca0f85f",
   "metadata": {},
   "outputs": [
    {
     "data": {
      "text/plain": [
       "(array([ 10000,   2000,  45000, 980000,   1000,  75500]),\n",
       " array([[1, 3, 4],\n",
       "        [6, 7, 8]]),\n",
       " array([[[ 1,  3,  4],\n",
       "         [ 6,  7,  8]],\n",
       " \n",
       "        [[11,  3, 45],\n",
       "         [ 5,  0, 40]]]))"
      ]
     },
     "execution_count": 127,
     "metadata": {},
     "output_type": "execute_result"
    }
   ],
   "source": [
    "a = np.array([10000,2000,45000,980000,1000,75500])\n",
    "b = np.array([[1,3,4],[6,7,8]])\n",
    "c = np.array([[[1,3,4],[6,7,8]],[[11,3,45],[5,0,40]]])\n",
    "a,b,c"
   ]
  },
  {
   "cell_type": "markdown",
   "id": "ca195cad",
   "metadata": {},
   "source": [
    "#### SHAPE"
   ]
  },
  {
   "cell_type": "markdown",
   "id": "36fe42e5",
   "metadata": {},
   "source": [
    "- shape returns number of rows and columns in the array"
   ]
  },
  {
   "cell_type": "code",
   "execution_count": 128,
   "id": "ea02b0d1",
   "metadata": {},
   "outputs": [
    {
     "data": {
      "text/plain": [
       "((6,), (2, 3), (2, 2, 3))"
      ]
     },
     "execution_count": 128,
     "metadata": {},
     "output_type": "execute_result"
    }
   ],
   "source": [
    "a.shape, b.shape, c.shape"
   ]
  },
  {
   "cell_type": "markdown",
   "id": "67875b88",
   "metadata": {},
   "source": [
    "#### SIZE"
   ]
  },
  {
   "cell_type": "markdown",
   "id": "c368fd51",
   "metadata": {},
   "source": [
    "- Size returns the number of elements present in the array"
   ]
  },
  {
   "cell_type": "code",
   "execution_count": 129,
   "id": "ebc3d451",
   "metadata": {},
   "outputs": [
    {
     "data": {
      "text/plain": [
       "(6, 6, 12)"
      ]
     },
     "execution_count": 129,
     "metadata": {},
     "output_type": "execute_result"
    }
   ],
   "source": [
    "a.size , b.size, c.size"
   ]
  },
  {
   "cell_type": "markdown",
   "id": "a14ee086",
   "metadata": {},
   "source": [
    "#### DTYPE"
   ]
  },
  {
   "cell_type": "markdown",
   "id": "fd2f4367",
   "metadata": {},
   "source": [
    "- D-Type returns the type of data along with the size of data in bytes"
   ]
  },
  {
   "cell_type": "code",
   "execution_count": 130,
   "id": "51ce3b2b",
   "metadata": {},
   "outputs": [
    {
     "data": {
      "text/plain": [
       "(dtype('int32'), dtype('int32'), dtype('int32'))"
      ]
     },
     "execution_count": 130,
     "metadata": {},
     "output_type": "execute_result"
    }
   ],
   "source": [
    "a.dtype , b.dtype , c.dtype"
   ]
  },
  {
   "cell_type": "markdown",
   "id": "efcc9029",
   "metadata": {},
   "source": [
    "#### NDIM"
   ]
  },
  {
   "cell_type": "markdown",
   "id": "60102310",
   "metadata": {},
   "source": [
    "- NDim returns the number of dimensions of the array"
   ]
  },
  {
   "cell_type": "code",
   "execution_count": 132,
   "id": "2c309c64",
   "metadata": {},
   "outputs": [
    {
     "data": {
      "text/plain": [
       "(1, 2, 3)"
      ]
     },
     "execution_count": 132,
     "metadata": {},
     "output_type": "execute_result"
    }
   ],
   "source": [
    "a.ndim , b.ndim, c.ndim"
   ]
  },
  {
   "cell_type": "markdown",
   "id": "ad906a1f",
   "metadata": {},
   "source": [
    "### ARITHEMATIC OPERATIONS ON ARRAY"
   ]
  },
  {
   "cell_type": "markdown",
   "id": "3c9777ae",
   "metadata": {},
   "source": [
    "#### 1) ADDITION"
   ]
  },
  {
   "cell_type": "code",
   "execution_count": 134,
   "id": "222b0e71",
   "metadata": {},
   "outputs": [
    {
     "data": {
      "text/plain": [
       "(array([1, 2]), array([3, 4]))"
      ]
     },
     "execution_count": 134,
     "metadata": {},
     "output_type": "execute_result"
    }
   ],
   "source": [
    "##################### ADDITION OF 1-D ARRAY  #####################\n",
    "a = np.array([1,2])\n",
    "b = np.array([3,4])\n",
    "a,b"
   ]
  },
  {
   "cell_type": "code",
   "execution_count": 135,
   "id": "3b0c4c7f",
   "metadata": {},
   "outputs": [
    {
     "data": {
      "text/plain": [
       "array([4, 6])"
      ]
     },
     "execution_count": 135,
     "metadata": {},
     "output_type": "execute_result"
    }
   ],
   "source": [
    "a+b"
   ]
  },
  {
   "cell_type": "code",
   "execution_count": 136,
   "id": "4121484a",
   "metadata": {},
   "outputs": [
    {
     "data": {
      "text/plain": [
       "(array([[1, 2],\n",
       "        [3, 4]]),\n",
       " array([[5, 6],\n",
       "        [7, 8]]))"
      ]
     },
     "execution_count": 136,
     "metadata": {},
     "output_type": "execute_result"
    }
   ],
   "source": [
    "##################### ADDITION OF 2-D ARRAY  #####################\n",
    "a = np.array([[1,2],[3,4]])\n",
    "b = np.array([[5,6],[7,8]])\n",
    "a,b"
   ]
  },
  {
   "cell_type": "code",
   "execution_count": 137,
   "id": "9ee6a542",
   "metadata": {},
   "outputs": [
    {
     "data": {
      "text/plain": [
       "array([[ 6,  8],\n",
       "       [10, 12]])"
      ]
     },
     "execution_count": 137,
     "metadata": {},
     "output_type": "execute_result"
    }
   ],
   "source": [
    "a+b"
   ]
  },
  {
   "cell_type": "code",
   "execution_count": 138,
   "id": "9fddd78a",
   "metadata": {},
   "outputs": [
    {
     "data": {
      "text/plain": [
       "(array([[[ 1,  2],\n",
       "         [ 3,  4]],\n",
       " \n",
       "        [[ 0,  0],\n",
       "         [-1, -1]]]),\n",
       " array([[[ 5,  6],\n",
       "         [ 7,  8]],\n",
       " \n",
       "        [[-2, -2],\n",
       "         [-3, -4]]]))"
      ]
     },
     "execution_count": 138,
     "metadata": {},
     "output_type": "execute_result"
    }
   ],
   "source": [
    "##################### ADDITION OF 3-D ARRAY  #####################\n",
    "a = np.array([[[1,2],[3,4]],[[0,0],[-1,-1]]])\n",
    "b = np.array([[[5,6],[7,8]],[[-2,-2],[-3,-4]]])\n",
    "a,b"
   ]
  },
  {
   "cell_type": "code",
   "execution_count": 139,
   "id": "d49dc8de",
   "metadata": {},
   "outputs": [
    {
     "data": {
      "text/plain": [
       "array([[[ 6,  8],\n",
       "        [10, 12]],\n",
       "\n",
       "       [[-2, -2],\n",
       "        [-4, -5]]])"
      ]
     },
     "execution_count": 139,
     "metadata": {},
     "output_type": "execute_result"
    }
   ],
   "source": [
    "a+b"
   ]
  },
  {
   "cell_type": "markdown",
   "id": "99d97b32",
   "metadata": {},
   "source": [
    "#### 2) SUBSTRACTION"
   ]
  },
  {
   "cell_type": "code",
   "execution_count": 143,
   "id": "880aa39f",
   "metadata": {},
   "outputs": [
    {
     "data": {
      "text/plain": [
       "(array([1, 2]), array([3, 4]))"
      ]
     },
     "execution_count": 143,
     "metadata": {},
     "output_type": "execute_result"
    }
   ],
   "source": [
    "##################### SUBSTRACTION OF 1-D ARRAY  #####################\n",
    "a = np.array([1,2])\n",
    "b = np.array([3,4])\n",
    "a,b"
   ]
  },
  {
   "cell_type": "code",
   "execution_count": 144,
   "id": "15a6b9ef",
   "metadata": {},
   "outputs": [
    {
     "data": {
      "text/plain": [
       "array([-2, -2])"
      ]
     },
     "execution_count": 144,
     "metadata": {},
     "output_type": "execute_result"
    }
   ],
   "source": [
    "a-b"
   ]
  },
  {
   "cell_type": "code",
   "execution_count": 145,
   "id": "e2716f07",
   "metadata": {},
   "outputs": [
    {
     "data": {
      "text/plain": [
       "(array([[1, 2],\n",
       "        [3, 4]]),\n",
       " array([[5, 6],\n",
       "        [7, 8]]))"
      ]
     },
     "execution_count": 145,
     "metadata": {},
     "output_type": "execute_result"
    }
   ],
   "source": [
    "##################### SUBSTRACTION OF 2-D ARRAY  #####################\n",
    "a = np.array([[1,2],[3,4]])\n",
    "b = np.array([[5,6],[7,8]])\n",
    "a,b"
   ]
  },
  {
   "cell_type": "code",
   "execution_count": 146,
   "id": "fc883969",
   "metadata": {},
   "outputs": [
    {
     "data": {
      "text/plain": [
       "array([[-4, -4],\n",
       "       [-4, -4]])"
      ]
     },
     "execution_count": 146,
     "metadata": {},
     "output_type": "execute_result"
    }
   ],
   "source": [
    "a-b"
   ]
  },
  {
   "cell_type": "code",
   "execution_count": 147,
   "id": "b197437d",
   "metadata": {},
   "outputs": [
    {
     "data": {
      "text/plain": [
       "(array([[[ 1,  2],\n",
       "         [ 3,  4]],\n",
       " \n",
       "        [[ 0,  0],\n",
       "         [-1, -1]]]),\n",
       " array([[[ 5,  6],\n",
       "         [ 7,  8]],\n",
       " \n",
       "        [[-2, -2],\n",
       "         [-3, -4]]]))"
      ]
     },
     "execution_count": 147,
     "metadata": {},
     "output_type": "execute_result"
    }
   ],
   "source": [
    "##################### SUBSTRACTION OF 3-D ARRAY  #####################\n",
    "a = np.array([[[1,2],[3,4]],[[0,0],[-1,-1]]])\n",
    "b = np.array([[[5,6],[7,8]],[[-2,-2],[-3,-4]]])\n",
    "a,b"
   ]
  },
  {
   "cell_type": "code",
   "execution_count": 148,
   "id": "88b53246",
   "metadata": {},
   "outputs": [
    {
     "data": {
      "text/plain": [
       "array([[[-4, -4],\n",
       "        [-4, -4]],\n",
       "\n",
       "       [[ 2,  2],\n",
       "        [ 2,  3]]])"
      ]
     },
     "execution_count": 148,
     "metadata": {},
     "output_type": "execute_result"
    }
   ],
   "source": [
    "a-b"
   ]
  },
  {
   "cell_type": "markdown",
   "id": "80fd6a92",
   "metadata": {},
   "source": [
    "#### 3) MULTIPLICATION [ Element Wise Multiplication Of Two Arrays ]"
   ]
  },
  {
   "cell_type": "code",
   "execution_count": 149,
   "id": "24cba22b",
   "metadata": {},
   "outputs": [
    {
     "data": {
      "text/plain": [
       "(array([1, 2]), array([3, 4]))"
      ]
     },
     "execution_count": 149,
     "metadata": {},
     "output_type": "execute_result"
    }
   ],
   "source": [
    "##################### MULTIPLICATION OF 1-D ARRAY  #####################\n",
    "a = np.array([1,2])\n",
    "b = np.array([3,4])\n",
    "a,b"
   ]
  },
  {
   "cell_type": "code",
   "execution_count": 150,
   "id": "47971ab7",
   "metadata": {},
   "outputs": [
    {
     "data": {
      "text/plain": [
       "array([3, 8])"
      ]
     },
     "execution_count": 150,
     "metadata": {},
     "output_type": "execute_result"
    }
   ],
   "source": [
    "a*b"
   ]
  },
  {
   "cell_type": "code",
   "execution_count": 152,
   "id": "3dd43c7d",
   "metadata": {},
   "outputs": [
    {
     "data": {
      "text/plain": [
       "(array([[1, 2],\n",
       "        [3, 4]]),\n",
       " array([[5, 6],\n",
       "        [7, 8]]))"
      ]
     },
     "execution_count": 152,
     "metadata": {},
     "output_type": "execute_result"
    }
   ],
   "source": [
    "##################### MULTIPLICATION OF 2-D ARRAY  #####################\n",
    "a = np.array([[1,2],[3,4]])\n",
    "b = np.array([[5,6],[7,8]])\n",
    "a,b"
   ]
  },
  {
   "cell_type": "code",
   "execution_count": 153,
   "id": "624d0948",
   "metadata": {},
   "outputs": [
    {
     "data": {
      "text/plain": [
       "array([[ 5, 12],\n",
       "       [21, 32]])"
      ]
     },
     "execution_count": 153,
     "metadata": {},
     "output_type": "execute_result"
    }
   ],
   "source": [
    "a*b"
   ]
  },
  {
   "cell_type": "code",
   "execution_count": 154,
   "id": "1c724646",
   "metadata": {},
   "outputs": [
    {
     "data": {
      "text/plain": [
       "(array([[[ 1,  2],\n",
       "         [ 3,  4]],\n",
       " \n",
       "        [[ 0,  0],\n",
       "         [-1, -1]]]),\n",
       " array([[[ 5,  6],\n",
       "         [ 7,  8]],\n",
       " \n",
       "        [[-2, -2],\n",
       "         [-3, -4]]]))"
      ]
     },
     "execution_count": 154,
     "metadata": {},
     "output_type": "execute_result"
    }
   ],
   "source": [
    "##################### MULTIPLICATION OF 3-D ARRAY  #####################\n",
    "a = np.array([[[1,2],[3,4]],[[0,0],[-1,-1]]])\n",
    "b = np.array([[[5,6],[7,8]],[[-2,-2],[-3,-4]]])\n",
    "a,b"
   ]
  },
  {
   "cell_type": "code",
   "execution_count": 155,
   "id": "31af0da6",
   "metadata": {},
   "outputs": [
    {
     "data": {
      "text/plain": [
       "array([[[ 5, 12],\n",
       "        [21, 32]],\n",
       "\n",
       "       [[ 0,  0],\n",
       "        [ 3,  4]]])"
      ]
     },
     "execution_count": 155,
     "metadata": {},
     "output_type": "execute_result"
    }
   ],
   "source": [
    "a*b"
   ]
  },
  {
   "cell_type": "markdown",
   "id": "d0b9e69f",
   "metadata": {},
   "source": [
    "#### 4) MATRIX MULTIPLICATION OF TWO DIFFERENT SHAPE OF MATRIX"
   ]
  },
  {
   "cell_type": "code",
   "execution_count": 159,
   "id": "ca59e2f0",
   "metadata": {},
   "outputs": [
    {
     "data": {
      "text/plain": [
       "11"
      ]
     },
     "execution_count": 159,
     "metadata": {},
     "output_type": "execute_result"
    }
   ],
   "source": [
    "##################### MULTIPLICATION OF 1-D ARRAY  #####################\n",
    "a = np.array([1,2])\n",
    "b = np.array([3,4])\n",
    "a.dot(b)"
   ]
  },
  {
   "cell_type": "code",
   "execution_count": 160,
   "id": "4f24098e",
   "metadata": {},
   "outputs": [
    {
     "ename": "ValueError",
     "evalue": "shapes (2,) and (3,) not aligned: 2 (dim 0) != 3 (dim 0)",
     "output_type": "error",
     "traceback": [
      "\u001b[1;31m---------------------------------------------------------------------------\u001b[0m",
      "\u001b[1;31mValueError\u001b[0m                                Traceback (most recent call last)",
      "Input \u001b[1;32mIn [160]\u001b[0m, in \u001b[0;36m<cell line: 3>\u001b[1;34m()\u001b[0m\n\u001b[0;32m      1\u001b[0m a \u001b[38;5;241m=\u001b[39m np\u001b[38;5;241m.\u001b[39marray([\u001b[38;5;241m1\u001b[39m,\u001b[38;5;241m2\u001b[39m])\n\u001b[0;32m      2\u001b[0m b \u001b[38;5;241m=\u001b[39m np\u001b[38;5;241m.\u001b[39marray([\u001b[38;5;241m3\u001b[39m,\u001b[38;5;241m4\u001b[39m,\u001b[38;5;241m5\u001b[39m])\n\u001b[1;32m----> 3\u001b[0m \u001b[43ma\u001b[49m\u001b[38;5;241;43m.\u001b[39;49m\u001b[43mdot\u001b[49m\u001b[43m(\u001b[49m\u001b[43mb\u001b[49m\u001b[43m)\u001b[49m\n",
      "\u001b[1;31mValueError\u001b[0m: shapes (2,) and (3,) not aligned: 2 (dim 0) != 3 (dim 0)"
     ]
    }
   ],
   "source": [
    "a = np.array([1,2])\n",
    "b = np.array([3,4,5])\n",
    "a.dot(b)"
   ]
  },
  {
   "cell_type": "code",
   "execution_count": 165,
   "id": "e123758b",
   "metadata": {},
   "outputs": [
    {
     "data": {
      "text/plain": [
       "array([[19, 22],\n",
       "       [43, 50]])"
      ]
     },
     "execution_count": 165,
     "metadata": {},
     "output_type": "execute_result"
    }
   ],
   "source": [
    "##################### MULTIPLICATION OF 2-D ARRAY  #####################\n",
    "a = np.array([[1,2],[3,4]])\n",
    "b = np.array([[5,6],[7,8]])\n",
    "a.dot(b)"
   ]
  },
  {
   "cell_type": "code",
   "execution_count": 166,
   "id": "75a04c9b",
   "metadata": {},
   "outputs": [
    {
     "data": {
      "text/plain": [
       "array([[[[ 19,  22],\n",
       "         [ -8, -10]],\n",
       "\n",
       "        [[ 43,  50],\n",
       "         [-18, -22]]],\n",
       "\n",
       "\n",
       "       [[[  0,   0],\n",
       "         [  0,   0]],\n",
       "\n",
       "        [[-12, -14],\n",
       "         [  5,   6]]]])"
      ]
     },
     "execution_count": 166,
     "metadata": {},
     "output_type": "execute_result"
    }
   ],
   "source": [
    "##################### MULTIPLICATION OF 3-D ARRAY  #####################\n",
    "a = np.array([[[1,2],[3,4]],[[0,0],[-1,-1]]])\n",
    "b = np.array([[[5,6],[7,8]],[[-2,-2],[-3,-4]]])\n",
    "a.dot(b)"
   ]
  },
  {
   "cell_type": "code",
   "execution_count": 168,
   "id": "955cac19",
   "metadata": {},
   "outputs": [
    {
     "data": {
      "text/plain": [
       "array([[3, 6, 9],\n",
       "       [3, 6, 9],\n",
       "       [3, 6, 9]])"
      ]
     },
     "execution_count": 168,
     "metadata": {},
     "output_type": "execute_result"
    }
   ],
   "source": [
    "a = np.array([[1,2],[1,2],[1,2]])\n",
    "b = np.array([[1,2,3],[1,2,3]])\n",
    "a.dot(b)"
   ]
  },
  {
   "cell_type": "code",
   "execution_count": 169,
   "id": "d43172e1",
   "metadata": {},
   "outputs": [
    {
     "data": {
      "text/plain": [
       "array([[ 6, 12],\n",
       "       [ 6, 12]])"
      ]
     },
     "execution_count": 169,
     "metadata": {},
     "output_type": "execute_result"
    }
   ],
   "source": [
    "b.dot(a)"
   ]
  },
  {
   "cell_type": "markdown",
   "id": "93832c48",
   "metadata": {},
   "source": [
    "### INDEXING OF ARRAY"
   ]
  },
  {
   "cell_type": "markdown",
   "id": "42f25c2b",
   "metadata": {},
   "source": [
    "- The elements in the array can be ascessed by the positional index of element\n",
    "- The index of an array starts from 0 (from left side) and starts from -1 (from right side)"
   ]
  },
  {
   "cell_type": "code",
   "execution_count": 4,
   "id": "e5bbe6f3",
   "metadata": {},
   "outputs": [
    {
     "data": {
      "text/plain": [
       "array([1, 2, 3, 4, 5, 6])"
      ]
     },
     "execution_count": 4,
     "metadata": {},
     "output_type": "execute_result"
    }
   ],
   "source": [
    "##################### INDEXING OF 1-D ARRAY  #####################\n",
    "a =np.array((1,2,3,4,5,6))\n",
    "a"
   ]
  },
  {
   "cell_type": "code",
   "execution_count": 5,
   "id": "7d44e23f",
   "metadata": {},
   "outputs": [
    {
     "data": {
      "text/plain": [
       "(1, 2, 3, 4, 5, 6)"
      ]
     },
     "execution_count": 5,
     "metadata": {},
     "output_type": "execute_result"
    }
   ],
   "source": [
    "a[0],a[1],a[2],a[3],a[4],a[5]"
   ]
  },
  {
   "cell_type": "code",
   "execution_count": 6,
   "id": "7b475a71",
   "metadata": {},
   "outputs": [
    {
     "data": {
      "text/plain": [
       "7"
      ]
     },
     "execution_count": 6,
     "metadata": {},
     "output_type": "execute_result"
    }
   ],
   "source": [
    "a[0]+a[5]"
   ]
  },
  {
   "cell_type": "code",
   "execution_count": 7,
   "id": "645bd788",
   "metadata": {},
   "outputs": [
    {
     "data": {
      "text/plain": [
       "24"
      ]
     },
     "execution_count": 7,
     "metadata": {},
     "output_type": "execute_result"
    }
   ],
   "source": [
    "a[3]*a[5]"
   ]
  },
  {
   "cell_type": "code",
   "execution_count": 8,
   "id": "8b050c5f",
   "metadata": {},
   "outputs": [
    {
     "data": {
      "text/plain": [
       "3.0"
      ]
     },
     "execution_count": 8,
     "metadata": {},
     "output_type": "execute_result"
    }
   ],
   "source": [
    "a[5]/a[1]"
   ]
  },
  {
   "cell_type": "code",
   "execution_count": 11,
   "id": "2da276a5",
   "metadata": {},
   "outputs": [
    {
     "data": {
      "text/plain": [
       "array([[1, 2, 3],\n",
       "       [4, 5, 6]])"
      ]
     },
     "execution_count": 11,
     "metadata": {},
     "output_type": "execute_result"
    }
   ],
   "source": [
    "##################### INDEXING OF 2-D ARRAY  #####################\n",
    "a =np.array(((1,2,3),(4,5,6)))\n",
    "a"
   ]
  },
  {
   "cell_type": "code",
   "execution_count": 12,
   "id": "6283706d",
   "metadata": {},
   "outputs": [
    {
     "data": {
      "text/plain": [
       "array([1, 2, 3])"
      ]
     },
     "execution_count": 12,
     "metadata": {},
     "output_type": "execute_result"
    }
   ],
   "source": [
    "a[0]"
   ]
  },
  {
   "cell_type": "code",
   "execution_count": 13,
   "id": "7e973908",
   "metadata": {},
   "outputs": [
    {
     "data": {
      "text/plain": [
       "array([4, 5, 6])"
      ]
     },
     "execution_count": 13,
     "metadata": {},
     "output_type": "execute_result"
    }
   ],
   "source": [
    "a[1]"
   ]
  },
  {
   "cell_type": "code",
   "execution_count": 14,
   "id": "b30fb6dc",
   "metadata": {},
   "outputs": [
    {
     "data": {
      "text/plain": [
       "2"
      ]
     },
     "execution_count": 14,
     "metadata": {},
     "output_type": "execute_result"
    }
   ],
   "source": [
    "a[0,1]"
   ]
  },
  {
   "cell_type": "code",
   "execution_count": 18,
   "id": "35131064",
   "metadata": {},
   "outputs": [
    {
     "data": {
      "text/plain": [
       "6"
      ]
     },
     "execution_count": 18,
     "metadata": {},
     "output_type": "execute_result"
    }
   ],
   "source": [
    "a[1,2]"
   ]
  },
  {
   "cell_type": "code",
   "execution_count": 19,
   "id": "e3a9af32",
   "metadata": {},
   "outputs": [
    {
     "data": {
      "text/plain": [
       "6"
      ]
     },
     "execution_count": 19,
     "metadata": {},
     "output_type": "execute_result"
    }
   ],
   "source": [
    "a[1][2]"
   ]
  },
  {
   "cell_type": "code",
   "execution_count": 21,
   "id": "8b49b976",
   "metadata": {},
   "outputs": [
    {
     "data": {
      "text/plain": [
       "array([[[ 1,  2],\n",
       "        [ 3,  4]],\n",
       "\n",
       "       [[ 0,  0],\n",
       "        [-1, -1]]])"
      ]
     },
     "execution_count": 21,
     "metadata": {},
     "output_type": "execute_result"
    }
   ],
   "source": [
    "##################### INDEXING OF 3-D ARRAY  #####################\n",
    "a = np.array([[[1,2],[3,4]],[[0,0],[-1,-1]]])\n",
    "a"
   ]
  },
  {
   "cell_type": "code",
   "execution_count": 22,
   "id": "cd0ddc5b",
   "metadata": {},
   "outputs": [
    {
     "data": {
      "text/plain": [
       "array([[1, 2],\n",
       "       [3, 4]])"
      ]
     },
     "execution_count": 22,
     "metadata": {},
     "output_type": "execute_result"
    }
   ],
   "source": [
    "a[0]"
   ]
  },
  {
   "cell_type": "code",
   "execution_count": 24,
   "id": "7757b540",
   "metadata": {},
   "outputs": [
    {
     "data": {
      "text/plain": [
       "array([3, 4])"
      ]
     },
     "execution_count": 24,
     "metadata": {},
     "output_type": "execute_result"
    }
   ],
   "source": [
    "a[0,1]"
   ]
  },
  {
   "cell_type": "code",
   "execution_count": 27,
   "id": "b5ea4eea",
   "metadata": {},
   "outputs": [
    {
     "data": {
      "text/plain": [
       "3"
      ]
     },
     "execution_count": 27,
     "metadata": {},
     "output_type": "execute_result"
    }
   ],
   "source": [
    "a[0,1,0]"
   ]
  },
  {
   "cell_type": "code",
   "execution_count": 29,
   "id": "b1c9c757",
   "metadata": {},
   "outputs": [
    {
     "data": {
      "text/plain": [
       "3"
      ]
     },
     "execution_count": 29,
     "metadata": {},
     "output_type": "execute_result"
    }
   ],
   "source": [
    "a[0][1][0]"
   ]
  },
  {
   "cell_type": "code",
   "execution_count": 25,
   "id": "2c356178",
   "metadata": {},
   "outputs": [
    {
     "data": {
      "text/plain": [
       "array([1, 2])"
      ]
     },
     "execution_count": 25,
     "metadata": {},
     "output_type": "execute_result"
    }
   ],
   "source": [
    "a[0,0]"
   ]
  },
  {
   "cell_type": "code",
   "execution_count": 26,
   "id": "d72fd1e5",
   "metadata": {},
   "outputs": [
    {
     "data": {
      "text/plain": [
       "2"
      ]
     },
     "execution_count": 26,
     "metadata": {},
     "output_type": "execute_result"
    }
   ],
   "source": [
    "a[0,0,1]"
   ]
  },
  {
   "cell_type": "code",
   "execution_count": 28,
   "id": "6f09cfab",
   "metadata": {},
   "outputs": [
    {
     "data": {
      "text/plain": [
       "array([[ 0,  0],\n",
       "       [-1, -1]])"
      ]
     },
     "execution_count": 28,
     "metadata": {},
     "output_type": "execute_result"
    }
   ],
   "source": [
    "a[1]"
   ]
  },
  {
   "cell_type": "code",
   "execution_count": 30,
   "id": "26802813",
   "metadata": {},
   "outputs": [
    {
     "data": {
      "text/plain": [
       "array([0, 0])"
      ]
     },
     "execution_count": 30,
     "metadata": {},
     "output_type": "execute_result"
    }
   ],
   "source": [
    "a[1,0]"
   ]
  },
  {
   "cell_type": "code",
   "execution_count": 31,
   "id": "0467f98f",
   "metadata": {},
   "outputs": [
    {
     "data": {
      "text/plain": [
       "0"
      ]
     },
     "execution_count": 31,
     "metadata": {},
     "output_type": "execute_result"
    }
   ],
   "source": [
    "a[1,0,1]"
   ]
  },
  {
   "cell_type": "code",
   "execution_count": 32,
   "id": "5b59f4fc",
   "metadata": {},
   "outputs": [
    {
     "data": {
      "text/plain": [
       "array([-1, -1])"
      ]
     },
     "execution_count": 32,
     "metadata": {},
     "output_type": "execute_result"
    }
   ],
   "source": [
    "a[1,1]"
   ]
  },
  {
   "cell_type": "code",
   "execution_count": 33,
   "id": "7f88d55b",
   "metadata": {},
   "outputs": [
    {
     "data": {
      "text/plain": [
       "-1"
      ]
     },
     "execution_count": 33,
     "metadata": {},
     "output_type": "execute_result"
    }
   ],
   "source": [
    "a[1][1][1]"
   ]
  },
  {
   "cell_type": "markdown",
   "id": "e456e895",
   "metadata": {},
   "source": [
    "### SLICING OF ARRAY"
   ]
  },
  {
   "cell_type": "code",
   "execution_count": 36,
   "id": "af614272",
   "metadata": {},
   "outputs": [
    {
     "data": {
      "text/plain": [
       "array([1, 2, 3, 4, 5, 6])"
      ]
     },
     "execution_count": 36,
     "metadata": {},
     "output_type": "execute_result"
    }
   ],
   "source": [
    "##################### SLICING OF 1-D ARRAY  #####################\n",
    "a = np.array((1,2,3,4,5,6))\n",
    "a"
   ]
  },
  {
   "cell_type": "code",
   "execution_count": 37,
   "id": "1da54ad4",
   "metadata": {},
   "outputs": [
    {
     "data": {
      "text/plain": [
       "array([1, 2, 3, 4, 5, 6])"
      ]
     },
     "execution_count": 37,
     "metadata": {},
     "output_type": "execute_result"
    }
   ],
   "source": [
    "a[:]"
   ]
  },
  {
   "cell_type": "code",
   "execution_count": 39,
   "id": "59c7068f",
   "metadata": {},
   "outputs": [
    {
     "data": {
      "text/plain": [
       "array([1, 2, 3, 4, 5, 6])"
      ]
     },
     "execution_count": 39,
     "metadata": {},
     "output_type": "execute_result"
    }
   ],
   "source": [
    "a[0:]"
   ]
  },
  {
   "cell_type": "code",
   "execution_count": 40,
   "id": "3c23a545",
   "metadata": {},
   "outputs": [
    {
     "data": {
      "text/plain": [
       "array([3, 4, 5, 6])"
      ]
     },
     "execution_count": 40,
     "metadata": {},
     "output_type": "execute_result"
    }
   ],
   "source": [
    "a[2:]"
   ]
  },
  {
   "cell_type": "code",
   "execution_count": 41,
   "id": "e3ac489b",
   "metadata": {},
   "outputs": [
    {
     "data": {
      "text/plain": [
       "array([1, 2, 3, 4, 5])"
      ]
     },
     "execution_count": 41,
     "metadata": {},
     "output_type": "execute_result"
    }
   ],
   "source": [
    "a[:-1]"
   ]
  },
  {
   "cell_type": "code",
   "execution_count": 42,
   "id": "edcf9dc8",
   "metadata": {},
   "outputs": [
    {
     "data": {
      "text/plain": [
       "array([6, 5, 4, 3, 2, 1])"
      ]
     },
     "execution_count": 42,
     "metadata": {},
     "output_type": "execute_result"
    }
   ],
   "source": [
    "a[::-1]"
   ]
  },
  {
   "cell_type": "code",
   "execution_count": 43,
   "id": "e494d5a9",
   "metadata": {},
   "outputs": [
    {
     "data": {
      "text/plain": [
       "array([6, 5, 4, 3])"
      ]
     },
     "execution_count": 43,
     "metadata": {},
     "output_type": "execute_result"
    }
   ],
   "source": [
    "a[2:][::-1]"
   ]
  },
  {
   "cell_type": "code",
   "execution_count": 44,
   "id": "3165bc8a",
   "metadata": {},
   "outputs": [
    {
     "data": {
      "text/plain": [
       "array([[1, 2],\n",
       "       [3, 4],\n",
       "       [5, 6]])"
      ]
     },
     "execution_count": 44,
     "metadata": {},
     "output_type": "execute_result"
    }
   ],
   "source": [
    "##################### SLICING OF 2-D ARRAY  #####################\n",
    "a =np.array([(1,2),(3,4),(5,6)])\n",
    "a"
   ]
  },
  {
   "cell_type": "code",
   "execution_count": 35,
   "id": "a836abdf",
   "metadata": {},
   "outputs": [
    {
     "data": {
      "text/plain": [
       "array([[1, 2],\n",
       "       [3, 4],\n",
       "       [5, 6]])"
      ]
     },
     "execution_count": 35,
     "metadata": {},
     "output_type": "execute_result"
    }
   ],
   "source": [
    "a[0:]"
   ]
  },
  {
   "cell_type": "code",
   "execution_count": 46,
   "id": "357ed7c6",
   "metadata": {},
   "outputs": [
    {
     "data": {
      "text/plain": [
       "array([[5, 6],\n",
       "       [3, 4]])"
      ]
     },
     "execution_count": 46,
     "metadata": {},
     "output_type": "execute_result"
    }
   ],
   "source": [
    "a[1:][::-1]"
   ]
  },
  {
   "cell_type": "code",
   "execution_count": 47,
   "id": "bd74f2ec",
   "metadata": {},
   "outputs": [
    {
     "data": {
      "text/plain": [
       "array([[3, 4],\n",
       "       [1, 2]])"
      ]
     },
     "execution_count": 47,
     "metadata": {},
     "output_type": "execute_result"
    }
   ],
   "source": [
    "a[1::-1]"
   ]
  },
  {
   "cell_type": "code",
   "execution_count": 48,
   "id": "90fc5b97",
   "metadata": {},
   "outputs": [
    {
     "data": {
      "text/plain": [
       "array([3, 4])"
      ]
     },
     "execution_count": 48,
     "metadata": {},
     "output_type": "execute_result"
    }
   ],
   "source": [
    "a[0:][1]"
   ]
  },
  {
   "cell_type": "code",
   "execution_count": 49,
   "id": "ad55d238",
   "metadata": {},
   "outputs": [
    {
     "data": {
      "text/plain": [
       "array([6, 4, 2])"
      ]
     },
     "execution_count": 49,
     "metadata": {},
     "output_type": "execute_result"
    }
   ],
   "source": [
    "a[:,1][::-1]"
   ]
  },
  {
   "cell_type": "code",
   "execution_count": 50,
   "id": "e4a71c07",
   "metadata": {},
   "outputs": [
    {
     "data": {
      "text/plain": [
       "2"
      ]
     },
     "execution_count": 50,
     "metadata": {},
     "output_type": "execute_result"
    }
   ],
   "source": [
    "a[:,1][::-1][2]"
   ]
  },
  {
   "cell_type": "code",
   "execution_count": 81,
   "id": "43cbc3d7",
   "metadata": {},
   "outputs": [
    {
     "data": {
      "text/plain": [
       "array([[[1, 2, 3],\n",
       "        [4, 5, 6]],\n",
       "\n",
       "       [[7, 3, 9],\n",
       "        [7, 8, 9]]])"
      ]
     },
     "execution_count": 81,
     "metadata": {},
     "output_type": "execute_result"
    }
   ],
   "source": [
    "##################### SLICING OF 3-D ARRAY  #####################\n",
    "a =np.array([[(1,2,3),(4,5,6)],[(7,3,9),(7,8,9)]])\n",
    "a"
   ]
  },
  {
   "cell_type": "code",
   "execution_count": 76,
   "id": "5e5b329a",
   "metadata": {},
   "outputs": [
    {
     "data": {
      "text/plain": [
       "array([[[7, 3, 9],\n",
       "        [7, 8, 9]]])"
      ]
     },
     "execution_count": 76,
     "metadata": {},
     "output_type": "execute_result"
    }
   ],
   "source": [
    "a[1:,:2]"
   ]
  },
  {
   "cell_type": "code",
   "execution_count": 77,
   "id": "4b935be8",
   "metadata": {},
   "outputs": [
    {
     "data": {
      "text/plain": [
       "array([[[7, 3, 9],\n",
       "        [7, 8, 9]]])"
      ]
     },
     "execution_count": 77,
     "metadata": {},
     "output_type": "execute_result"
    }
   ],
   "source": [
    "a[1:2,:]"
   ]
  },
  {
   "cell_type": "code",
   "execution_count": 78,
   "id": "9265df97",
   "metadata": {},
   "outputs": [
    {
     "data": {
      "text/plain": [
       "array([[[8, 9]]])"
      ]
     },
     "execution_count": 78,
     "metadata": {},
     "output_type": "execute_result"
    }
   ],
   "source": [
    "a[1:,1:,1:]"
   ]
  },
  {
   "cell_type": "code",
   "execution_count": 79,
   "id": "30a5cc22",
   "metadata": {},
   "outputs": [
    {
     "data": {
      "text/plain": [
       "array([[[5, 6]],\n",
       "\n",
       "       [[8, 9]]])"
      ]
     },
     "execution_count": 79,
     "metadata": {},
     "output_type": "execute_result"
    }
   ],
   "source": [
    "a[0:,1:,1:]"
   ]
  },
  {
   "cell_type": "markdown",
   "id": "b22af2fc",
   "metadata": {},
   "source": [
    "### ITERATING ARRAY"
   ]
  },
  {
   "cell_type": "code",
   "execution_count": 96,
   "id": "1560aafd",
   "metadata": {},
   "outputs": [
    {
     "data": {
      "text/plain": [
       "array([1, 1, 1, 2, 2, 2, 3, 3, 3, 4, 4, 4])"
      ]
     },
     "execution_count": 96,
     "metadata": {},
     "output_type": "execute_result"
    }
   ],
   "source": [
    "##################### ITERATING OF 1-D ARRAY  #####################\n",
    "a=np.array([1,1,1,2,2,2,3,3,3,4,4,4])\n",
    "a"
   ]
  },
  {
   "cell_type": "code",
   "execution_count": 97,
   "id": "bf53524e",
   "metadata": {},
   "outputs": [
    {
     "name": "stdout",
     "output_type": "stream",
     "text": [
      "1\n",
      "1\n",
      "1\n",
      "2\n",
      "2\n",
      "2\n",
      "3\n",
      "3\n",
      "3\n",
      "4\n",
      "4\n",
      "4\n"
     ]
    }
   ],
   "source": [
    "for i in a:\n",
    "    print(i)"
   ]
  },
  {
   "cell_type": "markdown",
   "id": "bc453272",
   "metadata": {},
   "source": [
    "##### ANOTHER WAY OF ITERATING AN NUMPY ARRAY BY USING `NP.NDITER()` FUNCTION"
   ]
  },
  {
   "cell_type": "code",
   "execution_count": 99,
   "id": "dae65011",
   "metadata": {},
   "outputs": [
    {
     "data": {
      "text/plain": [
       "[array(1),\n",
       " array(1),\n",
       " array(1),\n",
       " array(2),\n",
       " array(2),\n",
       " array(2),\n",
       " array(3),\n",
       " array(3),\n",
       " array(3),\n",
       " array(4),\n",
       " array(4),\n",
       " array(4)]"
      ]
     },
     "execution_count": 99,
     "metadata": {},
     "output_type": "execute_result"
    }
   ],
   "source": [
    "list(np.nditer(a))"
   ]
  },
  {
   "cell_type": "code",
   "execution_count": 100,
   "id": "878cc783",
   "metadata": {},
   "outputs": [
    {
     "name": "stdout",
     "output_type": "stream",
     "text": [
      "1\n",
      "1\n",
      "1\n",
      "2\n",
      "2\n",
      "2\n",
      "3\n",
      "3\n",
      "3\n",
      "4\n",
      "4\n",
      "4\n"
     ]
    }
   ],
   "source": [
    "for i in np.nditer(a):\n",
    "    print(i)"
   ]
  },
  {
   "cell_type": "code",
   "execution_count": 101,
   "id": "d5937d9b",
   "metadata": {},
   "outputs": [
    {
     "data": {
      "text/plain": [
       "array([[1, 2, 3],\n",
       "       [4, 5, 6]])"
      ]
     },
     "execution_count": 101,
     "metadata": {},
     "output_type": "execute_result"
    }
   ],
   "source": [
    "##################### ITERATING OF 2-D ARRAY  #####################\n",
    "a =np.array([[1,2,3],[4,5,6]])\n",
    "a"
   ]
  },
  {
   "cell_type": "code",
   "execution_count": 88,
   "id": "a0da6931",
   "metadata": {},
   "outputs": [
    {
     "name": "stdout",
     "output_type": "stream",
     "text": [
      "[1 2 3]\n",
      "[4 5 6]\n"
     ]
    }
   ],
   "source": [
    "for i in a:\n",
    "    print(i)"
   ]
  },
  {
   "cell_type": "code",
   "execution_count": 89,
   "id": "74632ac6",
   "metadata": {},
   "outputs": [
    {
     "name": "stdout",
     "output_type": "stream",
     "text": [
      "1\n",
      "2\n",
      "3\n",
      "4\n",
      "5\n",
      "6\n"
     ]
    }
   ],
   "source": [
    "for i in a:\n",
    "    for j in i:\n",
    "        print(j)"
   ]
  },
  {
   "cell_type": "markdown",
   "id": "aefb4e12",
   "metadata": {},
   "source": [
    "##### ANOTHER WAY OF ITERATING AN NUMPY ARRAY BY USING `NP.NDITER()` FUNCTION"
   ]
  },
  {
   "cell_type": "code",
   "execution_count": 102,
   "id": "43fce0ba",
   "metadata": {},
   "outputs": [
    {
     "name": "stdout",
     "output_type": "stream",
     "text": [
      "1\n",
      "2\n",
      "3\n",
      "4\n",
      "5\n",
      "6\n"
     ]
    }
   ],
   "source": [
    "for i in np.nditer(a):\n",
    "    print(i)"
   ]
  },
  {
   "cell_type": "code",
   "execution_count": 103,
   "id": "0f5ff688",
   "metadata": {},
   "outputs": [],
   "source": [
    "##################### ITERATING OF 3-D ARRAY  #####################\n",
    "\n",
    "a =np.array([[[1,2,3],[4,5,6]],[[7,8,9],[0,0,0]]])"
   ]
  },
  {
   "cell_type": "code",
   "execution_count": 92,
   "id": "c2e17d45",
   "metadata": {},
   "outputs": [
    {
     "name": "stdout",
     "output_type": "stream",
     "text": [
      "[[1 2 3]\n",
      " [4 5 6]]\n",
      "[[7 8 9]\n",
      " [0 0 0]]\n"
     ]
    }
   ],
   "source": [
    "for i in a:\n",
    "    print(i)"
   ]
  },
  {
   "cell_type": "code",
   "execution_count": 93,
   "id": "d7061a8a",
   "metadata": {},
   "outputs": [
    {
     "name": "stdout",
     "output_type": "stream",
     "text": [
      "[1 2 3]\n",
      "[4 5 6]\n",
      "[7 8 9]\n",
      "[0 0 0]\n"
     ]
    }
   ],
   "source": [
    "for i in a:\n",
    "    for j in i:\n",
    "        print(j)"
   ]
  },
  {
   "cell_type": "code",
   "execution_count": 94,
   "id": "a6d70b0a",
   "metadata": {},
   "outputs": [
    {
     "name": "stdout",
     "output_type": "stream",
     "text": [
      "1\n",
      "2\n",
      "3\n",
      "4\n",
      "5\n",
      "6\n",
      "7\n",
      "8\n",
      "9\n",
      "0\n",
      "0\n",
      "0\n"
     ]
    }
   ],
   "source": [
    "for i in a:\n",
    "    for j in i:\n",
    "        for k in j:\n",
    "            print(k)"
   ]
  },
  {
   "cell_type": "markdown",
   "id": "3f5e0d08",
   "metadata": {},
   "source": [
    "##### ANOTHER WAY OF ITERATING AN NUMPY ARRAY BY USING `NP.NDITER()` FUNCTION"
   ]
  },
  {
   "cell_type": "code",
   "execution_count": 104,
   "id": "2ffff14b",
   "metadata": {},
   "outputs": [
    {
     "name": "stdout",
     "output_type": "stream",
     "text": [
      "1\n",
      "2\n",
      "3\n",
      "4\n",
      "5\n",
      "6\n",
      "7\n",
      "8\n",
      "9\n",
      "0\n",
      "0\n",
      "0\n"
     ]
    }
   ],
   "source": [
    "for i in np.nditer(a):\n",
    "    print(i)"
   ]
  },
  {
   "cell_type": "markdown",
   "id": "c9504747",
   "metadata": {},
   "source": [
    "### HOW ARRAYS ARE FASTER THAN LISTS"
   ]
  },
  {
   "cell_type": "code",
   "execution_count": 103,
   "id": "9e74d7ca",
   "metadata": {},
   "outputs": [
    {
     "name": "stdout",
     "output_type": "stream",
     "text": [
      "Time taken by List :  0.22323155403137207  seconds\n"
     ]
    }
   ],
   "source": [
    "# Importing the required libraries\n",
    "import numpy as np\n",
    "import time\n",
    "\n",
    "# Declaring size of lists\n",
    "size=1000000\n",
    "\n",
    "# Creating lists\n",
    "l1 = range(size)\n",
    "l2 = range(size)\n",
    "# LIST\n",
    "initialTime = time.time()\n",
    "result_list = [(a*b) for a,b in zip(l1,l2)]\n",
    "\n",
    "# Calculating execution time\n",
    "print('Time taken by List : ',(time.time()-initialTime),' seconds')\n"
   ]
  },
  {
   "cell_type": "code",
   "execution_count": 104,
   "id": "f179c42b",
   "metadata": {},
   "outputs": [
    {
     "name": "stdout",
     "output_type": "stream",
     "text": [
      "Time taken by array :  0.0040013790130615234  seconds\n"
     ]
    }
   ],
   "source": [
    "# Importing the required libraries\n",
    "import numpy as np\n",
    "import time\n",
    "\n",
    "# Declaring size of arrays\n",
    "size=1000000\n",
    "\n",
    "# Creating arrays\n",
    "a = np.arange(size)\n",
    "b = np.arange(size)\n",
    "# ARRAY\n",
    "initialTime = time.time()\n",
    "result_array = a*b\n",
    "\n",
    "# Calculating execution time\n",
    "print('Time taken by array : ',(time.time()-initialTime),' seconds')"
   ]
  },
  {
   "cell_type": "code",
   "execution_count": null,
   "id": "10da1e20",
   "metadata": {},
   "outputs": [],
   "source": []
  }
 ],
 "metadata": {
  "kernelspec": {
   "display_name": "Python 3 (ipykernel)",
   "language": "python",
   "name": "python3"
  },
  "language_info": {
   "codemirror_mode": {
    "name": "ipython",
    "version": 3
   },
   "file_extension": ".py",
   "mimetype": "text/x-python",
   "name": "python",
   "nbconvert_exporter": "python",
   "pygments_lexer": "ipython3",
   "version": "3.9.12"
  }
 },
 "nbformat": 4,
 "nbformat_minor": 5
}
