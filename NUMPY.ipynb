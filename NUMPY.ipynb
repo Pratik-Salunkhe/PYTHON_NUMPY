{
 "cells": [
  {
   "cell_type": "markdown",
   "id": "c60a5fb8",
   "metadata": {},
   "source": [
    "# `NUMPY`   "
   ]
  },
  {
   "cell_type": "markdown",
   "id": "43881d19",
   "metadata": {},
   "source": [
    "- Numpy stands for Numerical Python\n",
    "- Numpy is general purpose array processing package\n",
    "- It provides a high performance multi dimensional array object and tools for working with these arrays\n",
    "- Used for mathematical and scientific computations\n",
    "- Also provides 'linalg' module which contains functions like (det,eignorm) to apply linear algebra on numpy arrays\n",
    "- Numpy array is most widely used object of numpy library"
   ]
  },
  {
   "cell_type": "markdown",
   "id": "d4ed1c88",
   "metadata": {},
   "source": [
    "### Installation of `Numpy Library`"
   ]
  },
  {
   "cell_type": "code",
   "execution_count": 1,
   "id": "a267216f",
   "metadata": {},
   "outputs": [
    {
     "name": "stdout",
     "output_type": "stream",
     "text": [
      "Requirement already satisfied: numpy in c:\\users\\salun\\anaconda3\\lib\\site-packages (1.21.5)\n"
     ]
    }
   ],
   "source": [
    "# Following command is used to install the NUMPY \n",
    "\n",
    "!pip install numpy"
   ]
  },
  {
   "cell_type": "markdown",
   "id": "72191f90",
   "metadata": {},
   "source": [
    "### Imoprting the `Numpy Library`"
   ]
  },
  {
   "cell_type": "code",
   "execution_count": 3,
   "id": "4b08b905",
   "metadata": {},
   "outputs": [],
   "source": [
    "# Following command is used to import the NUMPY LIBRARY in jupyter notebook\n",
    "\n",
    "import numpy as np  \n",
    "\n",
    "# Here the \"np\" is used as an alias for numpy means np is used as short name for \"numpy\""
   ]
  },
  {
   "cell_type": "markdown",
   "id": "c94beace",
   "metadata": {},
   "source": [
    "### NUMPY ARRAY"
   ]
  },
  {
   "cell_type": "markdown",
   "id": "47fef7d4",
   "metadata": {},
   "source": [
    "- Numpy array looks similar to list\n",
    "- It is a grid of index , values by positive integer\n",
    "- It generally contains numeric values, However it can also contain strings\n",
    "- Works faster than list as it is a homogeneous object\n",
    "- It can be multidimensional"
   ]
  },
  {
   "cell_type": "markdown",
   "id": "734bdb95",
   "metadata": {},
   "source": [
    "#### CREATING AN ARRAY"
   ]
  },
  {
   "cell_type": "markdown",
   "id": "b6872823",
   "metadata": {},
   "source": [
    "##### - np.array() Function"
   ]
  },
  {
   "cell_type": "markdown",
   "id": "fa013927",
   "metadata": {},
   "source": [
    "- `np.array()` function is used to create an numpy array "
   ]
  },
  {
   "cell_type": "code",
   "execution_count": 11,
   "id": "de7e23df",
   "metadata": {},
   "outputs": [
    {
     "name": "stdout",
     "output_type": "stream",
     "text": [
      "Array(a) =  [ 1  2  3  4 -5] Array(b) =  [ 1.  2.  3.  4. -5.]\n"
     ]
    }
   ],
   "source": [
    "##################### CREATING AN 1-D ARRAY #####################\n",
    "\n",
    "a = np.array([1,2,3,4,-5])\n",
    "b = np.array([1,2,3,4.0,-5])\n",
    "print(\"Array(a) = \",a,\"Array(b) = \",b)\n",
    "\n",
    "# If one of the value in the array is float type the the array will match all values to float"
   ]
  },
  {
   "cell_type": "code",
   "execution_count": 16,
   "id": "51abd8c1",
   "metadata": {},
   "outputs": [
    {
     "data": {
      "text/plain": [
       "(array([[1, 2, 3],\n",
       "        [4, 5, 6]]),\n",
       " array([[ 1.,  2.,  3.],\n",
       "        [ 4.,  5., -6.]]))"
      ]
     },
     "execution_count": 16,
     "metadata": {},
     "output_type": "execute_result"
    }
   ],
   "source": [
    "##################### CREATING AN 2-D ARRAY #####################\n",
    "\n",
    "a = np.array([[1,2,3],[4,5,6]])\n",
    "b = np.array([[1,2.0,3],[4,5,-6]])\n",
    "a,b"
   ]
  },
  {
   "cell_type": "code",
   "execution_count": 18,
   "id": "f5e29852",
   "metadata": {},
   "outputs": [
    {
     "data": {
      "text/plain": [
       "(array([[[ 1,  2,  3],\n",
       "         [ 4,  5,  6]],\n",
       " \n",
       "        [[ 1,  0,  3],\n",
       "         [ 4,  5, -6]]]),\n",
       " array([[[ 1.,  2.,  3.],\n",
       "         [ 4.,  5., -6.]],\n",
       " \n",
       "        [[ 1.,  2.,  3.],\n",
       "         [ 4.,  5.,  6.]]]))"
      ]
     },
     "execution_count": 18,
     "metadata": {},
     "output_type": "execute_result"
    }
   ],
   "source": [
    "##################### CREATING AN 3-D ARRAY #####################\n",
    "a = np.array([[[1,2,3],[4,5,6]],[[1,0,3],[4,5,-6]]])\n",
    "b = np.array([[[1,2.0,3],[4,5,-6]],[[1,2,3],[4,5,6]]])\n",
    "a,b"
   ]
  },
  {
   "cell_type": "markdown",
   "id": "486dca1a",
   "metadata": {},
   "source": [
    "### RANDOM METHODS"
   ]
  },
  {
   "cell_type": "markdown",
   "id": "0e9e5173",
   "metadata": {},
   "source": [
    "##### - np.random.random() [np.Function.Method( )]"
   ]
  },
  {
   "cell_type": "markdown",
   "id": "feed0c73",
   "metadata": {},
   "source": [
    "- This function,methode is used to create the random array\n",
    "- Return random `floats` in the half-open interval [0.0, 1.0)."
   ]
  },
  {
   "cell_type": "code",
   "execution_count": 19,
   "id": "9a87c8bb",
   "metadata": {},
   "outputs": [
    {
     "data": {
      "text/plain": [
       "array([0.67489679, 0.57160807, 0.33525131, 0.35630351])"
      ]
     },
     "execution_count": 19,
     "metadata": {},
     "output_type": "execute_result"
    }
   ],
   "source": [
    "##################### CREATING AN 1-D RANDOM ARRAY #####################\n",
    "\n",
    "np.random.random(4)  # Here 4 defines the number of element to be generated in array\n",
    "                     # syntax :- random(size=None)\n",
    "    \n",
    "#Return random floats in the half-open interval [0.0, 1.0)."
   ]
  },
  {
   "cell_type": "code",
   "execution_count": 22,
   "id": "139074fd",
   "metadata": {},
   "outputs": [
    {
     "data": {
      "text/plain": [
       "0.38950626420970713"
      ]
     },
     "execution_count": 22,
     "metadata": {},
     "output_type": "execute_result"
    }
   ],
   "source": [
    "# If size of array is not defined the it will return any one float integer in between 0.0 to 1.0\n",
    "\n",
    "np.random.random()"
   ]
  },
  {
   "cell_type": "code",
   "execution_count": 25,
   "id": "3b545da1",
   "metadata": {},
   "outputs": [
    {
     "ename": "TypeError",
     "evalue": "random() takes at most 1 positional argument (2 given)",
     "output_type": "error",
     "traceback": [
      "\u001b[1;31m---------------------------------------------------------------------------\u001b[0m",
      "\u001b[1;31mTypeError\u001b[0m                                 Traceback (most recent call last)",
      "Input \u001b[1;32mIn [25]\u001b[0m, in \u001b[0;36m<cell line: 3>\u001b[1;34m()\u001b[0m\n\u001b[0;32m      1\u001b[0m \u001b[38;5;66;03m##################### CREATING AN 2-D RANDOM ARRAY #####################\u001b[39;00m\n\u001b[1;32m----> 3\u001b[0m \u001b[43mnp\u001b[49m\u001b[38;5;241;43m.\u001b[39;49m\u001b[43mrandom\u001b[49m\u001b[38;5;241;43m.\u001b[39;49m\u001b[43mrandom\u001b[49m\u001b[43m(\u001b[49m\u001b[38;5;241;43m3\u001b[39;49m\u001b[43m,\u001b[49m\u001b[38;5;241;43m3\u001b[39;49m\u001b[43m)\u001b[49m\n",
      "File \u001b[1;32mmtrand.pyx:427\u001b[0m, in \u001b[0;36mnumpy.random.mtrand.RandomState.random\u001b[1;34m()\u001b[0m\n",
      "\u001b[1;31mTypeError\u001b[0m: random() takes at most 1 positional argument (2 given)"
     ]
    }
   ],
   "source": [
    "##################### CREATING AN 2-D RANDOM ARRAY #####################\n",
    "\n",
    "np.random.random(3,3)"
   ]
  },
  {
   "cell_type": "markdown",
   "id": "9ff3112a",
   "metadata": {},
   "source": [
    "ERROR >>\n",
    "\n",
    "Here the `Random()` Method takes only one positionl arguments suppose with the help of `random.random()` we can generate an 1-D array very easily.\n",
    "But suppose if we want to generate 2-D array we are not able to generate as `random.random()` accepts only one one argument\n",
    "To generate 2-D array we have to past a list or a tuple in `random.random()` which defines the shape of an array."
   ]
  },
  {
   "cell_type": "code",
   "execution_count": 32,
   "id": "a09861df",
   "metadata": {},
   "outputs": [
    {
     "data": {
      "text/plain": [
       "array([[0.22054854, 0.00966556, 0.3921653 ],\n",
       "       [0.6009954 , 0.25556126, 0.69737447]])"
      ]
     },
     "execution_count": 32,
     "metadata": {},
     "output_type": "execute_result"
    }
   ],
   "source": [
    "##################### CREATING AN 2-D RANDOM ARRAY #####################\n",
    "\n",
    "np.random.random([2,3])\n",
    "\n",
    "# Here the 1st element in list defines the rows of array \n",
    "# Here the 2nd element in list defines the columns of array "
   ]
  },
  {
   "cell_type": "code",
   "execution_count": 31,
   "id": "e71bb1c3",
   "metadata": {},
   "outputs": [
    {
     "data": {
      "text/plain": [
       "array([[[0.23596599, 0.89390256, 0.35488891],\n",
       "        [0.95508972, 0.1765272 , 0.2198424 ]],\n",
       "\n",
       "       [[0.0315524 , 0.58943695, 0.69017975],\n",
       "        [0.66939821, 0.15360103, 0.26819427]]])"
      ]
     },
     "execution_count": 31,
     "metadata": {},
     "output_type": "execute_result"
    }
   ],
   "source": [
    "##################### CREATING AN 3-D RANDOM ARRAY #####################\n",
    "\n",
    "np.random.random([2,2,3])\n",
    "\n",
    "# Here the first element in list defines the set of array\n",
    "# Here the second element in list defines the rows in each set of array\n",
    "# Here the third element in the list defines the columns in each set of array"
   ]
  },
  {
   "cell_type": "markdown",
   "id": "665bd69d",
   "metadata": {},
   "source": [
    "##### - np.random.rand() [np.Function.Method( )]"
   ]
  },
  {
   "cell_type": "markdown",
   "id": "1f9de2da",
   "metadata": {},
   "source": [
    "- This function,method is used to create an array of random numbers of  the given shape between (0.0,1.0)\n",
    "- The dimensions of the returned array, must be non-negative.\n",
    "- If no argument is given a single Python `float` is returned."
   ]
  },
  {
   "cell_type": "code",
   "execution_count": 34,
   "id": "54238e21",
   "metadata": {},
   "outputs": [
    {
     "data": {
      "text/plain": [
       "array([0.25953998, 0.27225057, 0.87364586, 0.65767835])"
      ]
     },
     "execution_count": 34,
     "metadata": {},
     "output_type": "execute_result"
    }
   ],
   "source": [
    "##################### CREATING AN 1-D RANDOM ARRAY #####################\n",
    "\n",
    "np.random.rand(4)    # Here 4 defines the number of element to be generated in array\n",
    "                     # syntax :- rand(size=None)"
   ]
  },
  {
   "cell_type": "code",
   "execution_count": 35,
   "id": "ae055b66",
   "metadata": {},
   "outputs": [
    {
     "data": {
      "text/plain": [
       "0.8230534963234237"
      ]
     },
     "execution_count": 35,
     "metadata": {},
     "output_type": "execute_result"
    }
   ],
   "source": [
    "# If size of array is not defined the it will return any one float integer in between 0.0 to 1.0\n",
    "\n",
    "np.random.rand()"
   ]
  },
  {
   "cell_type": "code",
   "execution_count": 41,
   "id": "ca5cd9d7",
   "metadata": {},
   "outputs": [
    {
     "data": {
      "text/plain": [
       "array([[0.54980592, 0.05856422, 0.52618541],\n",
       "       [0.1123    , 0.24051699, 0.09431991]])"
      ]
     },
     "execution_count": 41,
     "metadata": {},
     "output_type": "execute_result"
    }
   ],
   "source": [
    "##################### CREATING AN 2-D RANDOM ARRAY #####################\n",
    "\n",
    "np.random.rand(2,3)  \n",
    "\n",
    "# Here the 1st element in list defines the rows of array \n",
    "# Here the 2nd element in list defines the columns of array"
   ]
  },
  {
   "cell_type": "markdown",
   "id": "0503a75a",
   "metadata": {},
   "source": [
    "Here there is no any need of defining the array dimension and shape of 2-D/3-D in a list as the `rand()` method directly except the element in the form of tuple"
   ]
  },
  {
   "cell_type": "code",
   "execution_count": 40,
   "id": "d5c67fcf",
   "metadata": {},
   "outputs": [
    {
     "data": {
      "text/plain": [
       "array([[[0.62543294, 0.219221  , 0.80998909],\n",
       "        [0.8407319 , 0.08282947, 0.39681631]],\n",
       "\n",
       "       [[0.06407533, 0.31329649, 0.41113281],\n",
       "        [0.41180491, 0.71275346, 0.69685572]]])"
      ]
     },
     "execution_count": 40,
     "metadata": {},
     "output_type": "execute_result"
    }
   ],
   "source": [
    "##################### CREATING AN 3-D RANDOM ARRAY #####################\n",
    "\n",
    "np.random.rand(2,2,3)\n",
    "\n",
    "# Here the first element in list defines the set of array\n",
    "# Here the second element in list defines the rows in each set of array\n",
    "# Here the third element in the list defines the columns in each set of array"
   ]
  },
  {
   "cell_type": "markdown",
   "id": "5165bdfb",
   "metadata": {},
   "source": [
    "##### np.random.randn() [np.Function.Method( )]"
   ]
  },
  {
   "cell_type": "markdown",
   "id": "bdc0ab54",
   "metadata": {},
   "source": [
    "- `np.random.randn()` returns the positive as well as also it can returns the negative random values above aor below zero.  \n",
    "- If no argument is given a single Python `float` is returned."
   ]
  },
  {
   "cell_type": "code",
   "execution_count": 48,
   "id": "3bf083fd",
   "metadata": {},
   "outputs": [
    {
     "data": {
      "text/plain": [
       "array([-1.59881296,  0.75677288, -0.05764282,  1.13894535])"
      ]
     },
     "execution_count": 48,
     "metadata": {},
     "output_type": "execute_result"
    }
   ],
   "source": [
    "##################### CREATING AN 1-D RANDOM ARRAY #####################\n",
    "\n",
    "np.random.randn(4)   # Here 4 defines the number of element to be generated in array\n",
    "                     # syntax :- rand(size=None)"
   ]
  },
  {
   "cell_type": "code",
   "execution_count": 49,
   "id": "44823e75",
   "metadata": {},
   "outputs": [
    {
     "data": {
      "text/plain": [
       "-1.669209089546741"
      ]
     },
     "execution_count": 49,
     "metadata": {},
     "output_type": "execute_result"
    }
   ],
   "source": [
    "# If size of array is not defined the it will return any one float integer in between 0.0 to 1.0\n",
    "\n",
    "np.random.randn()"
   ]
  },
  {
   "cell_type": "code",
   "execution_count": 51,
   "id": "9ce55405",
   "metadata": {},
   "outputs": [
    {
     "data": {
      "text/plain": [
       "array([[-0.30824331,  0.57858086, -1.26077969],\n",
       "       [ 0.50358989,  0.33117219, -0.99256086]])"
      ]
     },
     "execution_count": 51,
     "metadata": {},
     "output_type": "execute_result"
    }
   ],
   "source": [
    "##################### CREATING AN 2-D RANDOM ARRAY #####################\n",
    "\n",
    "np.random.randn(2,3)  \n",
    "\n",
    "# Here the 1st element in list defines the rows of array \n",
    "# Here the 2nd element in list defines the columns of array"
   ]
  },
  {
   "cell_type": "markdown",
   "id": "2a5fd79b",
   "metadata": {},
   "source": [
    "Here there is no any need of defining the array dimension and shape of 2-D/3-D in a list as the `rand()` method directly except the element in the form of tuple"
   ]
  },
  {
   "cell_type": "code",
   "execution_count": 52,
   "id": "bb8c5fb4",
   "metadata": {},
   "outputs": [
    {
     "data": {
      "text/plain": [
       "array([[[-1.39339889,  0.37055144,  0.44297836],\n",
       "        [ 0.47322319,  1.29300736,  0.5478085 ]],\n",
       "\n",
       "       [[ 1.17110938,  1.61270812,  0.4753949 ],\n",
       "        [ 1.96605698, -1.16640566, -0.20586683]]])"
      ]
     },
     "execution_count": 52,
     "metadata": {},
     "output_type": "execute_result"
    }
   ],
   "source": [
    "##################### CREATING AN 3-D RANDOM ARRAY #####################\n",
    "\n",
    "np.random.randn(2,2,3)\n",
    "\n",
    "# Here the first element in list defines the set of array\n",
    "# Here the second element in list defines the rows in each set of array\n",
    "# Here the third element in the list defines the columns in each set of array"
   ]
  },
  {
   "cell_type": "markdown",
   "id": "a1a876da",
   "metadata": {},
   "source": [
    "##### - np.random.randint() [np.Function.Method( )] "
   ]
  },
  {
   "cell_type": "markdown",
   "id": "3e5cc908",
   "metadata": {},
   "source": [
    "- The `random.randint()` function,methode returns the random integer values from low(inclusive) to high(inclusive)"
   ]
  },
  {
   "cell_type": "code",
   "execution_count": 60,
   "id": "46b0ebf6",
   "metadata": {},
   "outputs": [
    {
     "data": {
      "text/plain": [
       "2"
      ]
     },
     "execution_count": 60,
     "metadata": {},
     "output_type": "execute_result"
    }
   ],
   "source": [
    "np.random.randint(2,10)\n",
    "\n",
    "# Here it returns only one random integer value between 2 to 10\n",
    "# The 2,10 defines the range of numbers from which we want an random values"
   ]
  },
  {
   "cell_type": "code",
   "execution_count": 66,
   "id": "35f0ddbc",
   "metadata": {},
   "outputs": [
    {
     "data": {
      "text/plain": [
       "array([1, 8, 8, 9, 1, 8, 7, 5, 4, 1, 1, 6])"
      ]
     },
     "execution_count": 66,
     "metadata": {},
     "output_type": "execute_result"
    }
   ],
   "source": [
    "##################### CREATING AN 1-D RANDOM ARRAY #####################\n",
    "\n",
    "np.random.randint(low= 1, high = 10, size = 12)\n",
    "\n",
    "# Here it returns 12 random integer value between 1 to 10\n",
    "# low defines the start value of range\n",
    "# high defines the end value of range\n",
    "# size defines the number of element required in the array"
   ]
  },
  {
   "cell_type": "code",
   "execution_count": 68,
   "id": "f5164915",
   "metadata": {},
   "outputs": [
    {
     "data": {
      "text/plain": [
       "array([2, 1, 5, 2, 3, 9, 6, 6, 2, 4, 2, 5])"
      ]
     },
     "execution_count": 68,
     "metadata": {},
     "output_type": "execute_result"
    }
   ],
   "source": [
    "np.random.randint(1,10,12)"
   ]
  },
  {
   "cell_type": "code",
   "execution_count": 70,
   "id": "d62b2fa8",
   "metadata": {},
   "outputs": [
    {
     "ename": "TypeError",
     "evalue": "randint() takes at least 1 positional argument (0 given)",
     "output_type": "error",
     "traceback": [
      "\u001b[1;31m---------------------------------------------------------------------------\u001b[0m",
      "\u001b[1;31mTypeError\u001b[0m                                 Traceback (most recent call last)",
      "Input \u001b[1;32mIn [70]\u001b[0m, in \u001b[0;36m<cell line: 1>\u001b[1;34m()\u001b[0m\n\u001b[1;32m----> 1\u001b[0m \u001b[43mnp\u001b[49m\u001b[38;5;241;43m.\u001b[39;49m\u001b[43mrandom\u001b[49m\u001b[38;5;241;43m.\u001b[39;49m\u001b[43mrandint\u001b[49m\u001b[43m(\u001b[49m\u001b[43m)\u001b[49m\n",
      "File \u001b[1;32mmtrand.pyx:646\u001b[0m, in \u001b[0;36mnumpy.random.mtrand.RandomState.randint\u001b[1;34m()\u001b[0m\n",
      "\u001b[1;31mTypeError\u001b[0m: randint() takes at least 1 positional argument (0 given)"
     ]
    }
   ],
   "source": [
    "np.random.randint()"
   ]
  },
  {
   "cell_type": "code",
   "execution_count": 81,
   "id": "cb26d2e7",
   "metadata": {},
   "outputs": [
    {
     "data": {
      "text/plain": [
       "array([[7, 9, 1],\n",
       "       [9, 6, 7]])"
      ]
     },
     "execution_count": 81,
     "metadata": {},
     "output_type": "execute_result"
    }
   ],
   "source": [
    "##################### CREATING AN 2-D RANDOM ARRAY #####################\n",
    "\n",
    "np.random.randint(low= 1, high = 10, size = (2,3))\n",
    "\n",
    "# low defines the start value of range\n",
    "# high defines the end value of range\n",
    "# # size defines the shape and dimension the of array with rows and columns"
   ]
  },
  {
   "cell_type": "code",
   "execution_count": 82,
   "id": "b0ec0539",
   "metadata": {},
   "outputs": [
    {
     "data": {
      "text/plain": [
       "array([[2, 4, 4],\n",
       "       [8, 8, 6]])"
      ]
     },
     "execution_count": 82,
     "metadata": {},
     "output_type": "execute_result"
    }
   ],
   "source": [
    "np.random.randint(1,10,(2,3))"
   ]
  },
  {
   "cell_type": "code",
   "execution_count": 83,
   "id": "e982cacd",
   "metadata": {},
   "outputs": [
    {
     "data": {
      "text/plain": [
       "array([[[1, 5, 9],\n",
       "        [3, 7, 2]],\n",
       "\n",
       "       [[5, 2, 4],\n",
       "        [4, 9, 1]]])"
      ]
     },
     "execution_count": 83,
     "metadata": {},
     "output_type": "execute_result"
    }
   ],
   "source": [
    "##################### CREATING AN 3-D RANDOM ARRAY #####################\n",
    "\n",
    "np.random.randint(low = 1, high = 10, size = [2,2,3])\n",
    "# low defines the start value of range\n",
    "# high defines the end value of range\n",
    "# size defines the shape and dimension the of array with set, rows and columns"
   ]
  },
  {
   "cell_type": "code",
   "execution_count": 84,
   "id": "0687637b",
   "metadata": {},
   "outputs": [
    {
     "data": {
      "text/plain": [
       "array([[[1, 9, 2],\n",
       "        [1, 5, 5]],\n",
       "\n",
       "       [[8, 4, 6],\n",
       "        [5, 1, 4]]])"
      ]
     },
     "execution_count": 84,
     "metadata": {},
     "output_type": "execute_result"
    }
   ],
   "source": [
    "np.random.randint(1,10,(2,2,3))"
   ]
  },
  {
   "cell_type": "markdown",
   "id": "80948177",
   "metadata": {},
   "source": [
    "### NUMPY FUNCTIONS"
   ]
  },
  {
   "cell_type": "markdown",
   "id": "9d346af3",
   "metadata": {},
   "source": [
    "##### - np.arange() [np.Function()]"
   ]
  },
  {
   "cell_type": "markdown",
   "id": "d4a6f194",
   "metadata": {},
   "source": [
    "- Return as many possible evenly spaced values within a given interval, the interval include `start` but exclude `stop`\n",
    "- For integer arguments the function is equivalent to the built-in `range` function, but returns an ndarray rather than a list.\n",
    "- Returns only 1-D array"
   ]
  },
  {
   "cell_type": "code",
   "execution_count": 103,
   "id": "f4d7e9a5",
   "metadata": {},
   "outputs": [
    {
     "data": {
      "text/plain": [
       "array([0, 2, 4, 6, 8])"
      ]
     },
     "execution_count": 103,
     "metadata": {},
     "output_type": "execute_result"
    }
   ],
   "source": [
    "np.arange(start = 0, stop = 10, step = 2, dtype = int)\n",
    "\n",
    "# Here start defines the start value of the range\n",
    "# Here stop defines the stop value of the range\n",
    "# Here step defines the difference between the two elements in the array which is to be generated\n",
    "# Here dtype defines the data type of the returned array"
   ]
  },
  {
   "cell_type": "code",
   "execution_count": 100,
   "id": "40affb2c",
   "metadata": {},
   "outputs": [
    {
     "data": {
      "text/plain": [
       "array([10., 12., 14., 16., 18.])"
      ]
     },
     "execution_count": 100,
     "metadata": {},
     "output_type": "execute_result"
    }
   ],
   "source": [
    "np.arange(10,20,2,float)"
   ]
  },
  {
   "cell_type": "markdown",
   "id": "09a6c3d9",
   "metadata": {},
   "source": [
    "When using a non-integer step, such as 0.1, the results will often not be consistent.  It is better to use `numpy.linspace` for these cases."
   ]
  },
  {
   "cell_type": "code",
   "execution_count": 111,
   "id": "fe6b915a",
   "metadata": {},
   "outputs": [
    {
     "data": {
      "text/plain": [
       "array([0. , 2.2, 4.4, 6.6, 8.8])"
      ]
     },
     "execution_count": 111,
     "metadata": {},
     "output_type": "execute_result"
    }
   ],
   "source": [
    "np.arange(0,10,2.2)"
   ]
  },
  {
   "cell_type": "markdown",
   "id": "d9400593",
   "metadata": {},
   "source": [
    "##### - np.linspace() [np.Function()]"
   ]
  },
  {
   "cell_type": "markdown",
   "id": "1bd93820",
   "metadata": {},
   "source": [
    "- Return evenly spaced numbers over a specified interval.\n",
    "- Returns `num` evenly spaced samples, calculated over the interval [`start`, `stop`].\n",
    "- The endpoint of the interval can optionally be excluded."
   ]
  },
  {
   "cell_type": "code",
   "execution_count": 8,
   "id": "0f78f0d8",
   "metadata": {
    "scrolled": true
   },
   "outputs": [
    {
     "data": {
      "text/plain": [
       "(array([ 1,  2,  3,  4,  5,  6,  7,  8, 10]), 1.125)"
      ]
     },
     "execution_count": 8,
     "metadata": {},
     "output_type": "execute_result"
    }
   ],
   "source": [
    "np.linspace(start = 1, stop = 10, num=9, endpoint=True, retstep=True, dtype=int, axis= 0)\n",
    "\n",
    "# Here start defines the starting value of the sequence.\n",
    "# Here stop defines the end value of the sequence\n",
    "# Here num defines the number of samples to generate. Default is 50. Must be non-negative.\n",
    "# Here endpoint defines the If True, `stop` is the last sample. Otherwise, it is not included. Default is True.\n",
    "# Here If True, return (`samples`, `step`), where `step` is the spacing between samples."
   ]
  },
  {
   "cell_type": "code",
   "execution_count": 11,
   "id": "f62dfe34",
   "metadata": {},
   "outputs": [
    {
     "data": {
      "text/plain": [
       "(array([1., 2., 3., 4., 5., 6., 7., 8., 9.]), 1.0)"
      ]
     },
     "execution_count": 11,
     "metadata": {},
     "output_type": "execute_result"
    }
   ],
   "source": [
    "np.linspace(start = 1, stop=10, num=9, endpoint=False, retstep=True, dtype=float, axis = -1)\n",
    "\n",
    "# Here start defines the starting value of the sequence.\n",
    "# Here stop defines the end value of the sequence\n",
    "# Here num defines the number of samples to generate. Default is 50. Must be non-negative.\n",
    "# Here endpoint defines the If False, `stop` is not the last sample.\n",
    "# Here If True, return (`samples`, `step`), where `step` is the spacing between samples."
   ]
  },
  {
   "cell_type": "markdown",
   "id": "bdc7f1c3",
   "metadata": {},
   "source": [
    "`NOTE : ` Difference between linspace() and arange() function\n",
    "\n",
    "`linspace()` enables you to control the precise end value where as `arange()` does not allows the control the end value "
   ]
  },
  {
   "cell_type": "markdown",
   "id": "bed9e47b",
   "metadata": {},
   "source": [
    "##### CREATING ARRAY OF ZEROS"
   ]
  },
  {
   "cell_type": "markdown",
   "id": "75e6bc76",
   "metadata": {},
   "source": [
    "##### - np.zeros() [np.Function()]"
   ]
  },
  {
   "cell_type": "markdown",
   "id": "1cd284f1",
   "metadata": {},
   "source": [
    "- Return a new array of given shape and type, filled with zeros\n",
    "- `syntax`\n",
    "        np.zeros(shape, dtype=float, order='C', *, like=None)\n"
   ]
  },
  {
   "cell_type": "code",
   "execution_count": 17,
   "id": "6e161579",
   "metadata": {},
   "outputs": [
    {
     "data": {
      "text/plain": [
       "array([0., 0., 0., 0.])"
      ]
     },
     "execution_count": 17,
     "metadata": {},
     "output_type": "execute_result"
    }
   ],
   "source": [
    "##################### CREATING AN 1-D ZEROS ARRAY #####################\n",
    "\n",
    "np.zeros(shape=4, dtype=float)\n",
    "# Here 4 defines the number of element to be generated in array\n",
    "# Here dtype define the datatype of returned array"
   ]
  },
  {
   "cell_type": "code",
   "execution_count": 21,
   "id": "96013aaf",
   "metadata": {},
   "outputs": [
    {
     "data": {
      "text/plain": [
       "array([[0, 0, 0],\n",
       "       [0, 0, 0]])"
      ]
     },
     "execution_count": 21,
     "metadata": {},
     "output_type": "execute_result"
    }
   ],
   "source": [
    "##################### CREATING AN 2-D ZEROS ARRAY #####################\n",
    "\n",
    "np.zeros(shape=[2,3], dtype = int)\n",
    "\n",
    "# Here shape define the shape and dimension of the array\n",
    "# Here dtype define the datatype of returned array"
   ]
  },
  {
   "cell_type": "code",
   "execution_count": 23,
   "id": "09a6e4c9",
   "metadata": {},
   "outputs": [
    {
     "data": {
      "text/plain": [
       "array([[[0, 0, 0],\n",
       "        [0, 0, 0]],\n",
       "\n",
       "       [[0, 0, 0],\n",
       "        [0, 0, 0]]])"
      ]
     },
     "execution_count": 23,
     "metadata": {},
     "output_type": "execute_result"
    }
   ],
   "source": [
    "##################### CREATING AN 3-D ZEROS ARRAY #####################\n",
    "\n",
    "np.zeros(shape = [2,2,3], dtype = int)\n",
    "\n",
    "# Here shape define the shape and dimension of the array\n",
    "# Here dtype define the datatype of returned array"
   ]
  },
  {
   "cell_type": "markdown",
   "id": "6692c89e",
   "metadata": {},
   "source": [
    "##### CREATING ARRAY OF ONES"
   ]
  },
  {
   "cell_type": "markdown",
   "id": "e7de6912",
   "metadata": {},
   "source": [
    "##### - np.ones() [np.function()]"
   ]
  },
  {
   "cell_type": "markdown",
   "id": "a50c0186",
   "metadata": {},
   "source": [
    "- Return a new array of given shape and type, filled with ones.\n",
    "- `syntax`\n",
    "         np.ones(shape, dtype=None, order='C', *, like=None)"
   ]
  },
  {
   "cell_type": "code",
   "execution_count": 24,
   "id": "c769e3fd",
   "metadata": {},
   "outputs": [
    {
     "data": {
      "text/plain": [
       "array([1., 1., 1., 1.])"
      ]
     },
     "execution_count": 24,
     "metadata": {},
     "output_type": "execute_result"
    }
   ],
   "source": [
    "##################### CREATING AN 1-D ZEROS ARRAY #####################\n",
    "\n",
    "np.ones(shape=4, dtype=float)\n",
    "# Here 4 defines the number of element to be generated in array\n",
    "# Here dtype define the datatype of returned array"
   ]
  },
  {
   "cell_type": "code",
   "execution_count": 25,
   "id": "acef71d1",
   "metadata": {},
   "outputs": [
    {
     "data": {
      "text/plain": [
       "array([[0, 0, 0],\n",
       "       [0, 0, 0]])"
      ]
     },
     "execution_count": 25,
     "metadata": {},
     "output_type": "execute_result"
    }
   ],
   "source": [
    "##################### CREATING AN 2-D ZEROS ARRAY #####################\n",
    "\n",
    "np.zeros(shape=[2,3], dtype = int)\n",
    "\n",
    "# Here shape define the shape and dimension of the array\n",
    "# Here dtype define the datatype of returned array"
   ]
  },
  {
   "cell_type": "code",
   "execution_count": 26,
   "id": "06005aa2",
   "metadata": {},
   "outputs": [
    {
     "data": {
      "text/plain": [
       "array([[[0, 0, 0],\n",
       "        [0, 0, 0]],\n",
       "\n",
       "       [[0, 0, 0],\n",
       "        [0, 0, 0]]])"
      ]
     },
     "execution_count": 26,
     "metadata": {},
     "output_type": "execute_result"
    }
   ],
   "source": [
    "##################### CREATING AN 3-D ZEROS ARRAY #####################\n",
    "\n",
    "np.zeros(shape = [2,2,3], dtype = int)\n",
    "\n",
    "# Here shape define the shape and dimension of the array\n",
    "# Here dtype define the datatype of returned array"
   ]
  },
  {
   "cell_type": "markdown",
   "id": "e38527f2",
   "metadata": {},
   "source": [
    "##### CREATING EMPTY ARRAY"
   ]
  },
  {
   "cell_type": "markdown",
   "id": "2a8972c5",
   "metadata": {},
   "source": [
    "##### - np.empty() [np.Function()]"
   ]
  },
  {
   "cell_type": "markdown",
   "id": "1e45094a",
   "metadata": {},
   "source": [
    "- Return a new array of given shape and type, without initializing entries and with arbitary values.\n",
    "- `syntax`\n",
    "            empty(shape, dtype=float, order='C', *, like=None)\n",
    "- It returns the array of given shape with random values"
   ]
  },
  {
   "cell_type": "code",
   "execution_count": 33,
   "id": "badd528b",
   "metadata": {},
   "outputs": [
    {
     "data": {
      "text/plain": [
       "array([ 6.95276429e-310,  6.95276429e-310, -0.00000000e+000])"
      ]
     },
     "execution_count": 33,
     "metadata": {},
     "output_type": "execute_result"
    }
   ],
   "source": [
    "##################### CREATING AN 1-D EMPTY ARRAY #####################\n",
    "\n",
    "np.empty(3)\n",
    "\n",
    "# Here shape define the shape and dimension of the array\n",
    "# Here dtype define the datatype of returned array"
   ]
  },
  {
   "cell_type": "code",
   "execution_count": 34,
   "id": "b457e18a",
   "metadata": {},
   "outputs": [
    {
     "data": {
      "text/plain": [
       "array([[912469920,     32765],\n",
       "       [912469728,     32765]])"
      ]
     },
     "execution_count": 34,
     "metadata": {},
     "output_type": "execute_result"
    }
   ],
   "source": [
    "##################### CREATING AN 2-D EMPTY ARRAY #####################\n",
    "\n",
    "np.empty(shape = [2,2], dtype = int)\n",
    "\n",
    "# Here shape define the shape and dimension of the array\n",
    "# Here dtype define the datatype of returned array"
   ]
  },
  {
   "cell_type": "code",
   "execution_count": 36,
   "id": "4ddaa956",
   "metadata": {},
   "outputs": [
    {
     "data": {
      "text/plain": [
       "array([[[4128860, 6029375, 3801155],\n",
       "        [5570652, 6619251, 7536754]],\n",
       "\n",
       "       [[7536732, 7077985, 7209077],\n",
       "        [4259932, 7340144, 6357060]]])"
      ]
     },
     "execution_count": 36,
     "metadata": {},
     "output_type": "execute_result"
    }
   ],
   "source": [
    "##################### CREATING AN 3-D EMPTY ARRAY #####################\n",
    "\n",
    "np.empty(shape = [2,2,3], dtype = int)\n",
    "\n",
    "# Here shape define the shape and dimension of the array\n",
    "# Here dtype define the datatype of returned array"
   ]
  },
  {
   "cell_type": "markdown",
   "id": "775babba",
   "metadata": {},
   "source": [
    "##### CREATING FULL ARRAY"
   ]
  },
  {
   "cell_type": "markdown",
   "id": "6d479581",
   "metadata": {},
   "source": [
    "##### - np.full() [np.Function()]"
   ]
  },
  {
   "cell_type": "markdown",
   "id": "aaaf3622",
   "metadata": {},
   "source": [
    "- Return a new array of given shape and type, filled with `fill_value`\n",
    "- `syntax`\n",
    "          np.full(shape, fill_value, dtype=None, order='C', *, like=None)"
   ]
  },
  {
   "cell_type": "code",
   "execution_count": 40,
   "id": "a33b2a1d",
   "metadata": {},
   "outputs": [
    {
     "data": {
      "text/plain": [
       "array([11, 11, 11, 11])"
      ]
     },
     "execution_count": 40,
     "metadata": {},
     "output_type": "execute_result"
    }
   ],
   "source": [
    "##################### CREATING AN 1-D FULL ARRAY #####################\n",
    "\n",
    "np.full(shape = [4], fill_value=11, dtype = int)\n",
    "\n",
    "# Here shape define the shape and dimension of the array\n",
    "# Here fill_value define the value which is to be fileld\n",
    "# Here dtype define the datatype of returned array"
   ]
  },
  {
   "cell_type": "code",
   "execution_count": 42,
   "id": "65eb52a6",
   "metadata": {},
   "outputs": [
    {
     "data": {
      "text/plain": [
       "array([[11, 11],\n",
       "       [11, 11]])"
      ]
     },
     "execution_count": 42,
     "metadata": {},
     "output_type": "execute_result"
    }
   ],
   "source": [
    "##################### CREATING AN 2-D FULL ARRAY #####################\n",
    "\n",
    "np.full(shape = [2,2], fill_value=11, dtype = int)\n",
    "\n",
    "# Here shape define the shape and dimension of the array\n",
    "# Here fill_value define the value which is to be fileld\n",
    "# Here dtype define the datatype of returned array"
   ]
  },
  {
   "cell_type": "code",
   "execution_count": 43,
   "id": "32a4f6e5",
   "metadata": {},
   "outputs": [
    {
     "data": {
      "text/plain": [
       "array([[[11, 11, 11],\n",
       "        [11, 11, 11]],\n",
       "\n",
       "       [[11, 11, 11],\n",
       "        [11, 11, 11]]])"
      ]
     },
     "execution_count": 43,
     "metadata": {},
     "output_type": "execute_result"
    }
   ],
   "source": [
    "##################### CREATING AN 3-D FULL ARRAY #####################\n",
    "\n",
    "np.full(shape = [2,2,3], fill_value=11, dtype = int)\n",
    "\n",
    "# Here shape define the shape and dimension of the array\n",
    "# Here fill_value define the value which is to be fileld\n",
    "# Here dtype define the datatype of returned array"
   ]
  },
  {
   "cell_type": "markdown",
   "id": "28a808cf",
   "metadata": {},
   "source": [
    "##### CREATING IDENTITY ARRAY "
   ]
  },
  {
   "cell_type": "markdown",
   "id": "dff5939b",
   "metadata": {},
   "source": [
    "##### - np.identity() [np.Function()]"
   ]
  },
  {
   "cell_type": "markdown",
   "id": "2aa62fea",
   "metadata": {},
   "source": [
    "- Return the identity array.\n",
    "- The identity array is a square array with ones on the main diagonal.\n",
    "- `syntax`\n",
    "          np.identity(n, dtype=None, *, like=None)"
   ]
  },
  {
   "cell_type": "code",
   "execution_count": 56,
   "id": "e6398324",
   "metadata": {},
   "outputs": [
    {
     "data": {
      "text/plain": [
       "array([[1, 0, 0, 0, 0],\n",
       "       [0, 1, 0, 0, 0],\n",
       "       [0, 0, 1, 0, 0],\n",
       "       [0, 0, 0, 1, 0],\n",
       "       [0, 0, 0, 0, 1]])"
      ]
     },
     "execution_count": 56,
     "metadata": {},
     "output_type": "execute_result"
    }
   ],
   "source": [
    "##################### CREATING AN IDENTITY ARRAY #####################\n",
    "\n",
    "np.identity((5),dtype = int)\n",
    "\n",
    "# Here first element `5` defines the range of rows,columns\n",
    "# Here dtype define the datatype of returned array"
   ]
  },
  {
   "cell_type": "code",
   "execution_count": 57,
   "id": "a5522c39",
   "metadata": {},
   "outputs": [
    {
     "ename": "TypeError",
     "evalue": "'tuple' object cannot be interpreted as an integer",
     "output_type": "error",
     "traceback": [
      "\u001b[1;31m---------------------------------------------------------------------------\u001b[0m",
      "\u001b[1;31mTypeError\u001b[0m                                 Traceback (most recent call last)",
      "Input \u001b[1;32mIn [57]\u001b[0m, in \u001b[0;36m<cell line: 1>\u001b[1;34m()\u001b[0m\n\u001b[1;32m----> 1\u001b[0m \u001b[43mnp\u001b[49m\u001b[38;5;241;43m.\u001b[39;49m\u001b[43midentity\u001b[49m\u001b[43m(\u001b[49m\u001b[43m(\u001b[49m\u001b[38;5;241;43m5\u001b[39;49m\u001b[43m,\u001b[49m\u001b[38;5;241;43m2\u001b[39;49m\u001b[43m)\u001b[49m\u001b[43m,\u001b[49m\u001b[43mdtype\u001b[49m\u001b[43m \u001b[49m\u001b[38;5;241;43m=\u001b[39;49m\u001b[43m \u001b[49m\u001b[38;5;28;43mint\u001b[39;49m\u001b[43m)\u001b[49m\n",
      "File \u001b[1;32m~\\anaconda3\\lib\\site-packages\\numpy\\core\\numeric.py:2167\u001b[0m, in \u001b[0;36midentity\u001b[1;34m(n, dtype, like)\u001b[0m\n\u001b[0;32m   2164\u001b[0m     \u001b[38;5;28;01mreturn\u001b[39;00m _identity_with_like(n, dtype\u001b[38;5;241m=\u001b[39mdtype, like\u001b[38;5;241m=\u001b[39mlike)\n\u001b[0;32m   2166\u001b[0m \u001b[38;5;28;01mfrom\u001b[39;00m \u001b[38;5;21;01mnumpy\u001b[39;00m \u001b[38;5;28;01mimport\u001b[39;00m eye\n\u001b[1;32m-> 2167\u001b[0m \u001b[38;5;28;01mreturn\u001b[39;00m \u001b[43meye\u001b[49m\u001b[43m(\u001b[49m\u001b[43mn\u001b[49m\u001b[43m,\u001b[49m\u001b[43m \u001b[49m\u001b[43mdtype\u001b[49m\u001b[38;5;241;43m=\u001b[39;49m\u001b[43mdtype\u001b[49m\u001b[43m,\u001b[49m\u001b[43m \u001b[49m\u001b[43mlike\u001b[49m\u001b[38;5;241;43m=\u001b[39;49m\u001b[43mlike\u001b[49m\u001b[43m)\u001b[49m\n",
      "File \u001b[1;32m~\\anaconda3\\lib\\site-packages\\numpy\\lib\\twodim_base.py:214\u001b[0m, in \u001b[0;36meye\u001b[1;34m(N, M, k, dtype, order, like)\u001b[0m\n\u001b[0;32m    212\u001b[0m \u001b[38;5;28;01mif\u001b[39;00m M \u001b[38;5;129;01mis\u001b[39;00m \u001b[38;5;28;01mNone\u001b[39;00m:\n\u001b[0;32m    213\u001b[0m     M \u001b[38;5;241m=\u001b[39m N\n\u001b[1;32m--> 214\u001b[0m m \u001b[38;5;241m=\u001b[39m \u001b[43mzeros\u001b[49m\u001b[43m(\u001b[49m\u001b[43m(\u001b[49m\u001b[43mN\u001b[49m\u001b[43m,\u001b[49m\u001b[43m \u001b[49m\u001b[43mM\u001b[49m\u001b[43m)\u001b[49m\u001b[43m,\u001b[49m\u001b[43m \u001b[49m\u001b[43mdtype\u001b[49m\u001b[38;5;241;43m=\u001b[39;49m\u001b[43mdtype\u001b[49m\u001b[43m,\u001b[49m\u001b[43m \u001b[49m\u001b[43morder\u001b[49m\u001b[38;5;241;43m=\u001b[39;49m\u001b[43morder\u001b[49m\u001b[43m)\u001b[49m\n\u001b[0;32m    215\u001b[0m \u001b[38;5;28;01mif\u001b[39;00m k \u001b[38;5;241m>\u001b[39m\u001b[38;5;241m=\u001b[39m M:\n\u001b[0;32m    216\u001b[0m     \u001b[38;5;28;01mreturn\u001b[39;00m m\n",
      "\u001b[1;31mTypeError\u001b[0m: 'tuple' object cannot be interpreted as an integer"
     ]
    }
   ],
   "source": [
    "np.identity((5,2),dtype = int)"
   ]
  },
  {
   "cell_type": "markdown",
   "id": "f140a1d2",
   "metadata": {},
   "source": [
    "##### EYE FUNCTION IN IDENTITY MATRIX"
   ]
  },
  {
   "cell_type": "markdown",
   "id": "c3d312da",
   "metadata": {},
   "source": [
    "##### - np.eye() [np.Function()]"
   ]
  },
  {
   "cell_type": "markdown",
   "id": "cb444bff",
   "metadata": {},
   "source": [
    "- Return a 2-D array with ones on the diagonal and zeros elsewhere.\n",
    "- `syntax`\n",
    "          np.eye(N, M=None, k=0, dtype=<class 'float'>, order='C', *, like=None)\n",
    "          \n",
    "            N : Number of rows in the output.\n",
    "            M : Number of columns in the output. If None, defaults to `N`.\n",
    "            k : Index of the diagonal a positive value refers to an upper diagonal, and a          negative value to a lower diagonal.\n",
    "            dtype : Data-type of the returned array.\n",
    "            "
   ]
  },
  {
   "cell_type": "code",
   "execution_count": 3,
   "id": "274d4651",
   "metadata": {},
   "outputs": [
    {
     "data": {
      "text/plain": [
       "array([[1., 0., 0., 0., 0.],\n",
       "       [0., 1., 0., 0., 0.],\n",
       "       [0., 0., 1., 0., 0.],\n",
       "       [0., 0., 0., 1., 0.],\n",
       "       [0., 0., 0., 0., 1.]])"
      ]
     },
     "execution_count": 3,
     "metadata": {},
     "output_type": "execute_result"
    }
   ],
   "source": [
    "np.eye(5)\n",
    "\n",
    "# Here 5 defines that both the rows and columns range \n",
    "# np.eye(single element) generate an identity matrix"
   ]
  },
  {
   "cell_type": "code",
   "execution_count": 4,
   "id": "7a662744",
   "metadata": {},
   "outputs": [
    {
     "data": {
      "text/plain": [
       "array([[0., 0., 1., 0., 0.],\n",
       "       [0., 0., 0., 1., 0.],\n",
       "       [0., 0., 0., 0., 1.],\n",
       "       [0., 0., 0., 0., 0.]])"
      ]
     },
     "execution_count": 4,
     "metadata": {},
     "output_type": "execute_result"
    }
   ],
   "source": [
    "np.eye(4,5,2)\n",
    "\n",
    "# Here 1st element defines the number of rows\n",
    "# Here 2nd element defines the  number of columns\n",
    "# Here 3rd elements define the index of diagonal to be shift to upper side with 2 steps"
   ]
  },
  {
   "cell_type": "code",
   "execution_count": 5,
   "id": "0400565d",
   "metadata": {},
   "outputs": [
    {
     "data": {
      "text/plain": [
       "array([[0., 0., 0., 0., 0.],\n",
       "       [0., 0., 0., 0., 0.],\n",
       "       [1., 0., 0., 0., 0.],\n",
       "       [0., 1., 0., 0., 0.]])"
      ]
     },
     "execution_count": 5,
     "metadata": {},
     "output_type": "execute_result"
    }
   ],
   "source": [
    "np.eye(4,5,-2)\n",
    "\n",
    "# Here 1st element defines the number of rows\n",
    "# Here 2nd element defines the  number of columns\n",
    "# Here 3rd elements define the index of diagonal to be shift to lower side with -2 steps"
   ]
  },
  {
   "cell_type": "markdown",
   "id": "75a46965",
   "metadata": {},
   "source": [
    "##### RESHAPE FUNCTION IN ARRAY"
   ]
  },
  {
   "cell_type": "markdown",
   "id": "8bd834ad",
   "metadata": {},
   "source": [
    "- Reshape() function is used to change the shape of an array without changing its data \n",
    "- The function returns a new array with same data but with different shape.\n",
    "- syntax\n",
    "            np.reshape(a, newshape, order='C')"
   ]
  },
  {
   "cell_type": "code",
   "execution_count": 7,
   "id": "e3452a57",
   "metadata": {},
   "outputs": [
    {
     "data": {
      "text/plain": [
       "array([1, 2, 3, 4])"
      ]
     },
     "execution_count": 7,
     "metadata": {},
     "output_type": "execute_result"
    }
   ],
   "source": [
    "a = np.array([1,2,3,4])\n",
    "a"
   ]
  },
  {
   "cell_type": "code",
   "execution_count": 12,
   "id": "17ed5cc3",
   "metadata": {},
   "outputs": [
    {
     "data": {
      "text/plain": [
       "array([[1, 2],\n",
       "       [3, 4]])"
      ]
     },
     "execution_count": 12,
     "metadata": {},
     "output_type": "execute_result"
    }
   ],
   "source": [
    "##################### 1-D array reshaping to 2-D array #####################\n",
    "\n",
    "np.reshape(a,[2,2])\n",
    "\n",
    "# Here the first element `a` defines the array \n",
    "# Here the second element `[2,2]` defines the new array shape which we want"
   ]
  },
  {
   "cell_type": "code",
   "execution_count": 13,
   "id": "0eecd7a6",
   "metadata": {},
   "outputs": [
    {
     "data": {
      "text/plain": [
       "array([[1],\n",
       "       [2],\n",
       "       [3],\n",
       "       [4]])"
      ]
     },
     "execution_count": 13,
     "metadata": {},
     "output_type": "execute_result"
    }
   ],
   "source": [
    "np.reshape(a,[4,1])"
   ]
  },
  {
   "cell_type": "code",
   "execution_count": 14,
   "id": "c6a848a7",
   "metadata": {},
   "outputs": [
    {
     "data": {
      "text/plain": [
       "array([[1, 2, 3],\n",
       "       [4, 5, 6]])"
      ]
     },
     "execution_count": 14,
     "metadata": {},
     "output_type": "execute_result"
    }
   ],
   "source": [
    "a = np.array([[1,2,3],[4,5,6]])\n",
    "a"
   ]
  },
  {
   "cell_type": "code",
   "execution_count": 21,
   "id": "670a71c8",
   "metadata": {},
   "outputs": [
    {
     "data": {
      "text/plain": [
       "array([[1, 2, 3, 4, 5, 6]])"
      ]
     },
     "execution_count": 21,
     "metadata": {},
     "output_type": "execute_result"
    }
   ],
   "source": [
    "##################### 2-D array reshaping to 2-D array #####################\n",
    "\n",
    "np.reshape(a,[1,6])\n",
    "# Here the first element `a` defines the array \n",
    "# Here the second element `[1,6]` defines the new array shape which we want"
   ]
  },
  {
   "cell_type": "code",
   "execution_count": 22,
   "id": "e384a0aa",
   "metadata": {},
   "outputs": [
    {
     "data": {
      "text/plain": [
       "array([[1, 2],\n",
       "       [3, 4],\n",
       "       [5, 6]])"
      ]
     },
     "execution_count": 22,
     "metadata": {},
     "output_type": "execute_result"
    }
   ],
   "source": [
    "np.reshape(a,[3,2])"
   ]
  },
  {
   "cell_type": "code",
   "execution_count": 26,
   "id": "26c69756",
   "metadata": {},
   "outputs": [
    {
     "ename": "ValueError",
     "evalue": "cannot reshape array of size 1 into shape (2,)",
     "output_type": "error",
     "traceback": [
      "\u001b[1;31m---------------------------------------------------------------------------\u001b[0m",
      "\u001b[1;31mValueError\u001b[0m                                Traceback (most recent call last)",
      "Input \u001b[1;32mIn [26]\u001b[0m, in \u001b[0;36m<cell line: 1>\u001b[1;34m()\u001b[0m\n\u001b[1;32m----> 1\u001b[0m \u001b[43mnp\u001b[49m\u001b[38;5;241;43m.\u001b[39;49m\u001b[43mreshape\u001b[49m\u001b[43m(\u001b[49m\u001b[38;5;241;43m2\u001b[39;49m\u001b[43m,\u001b[49m\u001b[38;5;241;43m2\u001b[39;49m\u001b[43m)\u001b[49m\n",
      "File \u001b[1;32m<__array_function__ internals>:5\u001b[0m, in \u001b[0;36mreshape\u001b[1;34m(*args, **kwargs)\u001b[0m\n",
      "File \u001b[1;32m~\\anaconda3\\lib\\site-packages\\numpy\\core\\fromnumeric.py:298\u001b[0m, in \u001b[0;36mreshape\u001b[1;34m(a, newshape, order)\u001b[0m\n\u001b[0;32m    198\u001b[0m \u001b[38;5;129m@array_function_dispatch\u001b[39m(_reshape_dispatcher)\n\u001b[0;32m    199\u001b[0m \u001b[38;5;28;01mdef\u001b[39;00m \u001b[38;5;21mreshape\u001b[39m(a, newshape, order\u001b[38;5;241m=\u001b[39m\u001b[38;5;124m'\u001b[39m\u001b[38;5;124mC\u001b[39m\u001b[38;5;124m'\u001b[39m):\n\u001b[0;32m    200\u001b[0m     \u001b[38;5;124;03m\"\"\"\u001b[39;00m\n\u001b[0;32m    201\u001b[0m \u001b[38;5;124;03m    Gives a new shape to an array without changing its data.\u001b[39;00m\n\u001b[0;32m    202\u001b[0m \n\u001b[1;32m   (...)\u001b[0m\n\u001b[0;32m    296\u001b[0m \u001b[38;5;124;03m           [5, 6]])\u001b[39;00m\n\u001b[0;32m    297\u001b[0m \u001b[38;5;124;03m    \"\"\"\u001b[39;00m\n\u001b[1;32m--> 298\u001b[0m     \u001b[38;5;28;01mreturn\u001b[39;00m \u001b[43m_wrapfunc\u001b[49m\u001b[43m(\u001b[49m\u001b[43ma\u001b[49m\u001b[43m,\u001b[49m\u001b[43m \u001b[49m\u001b[38;5;124;43m'\u001b[39;49m\u001b[38;5;124;43mreshape\u001b[39;49m\u001b[38;5;124;43m'\u001b[39;49m\u001b[43m,\u001b[49m\u001b[43m \u001b[49m\u001b[43mnewshape\u001b[49m\u001b[43m,\u001b[49m\u001b[43m \u001b[49m\u001b[43morder\u001b[49m\u001b[38;5;241;43m=\u001b[39;49m\u001b[43morder\u001b[49m\u001b[43m)\u001b[49m\n",
      "File \u001b[1;32m~\\anaconda3\\lib\\site-packages\\numpy\\core\\fromnumeric.py:54\u001b[0m, in \u001b[0;36m_wrapfunc\u001b[1;34m(obj, method, *args, **kwds)\u001b[0m\n\u001b[0;32m     52\u001b[0m bound \u001b[38;5;241m=\u001b[39m \u001b[38;5;28mgetattr\u001b[39m(obj, method, \u001b[38;5;28;01mNone\u001b[39;00m)\n\u001b[0;32m     53\u001b[0m \u001b[38;5;28;01mif\u001b[39;00m bound \u001b[38;5;129;01mis\u001b[39;00m \u001b[38;5;28;01mNone\u001b[39;00m:\n\u001b[1;32m---> 54\u001b[0m     \u001b[38;5;28;01mreturn\u001b[39;00m _wrapit(obj, method, \u001b[38;5;241m*\u001b[39margs, \u001b[38;5;241m*\u001b[39m\u001b[38;5;241m*\u001b[39mkwds)\n\u001b[0;32m     56\u001b[0m \u001b[38;5;28;01mtry\u001b[39;00m:\n\u001b[0;32m     57\u001b[0m     \u001b[38;5;28;01mreturn\u001b[39;00m bound(\u001b[38;5;241m*\u001b[39margs, \u001b[38;5;241m*\u001b[39m\u001b[38;5;241m*\u001b[39mkwds)\n",
      "File \u001b[1;32m~\\anaconda3\\lib\\site-packages\\numpy\\core\\fromnumeric.py:43\u001b[0m, in \u001b[0;36m_wrapit\u001b[1;34m(obj, method, *args, **kwds)\u001b[0m\n\u001b[0;32m     41\u001b[0m \u001b[38;5;28;01mexcept\u001b[39;00m \u001b[38;5;167;01mAttributeError\u001b[39;00m:\n\u001b[0;32m     42\u001b[0m     wrap \u001b[38;5;241m=\u001b[39m \u001b[38;5;28;01mNone\u001b[39;00m\n\u001b[1;32m---> 43\u001b[0m result \u001b[38;5;241m=\u001b[39m \u001b[38;5;28mgetattr\u001b[39m(asarray(obj), method)(\u001b[38;5;241m*\u001b[39margs, \u001b[38;5;241m*\u001b[39m\u001b[38;5;241m*\u001b[39mkwds)\n\u001b[0;32m     44\u001b[0m \u001b[38;5;28;01mif\u001b[39;00m wrap:\n\u001b[0;32m     45\u001b[0m     \u001b[38;5;28;01mif\u001b[39;00m \u001b[38;5;129;01mnot\u001b[39;00m \u001b[38;5;28misinstance\u001b[39m(result, mu\u001b[38;5;241m.\u001b[39mndarray):\n",
      "\u001b[1;31mValueError\u001b[0m: cannot reshape array of size 1 into shape (2,)"
     ]
    }
   ],
   "source": [
    "np.reshape(2,2)"
   ]
  },
  {
   "cell_type": "code",
   "execution_count": 27,
   "id": "a0abf5cd",
   "metadata": {},
   "outputs": [
    {
     "data": {
      "text/plain": [
       "array([[[ 1,  2,  3],\n",
       "        [ 4,  5,  6]],\n",
       "\n",
       "       [[ 7,  8,  9],\n",
       "        [ 0, -1, -2]]])"
      ]
     },
     "execution_count": 27,
     "metadata": {},
     "output_type": "execute_result"
    }
   ],
   "source": [
    "a = np.array([[[1,2,3],[4,5,6]],[[7,8,9],[0,-1,-2]]])\n",
    "a"
   ]
  },
  {
   "cell_type": "code",
   "execution_count": null,
   "id": "15d66832",
   "metadata": {},
   "outputs": [],
   "source": [
    "##################### 3-D array reshaping #####################"
   ]
  },
  {
   "cell_type": "code",
   "execution_count": 31,
   "id": "66623a47",
   "metadata": {},
   "outputs": [
    {
     "data": {
      "text/plain": [
       "array([[ 1,  2,  3],\n",
       "       [ 4,  5,  6],\n",
       "       [ 7,  8,  9],\n",
       "       [ 0, -1, -2]])"
      ]
     },
     "execution_count": 31,
     "metadata": {},
     "output_type": "execute_result"
    }
   ],
   "source": [
    "np.reshape(a,[4,3])\n",
    "\n",
    "# Here the first element `a` defines the array \n",
    "# Here the second element `[4,3]` defines the new array shape which we want"
   ]
  },
  {
   "cell_type": "code",
   "execution_count": 39,
   "id": "4f86c86f",
   "metadata": {},
   "outputs": [
    {
     "data": {
      "text/plain": [
       "array([[[ 1,  2],\n",
       "        [ 3,  4],\n",
       "        [ 5,  6]],\n",
       "\n",
       "       [[ 7,  8],\n",
       "        [ 9,  0],\n",
       "        [-1, -2]]])"
      ]
     },
     "execution_count": 39,
     "metadata": {},
     "output_type": "execute_result"
    }
   ],
   "source": [
    "np.reshape(a,[2,3,2])\n",
    "# Here the first element `a` defines the array \n",
    "# Here the second element `[2,3,2]` defines the new array shape which we want"
   ]
  },
  {
   "cell_type": "code",
   "execution_count": 35,
   "id": "100bb01a",
   "metadata": {},
   "outputs": [
    {
     "data": {
      "text/plain": [
       "array([[ 1,  2],\n",
       "       [ 3,  4],\n",
       "       [ 5,  6],\n",
       "       [ 7,  8],\n",
       "       [ 9,  0],\n",
       "       [-1, -2]])"
      ]
     },
     "execution_count": 35,
     "metadata": {},
     "output_type": "execute_result"
    }
   ],
   "source": [
    "np.reshape(a,[6,2])"
   ]
  },
  {
   "cell_type": "code",
   "execution_count": 36,
   "id": "4279e28d",
   "metadata": {},
   "outputs": [
    {
     "data": {
      "text/plain": [
       "array([[ 1,  2,  3,  4,  5,  6,  7,  8,  9,  0, -1, -2]])"
      ]
     },
     "execution_count": 36,
     "metadata": {},
     "output_type": "execute_result"
    }
   ],
   "source": [
    "np.reshape(a,[1,12])"
   ]
  },
  {
   "cell_type": "code",
   "execution_count": 37,
   "id": "9cd536e3",
   "metadata": {},
   "outputs": [
    {
     "data": {
      "text/plain": [
       "array([[ 1],\n",
       "       [ 2],\n",
       "       [ 3],\n",
       "       [ 4],\n",
       "       [ 5],\n",
       "       [ 6],\n",
       "       [ 7],\n",
       "       [ 8],\n",
       "       [ 9],\n",
       "       [ 0],\n",
       "       [-1],\n",
       "       [-2]])"
      ]
     },
     "execution_count": 37,
     "metadata": {},
     "output_type": "execute_result"
    }
   ],
   "source": [
    "np.reshape(a,[12,1])"
   ]
  },
  {
   "cell_type": "code",
   "execution_count": 38,
   "id": "deae3aef",
   "metadata": {},
   "outputs": [
    {
     "data": {
      "text/plain": [
       "array([[[ 1,  2],\n",
       "        [ 3,  4]],\n",
       "\n",
       "       [[ 5,  6],\n",
       "        [ 7,  8]],\n",
       "\n",
       "       [[ 9,  0],\n",
       "        [-1, -2]]])"
      ]
     },
     "execution_count": 38,
     "metadata": {},
     "output_type": "execute_result"
    }
   ],
   "source": [
    "np.reshape(a,[3,2,2])"
   ]
  },
  {
   "cell_type": "markdown",
   "id": "f234d135",
   "metadata": {},
   "source": [
    "##### MIN() FUNCTION IN ARRAY"
   ]
  },
  {
   "cell_type": "markdown",
   "id": "5757f20d",
   "metadata": {},
   "source": [
    "- The min() returns the minimum value present in the array\n",
    "- syntax\n",
    "            numpy_array.min(axis=None, out=None, keepdims=False, initial=<no value>, where=True)\n"
   ]
  },
  {
   "cell_type": "code",
   "execution_count": 41,
   "id": "0451fa95",
   "metadata": {},
   "outputs": [
    {
     "data": {
      "text/plain": [
       "(array([ 10000,   2000,  45000, 980000,   1000,  75500]),\n",
       " array([[1, 3, 4],\n",
       "        [6, 7, 8]]),\n",
       " array([[[ 1,  3,  4],\n",
       "         [ 6,  7,  8]],\n",
       " \n",
       "        [[11,  3, 45],\n",
       "         [ 5,  0, 40]]]))"
      ]
     },
     "execution_count": 41,
     "metadata": {},
     "output_type": "execute_result"
    }
   ],
   "source": [
    "a = np.array([10000,2000,45000,980000,1000,75500])\n",
    "b = np.array([[1,3,4],[6,7,8]])\n",
    "c = np.array([[[1,3,4],[6,7,8]],[[11,3,45],[5,0,40]]])\n",
    "a,b,c"
   ]
  },
  {
   "cell_type": "code",
   "execution_count": 42,
   "id": "8ac6b2e9",
   "metadata": {},
   "outputs": [
    {
     "data": {
      "text/plain": [
       "(1000, 1, 0)"
      ]
     },
     "execution_count": 42,
     "metadata": {},
     "output_type": "execute_result"
    }
   ],
   "source": [
    "a.min(),b.min(),c.min()"
   ]
  },
  {
   "cell_type": "markdown",
   "id": "c13bbc54",
   "metadata": {},
   "source": [
    "##### MAX() FUNCTION IN ARRAY"
   ]
  },
  {
   "cell_type": "markdown",
   "id": "2944a890",
   "metadata": {},
   "source": [
    "- The max() returns the maximum value from the array\n",
    "- syntax\n",
    "          numpy_array.max(axis=None, out=None, keepdims=False, initial=<no value>, where=True)  "
   ]
  },
  {
   "cell_type": "code",
   "execution_count": 43,
   "id": "b02eedd9",
   "metadata": {},
   "outputs": [
    {
     "data": {
      "text/plain": [
       "(array([ 10000,   2000,  45000, 980000,   1000,  75500]),\n",
       " array([[1, 3, 4],\n",
       "        [6, 7, 8]]),\n",
       " array([[[ 1,  3,  4],\n",
       "         [ 6,  7,  8]],\n",
       " \n",
       "        [[11,  3, 45],\n",
       "         [ 5,  0, 40]]]))"
      ]
     },
     "execution_count": 43,
     "metadata": {},
     "output_type": "execute_result"
    }
   ],
   "source": [
    "a = np.array([10000,2000,45000,980000,1000,75500])\n",
    "b = np.array([[1,3,4],[6,7,8]])\n",
    "c = np.array([[[1,3,4],[6,7,8]],[[11,3,45],[5,0,40]]])\n",
    "a,b,c"
   ]
  },
  {
   "cell_type": "code",
   "execution_count": 44,
   "id": "a886014a",
   "metadata": {},
   "outputs": [
    {
     "data": {
      "text/plain": [
       "(980000, 8, 45)"
      ]
     },
     "execution_count": 44,
     "metadata": {},
     "output_type": "execute_result"
    }
   ],
   "source": [
    "a.max(),b.max(),c.max()"
   ]
  },
  {
   "cell_type": "markdown",
   "id": "9b278775",
   "metadata": {},
   "source": [
    "##### VAR() FUNCTION IN ARRAY"
   ]
  },
  {
   "cell_type": "markdown",
   "id": "5e20c65e",
   "metadata": {},
   "source": [
    "- The var() returns the variance of all the elements in the array\n",
    "- syntax\n",
    "        numpy_array.var(axis=None, dtype=None, out=None, ddof=0, keepdims=False, *, where=True)"
   ]
  },
  {
   "cell_type": "code",
   "execution_count": 63,
   "id": "4a5d0f39",
   "metadata": {},
   "outputs": [
    {
     "data": {
      "text/plain": [
       "(array([ 10000,   2000,  45000, 980000,   1000,  75500]),\n",
       " array([[1, 3, 4],\n",
       "        [6, 7, 8]]),\n",
       " array([[[ 1,  3,  4],\n",
       "         [ 6,  7,  8]],\n",
       " \n",
       "        [[11,  3, 45],\n",
       "         [ 5,  0, 40]]]))"
      ]
     },
     "execution_count": 63,
     "metadata": {},
     "output_type": "execute_result"
    }
   ],
   "source": [
    "a = np.array([10000,2000,45000,980000,1000,75500])\n",
    "b = np.array([[1,3,4],[6,7,8]])\n",
    "c = np.array([[[1,3,4],[6,7,8]],[[11,3,45],[5,0,40]]])\n",
    "a,b,c"
   ]
  },
  {
   "cell_type": "code",
   "execution_count": 46,
   "id": "87dc1e88",
   "metadata": {},
   "outputs": [
    {
     "data": {
      "text/plain": [
       "(126930534722.22223, 5.805555555555556, 206.74305555555554)"
      ]
     },
     "execution_count": 46,
     "metadata": {},
     "output_type": "execute_result"
    }
   ],
   "source": [
    "a.var(),b.var(),c.var()"
   ]
  },
  {
   "cell_type": "markdown",
   "id": "ea5d2453",
   "metadata": {},
   "source": [
    "##### STD() FUNCTION IN ARRAY"
   ]
  },
  {
   "cell_type": "markdown",
   "id": "9d1e80c0",
   "metadata": {},
   "source": [
    "- The std() returns the standard deviation of all the elements in the array\n",
    "- syntax\n",
    "        numpy_array.std(axis=None, dtype=None, out=None, ddof=0, keepdims=False, *, where=True)"
   ]
  },
  {
   "cell_type": "code",
   "execution_count": 64,
   "id": "5c93d7b1",
   "metadata": {},
   "outputs": [
    {
     "data": {
      "text/plain": [
       "(array([ 10000,   2000,  45000, 980000,   1000,  75500]),\n",
       " array([[1, 3, 4],\n",
       "        [6, 7, 8]]),\n",
       " array([[[ 1,  3,  4],\n",
       "         [ 6,  7,  8]],\n",
       " \n",
       "        [[11,  3, 45],\n",
       "         [ 5,  0, 40]]]))"
      ]
     },
     "execution_count": 64,
     "metadata": {},
     "output_type": "execute_result"
    }
   ],
   "source": [
    "a = np.array([10000,2000,45000,980000,1000,75500])\n",
    "b = np.array([[1,3,4],[6,7,8]])\n",
    "c = np.array([[[1,3,4],[6,7,8]],[[11,3,45],[5,0,40]]])\n",
    "a,b,c"
   ]
  },
  {
   "cell_type": "code",
   "execution_count": 48,
   "id": "8dcb77d9",
   "metadata": {},
   "outputs": [
    {
     "data": {
      "text/plain": [
       "(356273.1181582779, 2.4094720491334933, 14.378562360526713)"
      ]
     },
     "execution_count": 48,
     "metadata": {},
     "output_type": "execute_result"
    }
   ],
   "source": [
    "a.std(),b.std(),c.std()"
   ]
  },
  {
   "cell_type": "markdown",
   "id": "38a30c54",
   "metadata": {},
   "source": [
    "##### NP.SQUARE() FUNCTION IN ARRAY"
   ]
  },
  {
   "cell_type": "markdown",
   "id": "8e3e93fe",
   "metadata": {},
   "source": [
    "- The square() returns the square of all the elements in the array\n",
    "- syntax\n",
    "        np.square(*args, **kwargs)"
   ]
  },
  {
   "cell_type": "code",
   "execution_count": 65,
   "id": "515f8e13",
   "metadata": {},
   "outputs": [
    {
     "data": {
      "text/plain": [
       "(array([ 10000,   2000,  45000, 980000,   1000,  75500]),\n",
       " array([[1, 3, 4],\n",
       "        [6, 7, 8]]),\n",
       " array([[[ 1,  3,  4],\n",
       "         [ 6,  7,  8]],\n",
       " \n",
       "        [[11,  3, 45],\n",
       "         [ 5,  0, 40]]]))"
      ]
     },
     "execution_count": 65,
     "metadata": {},
     "output_type": "execute_result"
    }
   ],
   "source": [
    "a = np.array([10000,2000,45000,980000,1000,75500])\n",
    "b = np.array([[1,3,4],[6,7,8]])\n",
    "c = np.array([[[1,3,4],[6,7,8]],[[11,3,45],[5,0,40]]])\n",
    "a,b,c"
   ]
  },
  {
   "cell_type": "code",
   "execution_count": 52,
   "id": "ecdb2c23",
   "metadata": {},
   "outputs": [
    {
     "data": {
      "text/plain": [
       "array([  100000000,     4000000,  2025000000, -1672674304,     1000000,\n",
       "        1405282704], dtype=int32)"
      ]
     },
     "execution_count": 52,
     "metadata": {},
     "output_type": "execute_result"
    }
   ],
   "source": [
    "np.square(a)"
   ]
  },
  {
   "cell_type": "code",
   "execution_count": 53,
   "id": "774e9641",
   "metadata": {},
   "outputs": [
    {
     "data": {
      "text/plain": [
       "array([[ 1,  9, 16],\n",
       "       [36, 49, 64]], dtype=int32)"
      ]
     },
     "execution_count": 53,
     "metadata": {},
     "output_type": "execute_result"
    }
   ],
   "source": [
    "np.square(b)"
   ]
  },
  {
   "cell_type": "code",
   "execution_count": 54,
   "id": "3dab38de",
   "metadata": {},
   "outputs": [
    {
     "data": {
      "text/plain": [
       "array([[[   1,    9,   16],\n",
       "        [  36,   49,   64]],\n",
       "\n",
       "       [[ 121,    9, 2025],\n",
       "        [  25,    0, 1600]]], dtype=int32)"
      ]
     },
     "execution_count": 54,
     "metadata": {},
     "output_type": "execute_result"
    }
   ],
   "source": [
    "np.square(c)"
   ]
  },
  {
   "cell_type": "markdown",
   "id": "37813d92",
   "metadata": {},
   "source": [
    "##### NP.POWER() FUNCTION IN ARRAY"
   ]
  },
  {
   "cell_type": "markdown",
   "id": "e062d353",
   "metadata": {},
   "source": [
    "- The np.power() returns the power of each element in the array to the given power value\n",
    "- syntax \n",
    "        np.power(*args, **kwargs)"
   ]
  },
  {
   "cell_type": "code",
   "execution_count": 66,
   "id": "a0245a3c",
   "metadata": {},
   "outputs": [
    {
     "data": {
      "text/plain": [
       "(array([ 10000,   2000,  45000, 980000,   1000,  75500]),\n",
       " array([[1, 3, 4],\n",
       "        [6, 7, 8]]),\n",
       " array([[[ 1,  3,  4],\n",
       "         [ 6,  7,  8]],\n",
       " \n",
       "        [[11,  3, 45],\n",
       "         [ 5,  0, 40]]]))"
      ]
     },
     "execution_count": 66,
     "metadata": {},
     "output_type": "execute_result"
    }
   ],
   "source": [
    "a = np.array([10000,2000,45000,980000,1000,75500])\n",
    "b = np.array([[1,3,4],[6,7,8]])\n",
    "c = np.array([[[1,3,4],[6,7,8]],[[11,3,45],[5,0,40]]])\n",
    "a,b,c"
   ]
  },
  {
   "cell_type": "code",
   "execution_count": 57,
   "id": "e8c7e609",
   "metadata": {},
   "outputs": [
    {
     "data": {
      "text/plain": [
       "array([  100000000,     4000000,  2025000000, -1672674304,     1000000,\n",
       "        1405282704], dtype=int32)"
      ]
     },
     "execution_count": 57,
     "metadata": {},
     "output_type": "execute_result"
    }
   ],
   "source": [
    "np.power(a,2)\n",
    "\n",
    "# Here first element defines the array assigned variable\n",
    "# Here second element defines the power (ie. x**2)"
   ]
  },
  {
   "cell_type": "code",
   "execution_count": 58,
   "id": "65654ce3",
   "metadata": {},
   "outputs": [
    {
     "data": {
      "text/plain": [
       "array([[ 1,  9, 16],\n",
       "       [36, 49, 64]], dtype=int32)"
      ]
     },
     "execution_count": 58,
     "metadata": {},
     "output_type": "execute_result"
    }
   ],
   "source": [
    "np.power(b,2)"
   ]
  },
  {
   "cell_type": "code",
   "execution_count": 59,
   "id": "109d800f",
   "metadata": {},
   "outputs": [
    {
     "data": {
      "text/plain": [
       "array([[[   1,    9,   16],\n",
       "        [  36,   49,   64]],\n",
       "\n",
       "       [[ 121,    9, 2025],\n",
       "        [  25,    0, 1600]]], dtype=int32)"
      ]
     },
     "execution_count": 59,
     "metadata": {},
     "output_type": "execute_result"
    }
   ],
   "source": [
    "np.power(c,2)"
   ]
  },
  {
   "cell_type": "markdown",
   "id": "a266ae92",
   "metadata": {},
   "source": [
    "##### NP.TRANSPOSE() IN ARRAY"
   ]
  },
  {
   "cell_type": "markdown",
   "id": "0835adce",
   "metadata": {},
   "source": [
    "- The np.transpose() reverse the dimension of array\n",
    "- syntax\n",
    "        np.transpose(a, axes=None)"
   ]
  },
  {
   "cell_type": "code",
   "execution_count": 67,
   "id": "fa4b4169",
   "metadata": {},
   "outputs": [
    {
     "data": {
      "text/plain": [
       "(array([ 10000,   2000,  45000, 980000,   1000,  75500]),\n",
       " array([[1, 3, 4],\n",
       "        [6, 7, 8]]),\n",
       " array([[[ 1,  3,  4],\n",
       "         [ 6,  7,  8]],\n",
       " \n",
       "        [[11,  3, 45],\n",
       "         [ 5,  0, 40]]]))"
      ]
     },
     "execution_count": 67,
     "metadata": {},
     "output_type": "execute_result"
    }
   ],
   "source": [
    "a = np.array([10000,2000,45000,980000,1000,75500])\n",
    "b = np.array([[1,3,4],[6,7,8]])\n",
    "c = np.array([[[1,3,4],[6,7,8]],[[11,3,45],[5,0,40]]])\n",
    "a,b,c"
   ]
  },
  {
   "cell_type": "code",
   "execution_count": 60,
   "id": "6efb7f3f",
   "metadata": {},
   "outputs": [
    {
     "data": {
      "text/plain": [
       "array([ 10000,   2000,  45000, 980000,   1000,  75500])"
      ]
     },
     "execution_count": 60,
     "metadata": {},
     "output_type": "execute_result"
    }
   ],
   "source": [
    "np.transpose(a)"
   ]
  },
  {
   "cell_type": "code",
   "execution_count": 61,
   "id": "d8ad010e",
   "metadata": {},
   "outputs": [
    {
     "data": {
      "text/plain": [
       "array([[1, 6],\n",
       "       [3, 7],\n",
       "       [4, 8]])"
      ]
     },
     "execution_count": 61,
     "metadata": {},
     "output_type": "execute_result"
    }
   ],
   "source": [
    "np.transpose(b)"
   ]
  },
  {
   "cell_type": "code",
   "execution_count": 62,
   "id": "81d42c34",
   "metadata": {},
   "outputs": [
    {
     "data": {
      "text/plain": [
       "array([[[ 1, 11],\n",
       "        [ 6,  5]],\n",
       "\n",
       "       [[ 3,  3],\n",
       "        [ 7,  0]],\n",
       "\n",
       "       [[ 4, 45],\n",
       "        [ 8, 40]]])"
      ]
     },
     "execution_count": 62,
     "metadata": {},
     "output_type": "execute_result"
    }
   ],
   "source": [
    "np.transpose(c)"
   ]
  },
  {
   "cell_type": "markdown",
   "id": "07c88d60",
   "metadata": {},
   "source": [
    "##### CONCATENATE FUNCTION IN ARRAY"
   ]
  },
  {
   "cell_type": "markdown",
   "id": "f66b049f",
   "metadata": {},
   "source": [
    "- Join a sequence of arrays along an existing axis.\n",
    "- syntax\n",
    "        np.concatenate((a1, a2, ...), axis=0, out=None, dtype=None, casting=\"same_kind\")\n",
    "\n"
   ]
  },
  {
   "cell_type": "code",
   "execution_count": 69,
   "id": "c9d4c8e8",
   "metadata": {},
   "outputs": [
    {
     "data": {
      "text/plain": [
       "(array([ 10000,   2000,  45000, 980000,   1000,  75500]),\n",
       " array([[1, 3, 4],\n",
       "        [6, 7, 8]]),\n",
       " array([[[ 1,  3,  4],\n",
       "         [ 6,  7,  8]],\n",
       " \n",
       "        [[11,  3, 45],\n",
       "         [ 5,  0, 40]]]))"
      ]
     },
     "execution_count": 69,
     "metadata": {},
     "output_type": "execute_result"
    }
   ],
   "source": [
    "a = np.array([10000,2000,45000,980000,1000,75500])\n",
    "b = np.array([[1,3,4],[6,7,8]])\n",
    "c = np.array([[[1,3,4],[6,7,8]],[[11,3,45],[5,0,40]]])\n",
    "a,b,c"
   ]
  },
  {
   "cell_type": "code",
   "execution_count": 70,
   "id": "a4415a1f",
   "metadata": {},
   "outputs": [
    {
     "ename": "TypeError",
     "evalue": "only integer scalar arrays can be converted to a scalar index",
     "output_type": "error",
     "traceback": [
      "\u001b[1;31m---------------------------------------------------------------------------\u001b[0m",
      "\u001b[1;31mTypeError\u001b[0m                                 Traceback (most recent call last)",
      "Input \u001b[1;32mIn [70]\u001b[0m, in \u001b[0;36m<cell line: 1>\u001b[1;34m()\u001b[0m\n\u001b[1;32m----> 1\u001b[0m \u001b[43mnp\u001b[49m\u001b[38;5;241;43m.\u001b[39;49m\u001b[43mconcatenate\u001b[49m\u001b[43m(\u001b[49m\u001b[43ma\u001b[49m\u001b[43m,\u001b[49m\u001b[43mb\u001b[49m\u001b[43m)\u001b[49m\n",
      "File \u001b[1;32m<__array_function__ internals>:5\u001b[0m, in \u001b[0;36mconcatenate\u001b[1;34m(*args, **kwargs)\u001b[0m\n",
      "\u001b[1;31mTypeError\u001b[0m: only integer scalar arrays can be converted to a scalar index"
     ]
    }
   ],
   "source": [
    "np.concatenate(a,b)"
   ]
  },
  {
   "cell_type": "markdown",
   "id": "51c7be40",
   "metadata": {},
   "source": [
    "`We cannot concatenate the arrays with different dimensions`"
   ]
  },
  {
   "cell_type": "code",
   "execution_count": 78,
   "id": "29c55eeb",
   "metadata": {},
   "outputs": [
    {
     "data": {
      "text/plain": [
       "(array([1, 2]), array([3, 4]))"
      ]
     },
     "execution_count": 78,
     "metadata": {},
     "output_type": "execute_result"
    }
   ],
   "source": [
    "##################### concatenating 1-D array  #####################\n",
    "a = np.array([1,2])\n",
    "b = np.array([3,4])\n",
    "a,b"
   ]
  },
  {
   "cell_type": "code",
   "execution_count": 80,
   "id": "36b784be",
   "metadata": {},
   "outputs": [
    {
     "data": {
      "text/plain": [
       "array([1, 2, 3, 4])"
      ]
     },
     "execution_count": 80,
     "metadata": {},
     "output_type": "execute_result"
    }
   ],
   "source": [
    "np.concatenate((a,b))"
   ]
  },
  {
   "cell_type": "code",
   "execution_count": 81,
   "id": "8e4eee64",
   "metadata": {},
   "outputs": [
    {
     "data": {
      "text/plain": [
       "(array([[1, 2],\n",
       "        [3, 4]]),\n",
       " array([[5, 6],\n",
       "        [7, 8]]))"
      ]
     },
     "execution_count": 81,
     "metadata": {},
     "output_type": "execute_result"
    }
   ],
   "source": [
    "##################### Concatenating 2-D array  #####################\n",
    "a = np.array([[1,2],[3,4]])\n",
    "b = np.array([[5,6],[7,8]])\n",
    "a,b"
   ]
  },
  {
   "cell_type": "code",
   "execution_count": 82,
   "id": "b2cd0f43",
   "metadata": {},
   "outputs": [
    {
     "data": {
      "text/plain": [
       "array([[1, 2],\n",
       "       [3, 4],\n",
       "       [5, 6],\n",
       "       [7, 8]])"
      ]
     },
     "execution_count": 82,
     "metadata": {},
     "output_type": "execute_result"
    }
   ],
   "source": [
    "np.concatenate((a,b))"
   ]
  },
  {
   "cell_type": "code",
   "execution_count": 85,
   "id": "160c3cb7",
   "metadata": {},
   "outputs": [
    {
     "data": {
      "text/plain": [
       "(array([[[ 1,  2],\n",
       "         [ 3,  4]],\n",
       " \n",
       "        [[ 0,  0],\n",
       "         [-1, -1]]]),\n",
       " array([[[ 5,  6],\n",
       "         [ 7,  8]],\n",
       " \n",
       "        [[-2, -2],\n",
       "         [-3, -4]]]))"
      ]
     },
     "execution_count": 85,
     "metadata": {},
     "output_type": "execute_result"
    }
   ],
   "source": [
    "##################### Concatenating 3-D array  #####################\n",
    "a = np.array([[[1,2],[3,4]],[[0,0],[-1,-1]]])\n",
    "b = np.array([[[5,6],[7,8]],[[-2,-2],[-3,-4]]])\n",
    "a,b"
   ]
  },
  {
   "cell_type": "code",
   "execution_count": 86,
   "id": "2777b5ae",
   "metadata": {},
   "outputs": [
    {
     "data": {
      "text/plain": [
       "array([[[ 1,  2],\n",
       "        [ 3,  4]],\n",
       "\n",
       "       [[ 0,  0],\n",
       "        [-1, -1]],\n",
       "\n",
       "       [[ 5,  6],\n",
       "        [ 7,  8]],\n",
       "\n",
       "       [[-2, -2],\n",
       "        [-3, -4]]])"
      ]
     },
     "execution_count": 86,
     "metadata": {},
     "output_type": "execute_result"
    }
   ],
   "source": [
    "np.concatenate((a,b))"
   ]
  },
  {
   "cell_type": "markdown",
   "id": "4dc7ef7b",
   "metadata": {},
   "source": [
    "##### STACK() FUNCTION IN ARRAY"
   ]
  },
  {
   "cell_type": "markdown",
   "id": "df75f28b",
   "metadata": {},
   "source": [
    "- stack is used to join multiple numpy arrays, unlike concatenate() ,it joins array along a new axis. it returns a numpy array\n",
    "- To join two arrays they must have same shape and dimensions\n",
    "- stack() creates a new array which has one more dimension then the input array\n",
    "        EX -  If we stack 2 1-D arrays then the resultant array will have 2 Dimensions\n",
    "- syntaxm\n",
    "        np.stack(arrays, axis=0, out=None)\n",
    "        \n",
    "        arrays : sequence of array_like, Each array must have the same shape.\n",
    "\n",
    "        axis : int, optional, The axis in the result array along which the input arrays are  stacked. \n",
    "        1) 0 means the array will stack row wise\n",
    "        2) 1 means the array will stack column wise"
   ]
  },
  {
   "cell_type": "code",
   "execution_count": 89,
   "id": "09a94fee",
   "metadata": {},
   "outputs": [
    {
     "data": {
      "text/plain": [
       "(array([1, 2]), array([3, 4]))"
      ]
     },
     "execution_count": 89,
     "metadata": {},
     "output_type": "execute_result"
    }
   ],
   "source": [
    "##################### STACKING 1-D array  #####################\n",
    "a = np.array([1,2])\n",
    "b = np.array([3,4])\n",
    "a,b"
   ]
  },
  {
   "cell_type": "code",
   "execution_count": 90,
   "id": "50789d76",
   "metadata": {},
   "outputs": [
    {
     "data": {
      "text/plain": [
       "array([[1, 2],\n",
       "       [3, 4]])"
      ]
     },
     "execution_count": 90,
     "metadata": {},
     "output_type": "execute_result"
    }
   ],
   "source": [
    "np.stack((a,b), axis = 0)"
   ]
  },
  {
   "cell_type": "code",
   "execution_count": 91,
   "id": "e47a97aa",
   "metadata": {},
   "outputs": [
    {
     "data": {
      "text/plain": [
       "array([[1, 3],\n",
       "       [2, 4]])"
      ]
     },
     "execution_count": 91,
     "metadata": {},
     "output_type": "execute_result"
    }
   ],
   "source": [
    "np.stack((a,b), axis = 1)"
   ]
  },
  {
   "cell_type": "code",
   "execution_count": 92,
   "id": "e25d6622",
   "metadata": {},
   "outputs": [
    {
     "data": {
      "text/plain": [
       "(array([[1, 2],\n",
       "        [3, 4]]),\n",
       " array([[5, 6],\n",
       "        [7, 8]]))"
      ]
     },
     "execution_count": 92,
     "metadata": {},
     "output_type": "execute_result"
    }
   ],
   "source": [
    "##################### STACKING 2-D array  #####################\n",
    "a = np.array([[1,2],[3,4]])\n",
    "b = np.array([[5,6],[7,8]])\n",
    "a,b"
   ]
  },
  {
   "cell_type": "code",
   "execution_count": 93,
   "id": "831ab001",
   "metadata": {},
   "outputs": [
    {
     "data": {
      "text/plain": [
       "array([[[1, 2],\n",
       "        [3, 4]],\n",
       "\n",
       "       [[5, 6],\n",
       "        [7, 8]]])"
      ]
     },
     "execution_count": 93,
     "metadata": {},
     "output_type": "execute_result"
    }
   ],
   "source": [
    "np.stack((a,b),axis = 0)"
   ]
  },
  {
   "cell_type": "code",
   "execution_count": 94,
   "id": "2f072529",
   "metadata": {},
   "outputs": [
    {
     "data": {
      "text/plain": [
       "array([[[1, 2],\n",
       "        [5, 6]],\n",
       "\n",
       "       [[3, 4],\n",
       "        [7, 8]]])"
      ]
     },
     "execution_count": 94,
     "metadata": {},
     "output_type": "execute_result"
    }
   ],
   "source": [
    "np.stack((a,b),axis = 1)"
   ]
  },
  {
   "cell_type": "code",
   "execution_count": 95,
   "id": "bfe24eb8",
   "metadata": {},
   "outputs": [
    {
     "data": {
      "text/plain": [
       "(array([[[ 1,  2],\n",
       "         [ 3,  4]],\n",
       " \n",
       "        [[ 0,  0],\n",
       "         [-1, -1]]]),\n",
       " array([[[ 5,  6],\n",
       "         [ 7,  8]],\n",
       " \n",
       "        [[-2, -2],\n",
       "         [-3, -4]]]))"
      ]
     },
     "execution_count": 95,
     "metadata": {},
     "output_type": "execute_result"
    }
   ],
   "source": [
    "##################### STACKING 3-D array  #####################\n",
    "a = np.array([[[1,2],[3,4]],[[0,0],[-1,-1]]])\n",
    "b = np.array([[[5,6],[7,8]],[[-2,-2],[-3,-4]]])\n",
    "a,b"
   ]
  },
  {
   "cell_type": "code",
   "execution_count": 96,
   "id": "5adba07d",
   "metadata": {},
   "outputs": [
    {
     "data": {
      "text/plain": [
       "array([[[[ 1,  2],\n",
       "         [ 3,  4]],\n",
       "\n",
       "        [[ 0,  0],\n",
       "         [-1, -1]]],\n",
       "\n",
       "\n",
       "       [[[ 5,  6],\n",
       "         [ 7,  8]],\n",
       "\n",
       "        [[-2, -2],\n",
       "         [-3, -4]]]])"
      ]
     },
     "execution_count": 96,
     "metadata": {},
     "output_type": "execute_result"
    }
   ],
   "source": [
    "np.stack((a,b), axis = 0)"
   ]
  },
  {
   "cell_type": "code",
   "execution_count": 97,
   "id": "3fe95f00",
   "metadata": {},
   "outputs": [
    {
     "data": {
      "text/plain": [
       "array([[[[ 1,  2],\n",
       "         [ 3,  4]],\n",
       "\n",
       "        [[ 5,  6],\n",
       "         [ 7,  8]]],\n",
       "\n",
       "\n",
       "       [[[ 0,  0],\n",
       "         [-1, -1]],\n",
       "\n",
       "        [[-2, -2],\n",
       "         [-3, -4]]]])"
      ]
     },
     "execution_count": 97,
     "metadata": {},
     "output_type": "execute_result"
    }
   ],
   "source": [
    "np.stack((a,b), axis = 1)"
   ]
  },
  {
   "cell_type": "markdown",
   "id": "8b02cb1f",
   "metadata": {},
   "source": [
    "##### V-STACK() FUNCTION IN ARRAY"
   ]
  },
  {
   "cell_type": "markdown",
   "id": "2e63535d",
   "metadata": {},
   "source": [
    "- vstack() is used to stack the sequence of input array vertically to make a single array\n",
    "        (The input array is stacked row wise)\n",
    "- syntax\n",
    "        np.vstack(tup)"
   ]
  },
  {
   "cell_type": "code",
   "execution_count": 102,
   "id": "78235cc9",
   "metadata": {},
   "outputs": [
    {
     "data": {
      "text/plain": [
       "(array([1, 2]), array([3, 4]))"
      ]
     },
     "execution_count": 102,
     "metadata": {},
     "output_type": "execute_result"
    }
   ],
   "source": [
    "##################### Vertical STACKING 1-D array  #####################\n",
    "a = np.array([1,2])\n",
    "b = np.array([3,4])\n",
    "a,b"
   ]
  },
  {
   "cell_type": "code",
   "execution_count": 103,
   "id": "9efac3a3",
   "metadata": {},
   "outputs": [
    {
     "data": {
      "text/plain": [
       "array([[1, 2],\n",
       "       [3, 4]])"
      ]
     },
     "execution_count": 103,
     "metadata": {},
     "output_type": "execute_result"
    }
   ],
   "source": [
    "np.vstack((a,b))"
   ]
  },
  {
   "cell_type": "code",
   "execution_count": 105,
   "id": "7b8ca98b",
   "metadata": {},
   "outputs": [
    {
     "data": {
      "text/plain": [
       "(array([[1, 2],\n",
       "        [3, 4]]),\n",
       " array([[5, 6],\n",
       "        [7, 8]]))"
      ]
     },
     "execution_count": 105,
     "metadata": {},
     "output_type": "execute_result"
    }
   ],
   "source": [
    "##################### Vertical STACKING 2-D array  #####################\n",
    "a = np.array([[1,2],[3,4]])\n",
    "b = np.array([[5,6],[7,8]])\n",
    "a,b"
   ]
  },
  {
   "cell_type": "code",
   "execution_count": 106,
   "id": "bc51d1da",
   "metadata": {},
   "outputs": [
    {
     "data": {
      "text/plain": [
       "array([[1, 2],\n",
       "       [3, 4],\n",
       "       [5, 6],\n",
       "       [7, 8]])"
      ]
     },
     "execution_count": 106,
     "metadata": {},
     "output_type": "execute_result"
    }
   ],
   "source": [
    "np.vstack((a,b))"
   ]
  },
  {
   "cell_type": "code",
   "execution_count": 108,
   "id": "4bad4b61",
   "metadata": {},
   "outputs": [
    {
     "data": {
      "text/plain": [
       "(array([[[ 1,  2],\n",
       "         [ 3,  4]],\n",
       " \n",
       "        [[ 0,  0],\n",
       "         [-1, -1]]]),\n",
       " array([[[ 5,  6],\n",
       "         [ 7,  8]],\n",
       " \n",
       "        [[-2, -2],\n",
       "         [-3, -4]]]))"
      ]
     },
     "execution_count": 108,
     "metadata": {},
     "output_type": "execute_result"
    }
   ],
   "source": [
    "##################### Vertical STACKING 3-D array  #####################\n",
    "a = np.array([[[1,2],[3,4]],[[0,0],[-1,-1]]])\n",
    "b = np.array([[[5,6],[7,8]],[[-2,-2],[-3,-4]]])\n",
    "a,b"
   ]
  },
  {
   "cell_type": "code",
   "execution_count": 110,
   "id": "0e4dd1cd",
   "metadata": {},
   "outputs": [
    {
     "data": {
      "text/plain": [
       "array([[[ 1,  2],\n",
       "        [ 3,  4]],\n",
       "\n",
       "       [[ 0,  0],\n",
       "        [-1, -1]],\n",
       "\n",
       "       [[ 5,  6],\n",
       "        [ 7,  8]],\n",
       "\n",
       "       [[-2, -2],\n",
       "        [-3, -4]]])"
      ]
     },
     "execution_count": 110,
     "metadata": {},
     "output_type": "execute_result"
    }
   ],
   "source": [
    "np.vstack((a,b))"
   ]
  },
  {
   "cell_type": "markdown",
   "id": "304b30ec",
   "metadata": {},
   "source": [
    "##### H-STACK FUNCTION IN ARRAY"
   ]
  },
  {
   "cell_type": "markdown",
   "id": "c4780053",
   "metadata": {},
   "source": [
    "- hstack() function is used to stack the sequence of input array horizontally (i.e. column wise stacking) to make a single array\n",
    "- If you are horizontally stacking more than one array then the size of the array may be different or same not an issue\n",
    "- syntax\n",
    "        np.hstack(tup)"
   ]
  },
  {
   "cell_type": "code",
   "execution_count": 112,
   "id": "bb5cde84",
   "metadata": {},
   "outputs": [
    {
     "data": {
      "text/plain": [
       "(array([1, 2]), array([3, 4]))"
      ]
     },
     "execution_count": 112,
     "metadata": {},
     "output_type": "execute_result"
    }
   ],
   "source": [
    "##################### Horizontal STACKING 1-D array  #####################\n",
    "a = np.array([1,2])\n",
    "b = np.array([3,4])\n",
    "a,b"
   ]
  },
  {
   "cell_type": "code",
   "execution_count": 113,
   "id": "8fd0a0cc",
   "metadata": {},
   "outputs": [
    {
     "data": {
      "text/plain": [
       "array([1, 2, 3, 4])"
      ]
     },
     "execution_count": 113,
     "metadata": {},
     "output_type": "execute_result"
    }
   ],
   "source": [
    "np.hstack((a,b))"
   ]
  },
  {
   "cell_type": "code",
   "execution_count": 114,
   "id": "5162f841",
   "metadata": {},
   "outputs": [
    {
     "data": {
      "text/plain": [
       "(array([[1, 2],\n",
       "        [3, 4]]),\n",
       " array([[5, 6],\n",
       "        [7, 8]]))"
      ]
     },
     "execution_count": 114,
     "metadata": {},
     "output_type": "execute_result"
    }
   ],
   "source": [
    "##################### Horizontal STACKING 2-D array  #####################\n",
    "a = np.array([[1,2],[3,4]])\n",
    "b = np.array([[5,6],[7,8]])\n",
    "a,b"
   ]
  },
  {
   "cell_type": "code",
   "execution_count": 115,
   "id": "50234e80",
   "metadata": {},
   "outputs": [
    {
     "data": {
      "text/plain": [
       "array([[1, 2, 5, 6],\n",
       "       [3, 4, 7, 8]])"
      ]
     },
     "execution_count": 115,
     "metadata": {},
     "output_type": "execute_result"
    }
   ],
   "source": [
    "np.hstack((a,b))"
   ]
  },
  {
   "cell_type": "code",
   "execution_count": 116,
   "id": "fceadcc2",
   "metadata": {},
   "outputs": [
    {
     "data": {
      "text/plain": [
       "(array([[[ 1,  2],\n",
       "         [ 3,  4]],\n",
       " \n",
       "        [[ 0,  0],\n",
       "         [-1, -1]]]),\n",
       " array([[[ 5,  6],\n",
       "         [ 7,  8]],\n",
       " \n",
       "        [[-2, -2],\n",
       "         [-3, -4]]]))"
      ]
     },
     "execution_count": 116,
     "metadata": {},
     "output_type": "execute_result"
    }
   ],
   "source": [
    "##################### Horizontal STACKING 3-D array  #####################\n",
    "a = np.array([[[1,2],[3,4]],[[0,0],[-1,-1]]])\n",
    "b = np.array([[[5,6],[7,8]],[[-2,-2],[-3,-4]]])\n",
    "a,b"
   ]
  },
  {
   "cell_type": "code",
   "execution_count": 117,
   "id": "9879bf33",
   "metadata": {},
   "outputs": [
    {
     "data": {
      "text/plain": [
       "array([[[ 1,  2],\n",
       "        [ 3,  4],\n",
       "        [ 5,  6],\n",
       "        [ 7,  8]],\n",
       "\n",
       "       [[ 0,  0],\n",
       "        [-1, -1],\n",
       "        [-2, -2],\n",
       "        [-3, -4]]])"
      ]
     },
     "execution_count": 117,
     "metadata": {},
     "output_type": "execute_result"
    }
   ],
   "source": [
    "np.hstack((a,b))"
   ]
  },
  {
   "cell_type": "markdown",
   "id": "c6d80d84",
   "metadata": {},
   "source": [
    "##### FLATTEN ( ) FUNCTION IN ARRAY"
   ]
  },
  {
   "cell_type": "markdown",
   "id": "1a3064bb",
   "metadata": {},
   "source": [
    "- The np.ndarray.flatten() function is used to get a copy of an given array collapsed into on dimension\n",
    "- This function is useful when we want to convert a multi dimensional\n",
    "- syntax\n",
    "        np.ndarray.flatten(array,order='C')"
   ]
  },
  {
   "cell_type": "code",
   "execution_count": 119,
   "id": "eaf61916",
   "metadata": {},
   "outputs": [
    {
     "data": {
      "text/plain": [
       "array([1, 2])"
      ]
     },
     "execution_count": 119,
     "metadata": {},
     "output_type": "execute_result"
    }
   ],
   "source": [
    "##################### FLATTEN 1-D array  #####################\n",
    "a = np.array([1,2])\n",
    "a"
   ]
  },
  {
   "cell_type": "code",
   "execution_count": 122,
   "id": "182db7f6",
   "metadata": {},
   "outputs": [
    {
     "data": {
      "text/plain": [
       "array([1, 2])"
      ]
     },
     "execution_count": 122,
     "metadata": {},
     "output_type": "execute_result"
    }
   ],
   "source": [
    "np.ndarray.flatten(a)"
   ]
  },
  {
   "cell_type": "code",
   "execution_count": 123,
   "id": "05d7174b",
   "metadata": {},
   "outputs": [
    {
     "data": {
      "text/plain": [
       "array([[1, 2],\n",
       "       [3, 4]])"
      ]
     },
     "execution_count": 123,
     "metadata": {},
     "output_type": "execute_result"
    }
   ],
   "source": [
    "##################### FLATTEN 2-D array  #####################\n",
    "a = np.array([[1,2],[3,4]])\n",
    "a"
   ]
  },
  {
   "cell_type": "code",
   "execution_count": 124,
   "id": "dfd939d4",
   "metadata": {},
   "outputs": [
    {
     "data": {
      "text/plain": [
       "array([1, 2, 3, 4])"
      ]
     },
     "execution_count": 124,
     "metadata": {},
     "output_type": "execute_result"
    }
   ],
   "source": [
    "np.ndarray.flatten(a)"
   ]
  },
  {
   "cell_type": "code",
   "execution_count": 125,
   "id": "4157939d",
   "metadata": {},
   "outputs": [
    {
     "data": {
      "text/plain": [
       "array([[[ 1,  2],\n",
       "        [ 3,  4]],\n",
       "\n",
       "       [[ 0,  0],\n",
       "        [-1, -1]]])"
      ]
     },
     "execution_count": 125,
     "metadata": {},
     "output_type": "execute_result"
    }
   ],
   "source": [
    "##################### FLATTEN 3-D array  #####################\n",
    "a = np.array([[[1,2],[3,4]],[[0,0],[-1,-1]]])\n",
    "a"
   ]
  },
  {
   "cell_type": "code",
   "execution_count": 126,
   "id": "276fa055",
   "metadata": {},
   "outputs": [
    {
     "data": {
      "text/plain": [
       "array([ 1,  2,  3,  4,  0,  0, -1, -1])"
      ]
     },
     "execution_count": 126,
     "metadata": {},
     "output_type": "execute_result"
    }
   ],
   "source": [
    "np.ndarray.flatten(a)"
   ]
  },
  {
   "cell_type": "markdown",
   "id": "f1f9e9eb",
   "metadata": {},
   "source": [
    "### ARRAY ATTRIBUTES"
   ]
  },
  {
   "cell_type": "markdown",
   "id": "eead1982",
   "metadata": {},
   "source": [
    "- Attributes are the features/ characterstics of  an object that describe the object"
   ]
  },
  {
   "cell_type": "code",
   "execution_count": 127,
   "id": "7ca0f85f",
   "metadata": {},
   "outputs": [
    {
     "data": {
      "text/plain": [
       "(array([ 10000,   2000,  45000, 980000,   1000,  75500]),\n",
       " array([[1, 3, 4],\n",
       "        [6, 7, 8]]),\n",
       " array([[[ 1,  3,  4],\n",
       "         [ 6,  7,  8]],\n",
       " \n",
       "        [[11,  3, 45],\n",
       "         [ 5,  0, 40]]]))"
      ]
     },
     "execution_count": 127,
     "metadata": {},
     "output_type": "execute_result"
    }
   ],
   "source": [
    "a = np.array([10000,2000,45000,980000,1000,75500])\n",
    "b = np.array([[1,3,4],[6,7,8]])\n",
    "c = np.array([[[1,3,4],[6,7,8]],[[11,3,45],[5,0,40]]])\n",
    "a,b,c"
   ]
  },
  {
   "cell_type": "markdown",
   "id": "ca195cad",
   "metadata": {},
   "source": [
    "#### SHAPE"
   ]
  },
  {
   "cell_type": "markdown",
   "id": "36fe42e5",
   "metadata": {},
   "source": [
    "- shape returns number of rows and columns in the array"
   ]
  },
  {
   "cell_type": "code",
   "execution_count": 128,
   "id": "ea02b0d1",
   "metadata": {},
   "outputs": [
    {
     "data": {
      "text/plain": [
       "((6,), (2, 3), (2, 2, 3))"
      ]
     },
     "execution_count": 128,
     "metadata": {},
     "output_type": "execute_result"
    }
   ],
   "source": [
    "a.shape, b.shape, c.shape"
   ]
  },
  {
   "cell_type": "markdown",
   "id": "67875b88",
   "metadata": {},
   "source": [
    "#### SIZE"
   ]
  },
  {
   "cell_type": "markdown",
   "id": "c368fd51",
   "metadata": {},
   "source": [
    "- Size returns the number of elements present in the array"
   ]
  },
  {
   "cell_type": "code",
   "execution_count": 129,
   "id": "ebc3d451",
   "metadata": {},
   "outputs": [
    {
     "data": {
      "text/plain": [
       "(6, 6, 12)"
      ]
     },
     "execution_count": 129,
     "metadata": {},
     "output_type": "execute_result"
    }
   ],
   "source": [
    "a.size , b.size, c.size"
   ]
  },
  {
   "cell_type": "markdown",
   "id": "a14ee086",
   "metadata": {},
   "source": [
    "#### DTYPE"
   ]
  },
  {
   "cell_type": "markdown",
   "id": "fd2f4367",
   "metadata": {},
   "source": [
    "- D-Type returns the type of data along with the size of data in bytes"
   ]
  },
  {
   "cell_type": "code",
   "execution_count": 130,
   "id": "51ce3b2b",
   "metadata": {},
   "outputs": [
    {
     "data": {
      "text/plain": [
       "(dtype('int32'), dtype('int32'), dtype('int32'))"
      ]
     },
     "execution_count": 130,
     "metadata": {},
     "output_type": "execute_result"
    }
   ],
   "source": [
    "a.dtype , b.dtype , c.dtype"
   ]
  },
  {
   "cell_type": "markdown",
   "id": "efcc9029",
   "metadata": {},
   "source": [
    "#### NDIM"
   ]
  },
  {
   "cell_type": "markdown",
   "id": "60102310",
   "metadata": {},
   "source": [
    "- NDim returns the number of dimensions of the array"
   ]
  },
  {
   "cell_type": "code",
   "execution_count": 132,
   "id": "2c309c64",
   "metadata": {},
   "outputs": [
    {
     "data": {
      "text/plain": [
       "(1, 2, 3)"
      ]
     },
     "execution_count": 132,
     "metadata": {},
     "output_type": "execute_result"
    }
   ],
   "source": [
    "a.ndim , b.ndim, c.ndim"
   ]
  },
  {
   "cell_type": "markdown",
   "id": "ad906a1f",
   "metadata": {},
   "source": [
    "### ARITHEMATIC OPERATIONS ON ARRAY"
   ]
  },
  {
   "cell_type": "markdown",
   "id": "3c9777ae",
   "metadata": {},
   "source": [
    "#### 1) ADDITION"
   ]
  },
  {
   "cell_type": "code",
   "execution_count": 134,
   "id": "222b0e71",
   "metadata": {},
   "outputs": [
    {
     "data": {
      "text/plain": [
       "(array([1, 2]), array([3, 4]))"
      ]
     },
     "execution_count": 134,
     "metadata": {},
     "output_type": "execute_result"
    }
   ],
   "source": [
    "##################### ADDITION OF 1-D ARRAY  #####################\n",
    "a = np.array([1,2])\n",
    "b = np.array([3,4])\n",
    "a,b"
   ]
  },
  {
   "cell_type": "code",
   "execution_count": 135,
   "id": "3b0c4c7f",
   "metadata": {},
   "outputs": [
    {
     "data": {
      "text/plain": [
       "array([4, 6])"
      ]
     },
     "execution_count": 135,
     "metadata": {},
     "output_type": "execute_result"
    }
   ],
   "source": [
    "a+b"
   ]
  },
  {
   "cell_type": "code",
   "execution_count": 136,
   "id": "4121484a",
   "metadata": {},
   "outputs": [
    {
     "data": {
      "text/plain": [
       "(array([[1, 2],\n",
       "        [3, 4]]),\n",
       " array([[5, 6],\n",
       "        [7, 8]]))"
      ]
     },
     "execution_count": 136,
     "metadata": {},
     "output_type": "execute_result"
    }
   ],
   "source": [
    "##################### ADDITION OF 2-D ARRAY  #####################\n",
    "a = np.array([[1,2],[3,4]])\n",
    "b = np.array([[5,6],[7,8]])\n",
    "a,b"
   ]
  },
  {
   "cell_type": "code",
   "execution_count": 137,
   "id": "9ee6a542",
   "metadata": {},
   "outputs": [
    {
     "data": {
      "text/plain": [
       "array([[ 6,  8],\n",
       "       [10, 12]])"
      ]
     },
     "execution_count": 137,
     "metadata": {},
     "output_type": "execute_result"
    }
   ],
   "source": [
    "a+b"
   ]
  },
  {
   "cell_type": "code",
   "execution_count": 138,
   "id": "9fddd78a",
   "metadata": {},
   "outputs": [
    {
     "data": {
      "text/plain": [
       "(array([[[ 1,  2],\n",
       "         [ 3,  4]],\n",
       " \n",
       "        [[ 0,  0],\n",
       "         [-1, -1]]]),\n",
       " array([[[ 5,  6],\n",
       "         [ 7,  8]],\n",
       " \n",
       "        [[-2, -2],\n",
       "         [-3, -4]]]))"
      ]
     },
     "execution_count": 138,
     "metadata": {},
     "output_type": "execute_result"
    }
   ],
   "source": [
    "##################### ADDITION OF 3-D ARRAY  #####################\n",
    "a = np.array([[[1,2],[3,4]],[[0,0],[-1,-1]]])\n",
    "b = np.array([[[5,6],[7,8]],[[-2,-2],[-3,-4]]])\n",
    "a,b"
   ]
  },
  {
   "cell_type": "code",
   "execution_count": 139,
   "id": "d49dc8de",
   "metadata": {},
   "outputs": [
    {
     "data": {
      "text/plain": [
       "array([[[ 6,  8],\n",
       "        [10, 12]],\n",
       "\n",
       "       [[-2, -2],\n",
       "        [-4, -5]]])"
      ]
     },
     "execution_count": 139,
     "metadata": {},
     "output_type": "execute_result"
    }
   ],
   "source": [
    "a+b"
   ]
  },
  {
   "cell_type": "markdown",
   "id": "99d97b32",
   "metadata": {},
   "source": [
    "#### 2) SUBSTRACTION"
   ]
  },
  {
   "cell_type": "code",
   "execution_count": 143,
   "id": "880aa39f",
   "metadata": {},
   "outputs": [
    {
     "data": {
      "text/plain": [
       "(array([1, 2]), array([3, 4]))"
      ]
     },
     "execution_count": 143,
     "metadata": {},
     "output_type": "execute_result"
    }
   ],
   "source": [
    "##################### SUBSTRACTION OF 1-D ARRAY  #####################\n",
    "a = np.array([1,2])\n",
    "b = np.array([3,4])\n",
    "a,b"
   ]
  },
  {
   "cell_type": "code",
   "execution_count": 144,
   "id": "15a6b9ef",
   "metadata": {},
   "outputs": [
    {
     "data": {
      "text/plain": [
       "array([-2, -2])"
      ]
     },
     "execution_count": 144,
     "metadata": {},
     "output_type": "execute_result"
    }
   ],
   "source": [
    "a-b"
   ]
  },
  {
   "cell_type": "code",
   "execution_count": 145,
   "id": "e2716f07",
   "metadata": {},
   "outputs": [
    {
     "data": {
      "text/plain": [
       "(array([[1, 2],\n",
       "        [3, 4]]),\n",
       " array([[5, 6],\n",
       "        [7, 8]]))"
      ]
     },
     "execution_count": 145,
     "metadata": {},
     "output_type": "execute_result"
    }
   ],
   "source": [
    "##################### SUBSTRACTION OF 2-D ARRAY  #####################\n",
    "a = np.array([[1,2],[3,4]])\n",
    "b = np.array([[5,6],[7,8]])\n",
    "a,b"
   ]
  },
  {
   "cell_type": "code",
   "execution_count": 146,
   "id": "fc883969",
   "metadata": {},
   "outputs": [
    {
     "data": {
      "text/plain": [
       "array([[-4, -4],\n",
       "       [-4, -4]])"
      ]
     },
     "execution_count": 146,
     "metadata": {},
     "output_type": "execute_result"
    }
   ],
   "source": [
    "a-b"
   ]
  },
  {
   "cell_type": "code",
   "execution_count": 147,
   "id": "b197437d",
   "metadata": {},
   "outputs": [
    {
     "data": {
      "text/plain": [
       "(array([[[ 1,  2],\n",
       "         [ 3,  4]],\n",
       " \n",
       "        [[ 0,  0],\n",
       "         [-1, -1]]]),\n",
       " array([[[ 5,  6],\n",
       "         [ 7,  8]],\n",
       " \n",
       "        [[-2, -2],\n",
       "         [-3, -4]]]))"
      ]
     },
     "execution_count": 147,
     "metadata": {},
     "output_type": "execute_result"
    }
   ],
   "source": [
    "##################### SUBSTRACTION OF 3-D ARRAY  #####################\n",
    "a = np.array([[[1,2],[3,4]],[[0,0],[-1,-1]]])\n",
    "b = np.array([[[5,6],[7,8]],[[-2,-2],[-3,-4]]])\n",
    "a,b"
   ]
  },
  {
   "cell_type": "code",
   "execution_count": 148,
   "id": "88b53246",
   "metadata": {},
   "outputs": [
    {
     "data": {
      "text/plain": [
       "array([[[-4, -4],\n",
       "        [-4, -4]],\n",
       "\n",
       "       [[ 2,  2],\n",
       "        [ 2,  3]]])"
      ]
     },
     "execution_count": 148,
     "metadata": {},
     "output_type": "execute_result"
    }
   ],
   "source": [
    "a-b"
   ]
  },
  {
   "cell_type": "markdown",
   "id": "80fd6a92",
   "metadata": {},
   "source": [
    "#### 3) MULTIPLICATION [ Element Wise Multiplication Of Two Arrays ]"
   ]
  },
  {
   "cell_type": "code",
   "execution_count": 149,
   "id": "24cba22b",
   "metadata": {},
   "outputs": [
    {
     "data": {
      "text/plain": [
       "(array([1, 2]), array([3, 4]))"
      ]
     },
     "execution_count": 149,
     "metadata": {},
     "output_type": "execute_result"
    }
   ],
   "source": [
    "##################### MULTIPLICATION OF 1-D ARRAY  #####################\n",
    "a = np.array([1,2])\n",
    "b = np.array([3,4])\n",
    "a,b"
   ]
  },
  {
   "cell_type": "code",
   "execution_count": 150,
   "id": "47971ab7",
   "metadata": {},
   "outputs": [
    {
     "data": {
      "text/plain": [
       "array([3, 8])"
      ]
     },
     "execution_count": 150,
     "metadata": {},
     "output_type": "execute_result"
    }
   ],
   "source": [
    "a*b"
   ]
  },
  {
   "cell_type": "code",
   "execution_count": 152,
   "id": "3dd43c7d",
   "metadata": {},
   "outputs": [
    {
     "data": {
      "text/plain": [
       "(array([[1, 2],\n",
       "        [3, 4]]),\n",
       " array([[5, 6],\n",
       "        [7, 8]]))"
      ]
     },
     "execution_count": 152,
     "metadata": {},
     "output_type": "execute_result"
    }
   ],
   "source": [
    "##################### MULTIPLICATION OF 2-D ARRAY  #####################\n",
    "a = np.array([[1,2],[3,4]])\n",
    "b = np.array([[5,6],[7,8]])\n",
    "a,b"
   ]
  },
  {
   "cell_type": "code",
   "execution_count": 153,
   "id": "624d0948",
   "metadata": {},
   "outputs": [
    {
     "data": {
      "text/plain": [
       "array([[ 5, 12],\n",
       "       [21, 32]])"
      ]
     },
     "execution_count": 153,
     "metadata": {},
     "output_type": "execute_result"
    }
   ],
   "source": [
    "a*b"
   ]
  },
  {
   "cell_type": "code",
   "execution_count": 154,
   "id": "1c724646",
   "metadata": {},
   "outputs": [
    {
     "data": {
      "text/plain": [
       "(array([[[ 1,  2],\n",
       "         [ 3,  4]],\n",
       " \n",
       "        [[ 0,  0],\n",
       "         [-1, -1]]]),\n",
       " array([[[ 5,  6],\n",
       "         [ 7,  8]],\n",
       " \n",
       "        [[-2, -2],\n",
       "         [-3, -4]]]))"
      ]
     },
     "execution_count": 154,
     "metadata": {},
     "output_type": "execute_result"
    }
   ],
   "source": [
    "##################### MULTIPLICATION OF 3-D ARRAY  #####################\n",
    "a = np.array([[[1,2],[3,4]],[[0,0],[-1,-1]]])\n",
    "b = np.array([[[5,6],[7,8]],[[-2,-2],[-3,-4]]])\n",
    "a,b"
   ]
  },
  {
   "cell_type": "code",
   "execution_count": 155,
   "id": "31af0da6",
   "metadata": {},
   "outputs": [
    {
     "data": {
      "text/plain": [
       "array([[[ 5, 12],\n",
       "        [21, 32]],\n",
       "\n",
       "       [[ 0,  0],\n",
       "        [ 3,  4]]])"
      ]
     },
     "execution_count": 155,
     "metadata": {},
     "output_type": "execute_result"
    }
   ],
   "source": [
    "a*b"
   ]
  },
  {
   "cell_type": "markdown",
   "id": "d0b9e69f",
   "metadata": {},
   "source": [
    "#### 4) MATRIX MULTIPLICATION OF TWO DIFFERENT SHAPE OF MATRIX"
   ]
  },
  {
   "cell_type": "code",
   "execution_count": 159,
   "id": "ca59e2f0",
   "metadata": {},
   "outputs": [
    {
     "data": {
      "text/plain": [
       "11"
      ]
     },
     "execution_count": 159,
     "metadata": {},
     "output_type": "execute_result"
    }
   ],
   "source": [
    "##################### MULTIPLICATION OF 1-D ARRAY  #####################\n",
    "a = np.array([1,2])\n",
    "b = np.array([3,4])\n",
    "a.dot(b)"
   ]
  },
  {
   "cell_type": "code",
   "execution_count": 160,
   "id": "4f24098e",
   "metadata": {},
   "outputs": [
    {
     "ename": "ValueError",
     "evalue": "shapes (2,) and (3,) not aligned: 2 (dim 0) != 3 (dim 0)",
     "output_type": "error",
     "traceback": [
      "\u001b[1;31m---------------------------------------------------------------------------\u001b[0m",
      "\u001b[1;31mValueError\u001b[0m                                Traceback (most recent call last)",
      "Input \u001b[1;32mIn [160]\u001b[0m, in \u001b[0;36m<cell line: 3>\u001b[1;34m()\u001b[0m\n\u001b[0;32m      1\u001b[0m a \u001b[38;5;241m=\u001b[39m np\u001b[38;5;241m.\u001b[39marray([\u001b[38;5;241m1\u001b[39m,\u001b[38;5;241m2\u001b[39m])\n\u001b[0;32m      2\u001b[0m b \u001b[38;5;241m=\u001b[39m np\u001b[38;5;241m.\u001b[39marray([\u001b[38;5;241m3\u001b[39m,\u001b[38;5;241m4\u001b[39m,\u001b[38;5;241m5\u001b[39m])\n\u001b[1;32m----> 3\u001b[0m \u001b[43ma\u001b[49m\u001b[38;5;241;43m.\u001b[39;49m\u001b[43mdot\u001b[49m\u001b[43m(\u001b[49m\u001b[43mb\u001b[49m\u001b[43m)\u001b[49m\n",
      "\u001b[1;31mValueError\u001b[0m: shapes (2,) and (3,) not aligned: 2 (dim 0) != 3 (dim 0)"
     ]
    }
   ],
   "source": [
    "a = np.array([1,2])\n",
    "b = np.array([3,4,5])\n",
    "a.dot(b)"
   ]
  },
  {
   "cell_type": "code",
   "execution_count": 165,
   "id": "e123758b",
   "metadata": {},
   "outputs": [
    {
     "data": {
      "text/plain": [
       "array([[19, 22],\n",
       "       [43, 50]])"
      ]
     },
     "execution_count": 165,
     "metadata": {},
     "output_type": "execute_result"
    }
   ],
   "source": [
    "##################### MULTIPLICATION OF 2-D ARRAY  #####################\n",
    "a = np.array([[1,2],[3,4]])\n",
    "b = np.array([[5,6],[7,8]])\n",
    "a.dot(b)"
   ]
  },
  {
   "cell_type": "code",
   "execution_count": 166,
   "id": "75a04c9b",
   "metadata": {},
   "outputs": [
    {
     "data": {
      "text/plain": [
       "array([[[[ 19,  22],\n",
       "         [ -8, -10]],\n",
       "\n",
       "        [[ 43,  50],\n",
       "         [-18, -22]]],\n",
       "\n",
       "\n",
       "       [[[  0,   0],\n",
       "         [  0,   0]],\n",
       "\n",
       "        [[-12, -14],\n",
       "         [  5,   6]]]])"
      ]
     },
     "execution_count": 166,
     "metadata": {},
     "output_type": "execute_result"
    }
   ],
   "source": [
    "##################### MULTIPLICATION OF 3-D ARRAY  #####################\n",
    "a = np.array([[[1,2],[3,4]],[[0,0],[-1,-1]]])\n",
    "b = np.array([[[5,6],[7,8]],[[-2,-2],[-3,-4]]])\n",
    "a.dot(b)"
   ]
  },
  {
   "cell_type": "code",
   "execution_count": 168,
   "id": "955cac19",
   "metadata": {},
   "outputs": [
    {
     "data": {
      "text/plain": [
       "array([[3, 6, 9],\n",
       "       [3, 6, 9],\n",
       "       [3, 6, 9]])"
      ]
     },
     "execution_count": 168,
     "metadata": {},
     "output_type": "execute_result"
    }
   ],
   "source": [
    "a = np.array([[1,2],[1,2],[1,2]])\n",
    "b = np.array([[1,2,3],[1,2,3]])\n",
    "a.dot(b)"
   ]
  },
  {
   "cell_type": "code",
   "execution_count": 169,
   "id": "d43172e1",
   "metadata": {},
   "outputs": [
    {
     "data": {
      "text/plain": [
       "array([[ 6, 12],\n",
       "       [ 6, 12]])"
      ]
     },
     "execution_count": 169,
     "metadata": {},
     "output_type": "execute_result"
    }
   ],
   "source": [
    "b.dot(a)"
   ]
  },
  {
   "cell_type": "markdown",
   "id": "93832c48",
   "metadata": {},
   "source": [
    "### INDEXING OF ARRAY"
   ]
  },
  {
   "cell_type": "markdown",
   "id": "42f25c2b",
   "metadata": {},
   "source": [
    "- The elements in the array can be ascessed by the positional index of element\n",
    "- The index of an array starts from 0 (from left side) and starts from -1 (from right side)"
   ]
  },
  {
   "cell_type": "code",
   "execution_count": 4,
   "id": "e5bbe6f3",
   "metadata": {},
   "outputs": [
    {
     "data": {
      "text/plain": [
       "array([1, 2, 3, 4, 5, 6])"
      ]
     },
     "execution_count": 4,
     "metadata": {},
     "output_type": "execute_result"
    }
   ],
   "source": [
    "##################### INDEXING OF 1-D ARRAY  #####################\n",
    "a =np.array((1,2,3,4,5,6))\n",
    "a"
   ]
  },
  {
   "cell_type": "code",
   "execution_count": 5,
   "id": "7d44e23f",
   "metadata": {},
   "outputs": [
    {
     "data": {
      "text/plain": [
       "(1, 2, 3, 4, 5, 6)"
      ]
     },
     "execution_count": 5,
     "metadata": {},
     "output_type": "execute_result"
    }
   ],
   "source": [
    "a[0],a[1],a[2],a[3],a[4],a[5]"
   ]
  },
  {
   "cell_type": "code",
   "execution_count": 6,
   "id": "7b475a71",
   "metadata": {},
   "outputs": [
    {
     "data": {
      "text/plain": [
       "7"
      ]
     },
     "execution_count": 6,
     "metadata": {},
     "output_type": "execute_result"
    }
   ],
   "source": [
    "a[0]+a[5]"
   ]
  },
  {
   "cell_type": "code",
   "execution_count": 7,
   "id": "645bd788",
   "metadata": {},
   "outputs": [
    {
     "data": {
      "text/plain": [
       "24"
      ]
     },
     "execution_count": 7,
     "metadata": {},
     "output_type": "execute_result"
    }
   ],
   "source": [
    "a[3]*a[5]"
   ]
  },
  {
   "cell_type": "code",
   "execution_count": 8,
   "id": "8b050c5f",
   "metadata": {},
   "outputs": [
    {
     "data": {
      "text/plain": [
       "3.0"
      ]
     },
     "execution_count": 8,
     "metadata": {},
     "output_type": "execute_result"
    }
   ],
   "source": [
    "a[5]/a[1]"
   ]
  },
  {
   "cell_type": "code",
   "execution_count": 11,
   "id": "2da276a5",
   "metadata": {},
   "outputs": [
    {
     "data": {
      "text/plain": [
       "array([[1, 2, 3],\n",
       "       [4, 5, 6]])"
      ]
     },
     "execution_count": 11,
     "metadata": {},
     "output_type": "execute_result"
    }
   ],
   "source": [
    "##################### INDEXING OF 2-D ARRAY  #####################\n",
    "a =np.array(((1,2,3),(4,5,6)))\n",
    "a"
   ]
  },
  {
   "cell_type": "code",
   "execution_count": 12,
   "id": "6283706d",
   "metadata": {},
   "outputs": [
    {
     "data": {
      "text/plain": [
       "array([1, 2, 3])"
      ]
     },
     "execution_count": 12,
     "metadata": {},
     "output_type": "execute_result"
    }
   ],
   "source": [
    "a[0]"
   ]
  },
  {
   "cell_type": "code",
   "execution_count": 13,
   "id": "7e973908",
   "metadata": {},
   "outputs": [
    {
     "data": {
      "text/plain": [
       "array([4, 5, 6])"
      ]
     },
     "execution_count": 13,
     "metadata": {},
     "output_type": "execute_result"
    }
   ],
   "source": [
    "a[1]"
   ]
  },
  {
   "cell_type": "code",
   "execution_count": 14,
   "id": "b30fb6dc",
   "metadata": {},
   "outputs": [
    {
     "data": {
      "text/plain": [
       "2"
      ]
     },
     "execution_count": 14,
     "metadata": {},
     "output_type": "execute_result"
    }
   ],
   "source": [
    "a[0,1]"
   ]
  },
  {
   "cell_type": "code",
   "execution_count": 18,
   "id": "35131064",
   "metadata": {},
   "outputs": [
    {
     "data": {
      "text/plain": [
       "6"
      ]
     },
     "execution_count": 18,
     "metadata": {},
     "output_type": "execute_result"
    }
   ],
   "source": [
    "a[1,2]"
   ]
  },
  {
   "cell_type": "code",
   "execution_count": 19,
   "id": "e3a9af32",
   "metadata": {},
   "outputs": [
    {
     "data": {
      "text/plain": [
       "6"
      ]
     },
     "execution_count": 19,
     "metadata": {},
     "output_type": "execute_result"
    }
   ],
   "source": [
    "a[1][2]"
   ]
  },
  {
   "cell_type": "code",
   "execution_count": 21,
   "id": "8b49b976",
   "metadata": {},
   "outputs": [
    {
     "data": {
      "text/plain": [
       "array([[[ 1,  2],\n",
       "        [ 3,  4]],\n",
       "\n",
       "       [[ 0,  0],\n",
       "        [-1, -1]]])"
      ]
     },
     "execution_count": 21,
     "metadata": {},
     "output_type": "execute_result"
    }
   ],
   "source": [
    "##################### INDEXING OF 3-D ARRAY  #####################\n",
    "a = np.array([[[1,2],[3,4]],[[0,0],[-1,-1]]])\n",
    "a"
   ]
  },
  {
   "cell_type": "code",
   "execution_count": 22,
   "id": "cd0ddc5b",
   "metadata": {},
   "outputs": [
    {
     "data": {
      "text/plain": [
       "array([[1, 2],\n",
       "       [3, 4]])"
      ]
     },
     "execution_count": 22,
     "metadata": {},
     "output_type": "execute_result"
    }
   ],
   "source": [
    "a[0]"
   ]
  },
  {
   "cell_type": "code",
   "execution_count": 24,
   "id": "7757b540",
   "metadata": {},
   "outputs": [
    {
     "data": {
      "text/plain": [
       "array([3, 4])"
      ]
     },
     "execution_count": 24,
     "metadata": {},
     "output_type": "execute_result"
    }
   ],
   "source": [
    "a[0,1]"
   ]
  },
  {
   "cell_type": "code",
   "execution_count": 27,
   "id": "b5ea4eea",
   "metadata": {},
   "outputs": [
    {
     "data": {
      "text/plain": [
       "3"
      ]
     },
     "execution_count": 27,
     "metadata": {},
     "output_type": "execute_result"
    }
   ],
   "source": [
    "a[0,1,0]"
   ]
  },
  {
   "cell_type": "code",
   "execution_count": 29,
   "id": "b1c9c757",
   "metadata": {},
   "outputs": [
    {
     "data": {
      "text/plain": [
       "3"
      ]
     },
     "execution_count": 29,
     "metadata": {},
     "output_type": "execute_result"
    }
   ],
   "source": [
    "a[0][1][0]"
   ]
  },
  {
   "cell_type": "code",
   "execution_count": 25,
   "id": "2c356178",
   "metadata": {},
   "outputs": [
    {
     "data": {
      "text/plain": [
       "array([1, 2])"
      ]
     },
     "execution_count": 25,
     "metadata": {},
     "output_type": "execute_result"
    }
   ],
   "source": [
    "a[0,0]"
   ]
  },
  {
   "cell_type": "code",
   "execution_count": 26,
   "id": "d72fd1e5",
   "metadata": {},
   "outputs": [
    {
     "data": {
      "text/plain": [
       "2"
      ]
     },
     "execution_count": 26,
     "metadata": {},
     "output_type": "execute_result"
    }
   ],
   "source": [
    "a[0,0,1]"
   ]
  },
  {
   "cell_type": "code",
   "execution_count": 28,
   "id": "6f09cfab",
   "metadata": {},
   "outputs": [
    {
     "data": {
      "text/plain": [
       "array([[ 0,  0],\n",
       "       [-1, -1]])"
      ]
     },
     "execution_count": 28,
     "metadata": {},
     "output_type": "execute_result"
    }
   ],
   "source": [
    "a[1]"
   ]
  },
  {
   "cell_type": "code",
   "execution_count": 30,
   "id": "26802813",
   "metadata": {},
   "outputs": [
    {
     "data": {
      "text/plain": [
       "array([0, 0])"
      ]
     },
     "execution_count": 30,
     "metadata": {},
     "output_type": "execute_result"
    }
   ],
   "source": [
    "a[1,0]"
   ]
  },
  {
   "cell_type": "code",
   "execution_count": 31,
   "id": "0467f98f",
   "metadata": {},
   "outputs": [
    {
     "data": {
      "text/plain": [
       "0"
      ]
     },
     "execution_count": 31,
     "metadata": {},
     "output_type": "execute_result"
    }
   ],
   "source": [
    "a[1,0,1]"
   ]
  },
  {
   "cell_type": "code",
   "execution_count": 32,
   "id": "5b59f4fc",
   "metadata": {},
   "outputs": [
    {
     "data": {
      "text/plain": [
       "array([-1, -1])"
      ]
     },
     "execution_count": 32,
     "metadata": {},
     "output_type": "execute_result"
    }
   ],
   "source": [
    "a[1,1]"
   ]
  },
  {
   "cell_type": "code",
   "execution_count": 33,
   "id": "7f88d55b",
   "metadata": {},
   "outputs": [
    {
     "data": {
      "text/plain": [
       "-1"
      ]
     },
     "execution_count": 33,
     "metadata": {},
     "output_type": "execute_result"
    }
   ],
   "source": [
    "a[1][1][1]"
   ]
  },
  {
   "cell_type": "markdown",
   "id": "e456e895",
   "metadata": {},
   "source": [
    "### SLICING OF ARRAY"
   ]
  },
  {
   "cell_type": "code",
   "execution_count": 36,
   "id": "af614272",
   "metadata": {},
   "outputs": [
    {
     "data": {
      "text/plain": [
       "array([1, 2, 3, 4, 5, 6])"
      ]
     },
     "execution_count": 36,
     "metadata": {},
     "output_type": "execute_result"
    }
   ],
   "source": [
    "##################### SLICING OF 1-D ARRAY  #####################\n",
    "a = np.array((1,2,3,4,5,6))\n",
    "a"
   ]
  },
  {
   "cell_type": "code",
   "execution_count": 37,
   "id": "1da54ad4",
   "metadata": {},
   "outputs": [
    {
     "data": {
      "text/plain": [
       "array([1, 2, 3, 4, 5, 6])"
      ]
     },
     "execution_count": 37,
     "metadata": {},
     "output_type": "execute_result"
    }
   ],
   "source": [
    "a[:]"
   ]
  },
  {
   "cell_type": "code",
   "execution_count": 39,
   "id": "59c7068f",
   "metadata": {},
   "outputs": [
    {
     "data": {
      "text/plain": [
       "array([1, 2, 3, 4, 5, 6])"
      ]
     },
     "execution_count": 39,
     "metadata": {},
     "output_type": "execute_result"
    }
   ],
   "source": [
    "a[0:]"
   ]
  },
  {
   "cell_type": "code",
   "execution_count": 40,
   "id": "3c23a545",
   "metadata": {},
   "outputs": [
    {
     "data": {
      "text/plain": [
       "array([3, 4, 5, 6])"
      ]
     },
     "execution_count": 40,
     "metadata": {},
     "output_type": "execute_result"
    }
   ],
   "source": [
    "a[2:]"
   ]
  },
  {
   "cell_type": "code",
   "execution_count": 41,
   "id": "e3ac489b",
   "metadata": {},
   "outputs": [
    {
     "data": {
      "text/plain": [
       "array([1, 2, 3, 4, 5])"
      ]
     },
     "execution_count": 41,
     "metadata": {},
     "output_type": "execute_result"
    }
   ],
   "source": [
    "a[:-1]"
   ]
  },
  {
   "cell_type": "code",
   "execution_count": 42,
   "id": "edcf9dc8",
   "metadata": {},
   "outputs": [
    {
     "data": {
      "text/plain": [
       "array([6, 5, 4, 3, 2, 1])"
      ]
     },
     "execution_count": 42,
     "metadata": {},
     "output_type": "execute_result"
    }
   ],
   "source": [
    "a[::-1]"
   ]
  },
  {
   "cell_type": "code",
   "execution_count": 43,
   "id": "e494d5a9",
   "metadata": {},
   "outputs": [
    {
     "data": {
      "text/plain": [
       "array([6, 5, 4, 3])"
      ]
     },
     "execution_count": 43,
     "metadata": {},
     "output_type": "execute_result"
    }
   ],
   "source": [
    "a[2:][::-1]"
   ]
  },
  {
   "cell_type": "code",
   "execution_count": 44,
   "id": "3165bc8a",
   "metadata": {},
   "outputs": [
    {
     "data": {
      "text/plain": [
       "array([[1, 2],\n",
       "       [3, 4],\n",
       "       [5, 6]])"
      ]
     },
     "execution_count": 44,
     "metadata": {},
     "output_type": "execute_result"
    }
   ],
   "source": [
    "##################### SLICING OF 2-D ARRAY  #####################\n",
    "a =np.array([(1,2),(3,4),(5,6)])\n",
    "a"
   ]
  },
  {
   "cell_type": "code",
   "execution_count": 35,
   "id": "a836abdf",
   "metadata": {},
   "outputs": [
    {
     "data": {
      "text/plain": [
       "array([[1, 2],\n",
       "       [3, 4],\n",
       "       [5, 6]])"
      ]
     },
     "execution_count": 35,
     "metadata": {},
     "output_type": "execute_result"
    }
   ],
   "source": [
    "a[0:]"
   ]
  },
  {
   "cell_type": "code",
   "execution_count": 46,
   "id": "357ed7c6",
   "metadata": {},
   "outputs": [
    {
     "data": {
      "text/plain": [
       "array([[5, 6],\n",
       "       [3, 4]])"
      ]
     },
     "execution_count": 46,
     "metadata": {},
     "output_type": "execute_result"
    }
   ],
   "source": [
    "a[1:][::-1]"
   ]
  },
  {
   "cell_type": "code",
   "execution_count": 47,
   "id": "bd74f2ec",
   "metadata": {},
   "outputs": [
    {
     "data": {
      "text/plain": [
       "array([[3, 4],\n",
       "       [1, 2]])"
      ]
     },
     "execution_count": 47,
     "metadata": {},
     "output_type": "execute_result"
    }
   ],
   "source": [
    "a[1::-1]"
   ]
  },
  {
   "cell_type": "code",
   "execution_count": 48,
   "id": "90fc5b97",
   "metadata": {},
   "outputs": [
    {
     "data": {
      "text/plain": [
       "array([3, 4])"
      ]
     },
     "execution_count": 48,
     "metadata": {},
     "output_type": "execute_result"
    }
   ],
   "source": [
    "a[0:][1]"
   ]
  },
  {
   "cell_type": "code",
   "execution_count": 49,
   "id": "ad55d238",
   "metadata": {},
   "outputs": [
    {
     "data": {
      "text/plain": [
       "array([6, 4, 2])"
      ]
     },
     "execution_count": 49,
     "metadata": {},
     "output_type": "execute_result"
    }
   ],
   "source": [
    "a[:,1][::-1]"
   ]
  },
  {
   "cell_type": "code",
   "execution_count": 50,
   "id": "e4a71c07",
   "metadata": {},
   "outputs": [
    {
     "data": {
      "text/plain": [
       "2"
      ]
     },
     "execution_count": 50,
     "metadata": {},
     "output_type": "execute_result"
    }
   ],
   "source": [
    "a[:,1][::-1][2]"
   ]
  },
  {
   "cell_type": "code",
   "execution_count": 81,
   "id": "43cbc3d7",
   "metadata": {},
   "outputs": [
    {
     "data": {
      "text/plain": [
       "array([[[1, 2, 3],\n",
       "        [4, 5, 6]],\n",
       "\n",
       "       [[7, 3, 9],\n",
       "        [7, 8, 9]]])"
      ]
     },
     "execution_count": 81,
     "metadata": {},
     "output_type": "execute_result"
    }
   ],
   "source": [
    "##################### SLICING OF 3-D ARRAY  #####################\n",
    "a =np.array([[(1,2,3),(4,5,6)],[(7,3,9),(7,8,9)]])\n",
    "a"
   ]
  },
  {
   "cell_type": "code",
   "execution_count": 76,
   "id": "5e5b329a",
   "metadata": {},
   "outputs": [
    {
     "data": {
      "text/plain": [
       "array([[[7, 3, 9],\n",
       "        [7, 8, 9]]])"
      ]
     },
     "execution_count": 76,
     "metadata": {},
     "output_type": "execute_result"
    }
   ],
   "source": [
    "a[1:,:2]"
   ]
  },
  {
   "cell_type": "code",
   "execution_count": 77,
   "id": "4b935be8",
   "metadata": {},
   "outputs": [
    {
     "data": {
      "text/plain": [
       "array([[[7, 3, 9],\n",
       "        [7, 8, 9]]])"
      ]
     },
     "execution_count": 77,
     "metadata": {},
     "output_type": "execute_result"
    }
   ],
   "source": [
    "a[1:2,:]"
   ]
  },
  {
   "cell_type": "code",
   "execution_count": 78,
   "id": "9265df97",
   "metadata": {},
   "outputs": [
    {
     "data": {
      "text/plain": [
       "array([[[8, 9]]])"
      ]
     },
     "execution_count": 78,
     "metadata": {},
     "output_type": "execute_result"
    }
   ],
   "source": [
    "a[1:,1:,1:]"
   ]
  },
  {
   "cell_type": "code",
   "execution_count": 79,
   "id": "30a5cc22",
   "metadata": {},
   "outputs": [
    {
     "data": {
      "text/plain": [
       "array([[[5, 6]],\n",
       "\n",
       "       [[8, 9]]])"
      ]
     },
     "execution_count": 79,
     "metadata": {},
     "output_type": "execute_result"
    }
   ],
   "source": [
    "a[0:,1:,1:]"
   ]
  },
  {
   "cell_type": "markdown",
   "id": "b22af2fc",
   "metadata": {},
   "source": [
    "### ITERATING ARRAY"
   ]
  },
  {
   "cell_type": "code",
   "execution_count": 96,
   "id": "1560aafd",
   "metadata": {},
   "outputs": [
    {
     "data": {
      "text/plain": [
       "array([1, 1, 1, 2, 2, 2, 3, 3, 3, 4, 4, 4])"
      ]
     },
     "execution_count": 96,
     "metadata": {},
     "output_type": "execute_result"
    }
   ],
   "source": [
    "##################### ITERATING OF 1-D ARRAY  #####################\n",
    "a=np.array([1,1,1,2,2,2,3,3,3,4,4,4])\n",
    "a"
   ]
  },
  {
   "cell_type": "code",
   "execution_count": 97,
   "id": "bf53524e",
   "metadata": {},
   "outputs": [
    {
     "name": "stdout",
     "output_type": "stream",
     "text": [
      "1\n",
      "1\n",
      "1\n",
      "2\n",
      "2\n",
      "2\n",
      "3\n",
      "3\n",
      "3\n",
      "4\n",
      "4\n",
      "4\n"
     ]
    }
   ],
   "source": [
    "for i in a:\n",
    "    print(i)"
   ]
  },
  {
   "cell_type": "markdown",
   "id": "bc453272",
   "metadata": {},
   "source": [
    "##### ANOTHER WAY OF ITERATING AN NUMPY ARRAY BY USING `NP.NDITER()` FUNCTION"
   ]
  },
  {
   "cell_type": "code",
   "execution_count": 99,
   "id": "dae65011",
   "metadata": {},
   "outputs": [
    {
     "data": {
      "text/plain": [
       "[array(1),\n",
       " array(1),\n",
       " array(1),\n",
       " array(2),\n",
       " array(2),\n",
       " array(2),\n",
       " array(3),\n",
       " array(3),\n",
       " array(3),\n",
       " array(4),\n",
       " array(4),\n",
       " array(4)]"
      ]
     },
     "execution_count": 99,
     "metadata": {},
     "output_type": "execute_result"
    }
   ],
   "source": [
    "list(np.nditer(a))"
   ]
  },
  {
   "cell_type": "code",
   "execution_count": 100,
   "id": "878cc783",
   "metadata": {},
   "outputs": [
    {
     "name": "stdout",
     "output_type": "stream",
     "text": [
      "1\n",
      "1\n",
      "1\n",
      "2\n",
      "2\n",
      "2\n",
      "3\n",
      "3\n",
      "3\n",
      "4\n",
      "4\n",
      "4\n"
     ]
    }
   ],
   "source": [
    "for i in np.nditer(a):\n",
    "    print(i)"
   ]
  },
  {
   "cell_type": "code",
   "execution_count": 101,
   "id": "d5937d9b",
   "metadata": {},
   "outputs": [
    {
     "data": {
      "text/plain": [
       "array([[1, 2, 3],\n",
       "       [4, 5, 6]])"
      ]
     },
     "execution_count": 101,
     "metadata": {},
     "output_type": "execute_result"
    }
   ],
   "source": [
    "##################### ITERATING OF 2-D ARRAY  #####################\n",
    "a =np.array([[1,2,3],[4,5,6]])\n",
    "a"
   ]
  },
  {
   "cell_type": "code",
   "execution_count": 88,
   "id": "a0da6931",
   "metadata": {},
   "outputs": [
    {
     "name": "stdout",
     "output_type": "stream",
     "text": [
      "[1 2 3]\n",
      "[4 5 6]\n"
     ]
    }
   ],
   "source": [
    "for i in a:\n",
    "    print(i)"
   ]
  },
  {
   "cell_type": "code",
   "execution_count": 89,
   "id": "74632ac6",
   "metadata": {},
   "outputs": [
    {
     "name": "stdout",
     "output_type": "stream",
     "text": [
      "1\n",
      "2\n",
      "3\n",
      "4\n",
      "5\n",
      "6\n"
     ]
    }
   ],
   "source": [
    "for i in a:\n",
    "    for j in i:\n",
    "        print(j)"
   ]
  },
  {
   "cell_type": "markdown",
   "id": "aefb4e12",
   "metadata": {},
   "source": [
    "##### ANOTHER WAY OF ITERATING AN NUMPY ARRAY BY USING `NP.NDITER()` FUNCTION"
   ]
  },
  {
   "cell_type": "code",
   "execution_count": 102,
   "id": "43fce0ba",
   "metadata": {},
   "outputs": [
    {
     "name": "stdout",
     "output_type": "stream",
     "text": [
      "1\n",
      "2\n",
      "3\n",
      "4\n",
      "5\n",
      "6\n"
     ]
    }
   ],
   "source": [
    "for i in np.nditer(a):\n",
    "    print(i)"
   ]
  },
  {
   "cell_type": "code",
   "execution_count": 103,
   "id": "0f5ff688",
   "metadata": {},
   "outputs": [],
   "source": [
    "##################### ITERATING OF 3-D ARRAY  #####################\n",
    "\n",
    "a =np.array([[[1,2,3],[4,5,6]],[[7,8,9],[0,0,0]]])"
   ]
  },
  {
   "cell_type": "code",
   "execution_count": 92,
   "id": "c2e17d45",
   "metadata": {},
   "outputs": [
    {
     "name": "stdout",
     "output_type": "stream",
     "text": [
      "[[1 2 3]\n",
      " [4 5 6]]\n",
      "[[7 8 9]\n",
      " [0 0 0]]\n"
     ]
    }
   ],
   "source": [
    "for i in a:\n",
    "    print(i)"
   ]
  },
  {
   "cell_type": "code",
   "execution_count": 93,
   "id": "d7061a8a",
   "metadata": {},
   "outputs": [
    {
     "name": "stdout",
     "output_type": "stream",
     "text": [
      "[1 2 3]\n",
      "[4 5 6]\n",
      "[7 8 9]\n",
      "[0 0 0]\n"
     ]
    }
   ],
   "source": [
    "for i in a:\n",
    "    for j in i:\n",
    "        print(j)"
   ]
  },
  {
   "cell_type": "code",
   "execution_count": 94,
   "id": "a6d70b0a",
   "metadata": {},
   "outputs": [
    {
     "name": "stdout",
     "output_type": "stream",
     "text": [
      "1\n",
      "2\n",
      "3\n",
      "4\n",
      "5\n",
      "6\n",
      "7\n",
      "8\n",
      "9\n",
      "0\n",
      "0\n",
      "0\n"
     ]
    }
   ],
   "source": [
    "for i in a:\n",
    "    for j in i:\n",
    "        for k in j:\n",
    "            print(k)"
   ]
  },
  {
   "cell_type": "markdown",
   "id": "3f5e0d08",
   "metadata": {},
   "source": [
    "##### ANOTHER WAY OF ITERATING AN NUMPY ARRAY BY USING `NP.NDITER()` FUNCTION"
   ]
  },
  {
   "cell_type": "code",
   "execution_count": 104,
   "id": "2ffff14b",
   "metadata": {},
   "outputs": [
    {
     "name": "stdout",
     "output_type": "stream",
     "text": [
      "1\n",
      "2\n",
      "3\n",
      "4\n",
      "5\n",
      "6\n",
      "7\n",
      "8\n",
      "9\n",
      "0\n",
      "0\n",
      "0\n"
     ]
    }
   ],
   "source": [
    "for i in np.nditer(a):\n",
    "    print(i)"
   ]
  },
  {
   "cell_type": "markdown",
   "id": "c9504747",
   "metadata": {},
   "source": [
    "### HOW ARRAYS ARE FASTER THAN LISTS"
   ]
  },
  {
   "cell_type": "code",
   "execution_count": 103,
   "id": "9e74d7ca",
   "metadata": {},
   "outputs": [
    {
     "name": "stdout",
     "output_type": "stream",
     "text": [
      "Time taken by List :  0.22323155403137207  seconds\n"
     ]
    }
   ],
   "source": [
    "# Importing the required libraries\n",
    "import numpy as np\n",
    "import time\n",
    "\n",
    "# Declaring size of lists\n",
    "size=1000000\n",
    "\n",
    "# Creating lists\n",
    "l1 = range(size)\n",
    "l2 = range(size)\n",
    "# LIST\n",
    "initialTime = time.time()\n",
    "result_list = [(a*b) for a,b in zip(l1,l2)]\n",
    "\n",
    "# Calculating execution time\n",
    "print('Time taken by List : ',(time.time()-initialTime),' seconds')\n"
   ]
  },
  {
   "cell_type": "code",
   "execution_count": 104,
   "id": "f179c42b",
   "metadata": {},
   "outputs": [
    {
     "name": "stdout",
     "output_type": "stream",
     "text": [
      "Time taken by array :  0.0040013790130615234  seconds\n"
     ]
    }
   ],
   "source": [
    "# Importing the required libraries\n",
    "import numpy as np\n",
    "import time\n",
    "\n",
    "# Declaring size of arrays\n",
    "size=1000000\n",
    "\n",
    "# Creating arrays\n",
    "a = np.arange(size)\n",
    "b = np.arange(size)\n",
    "# ARRAY\n",
    "initialTime = time.time()\n",
    "result_array = a*b\n",
    "\n",
    "# Calculating execution time\n",
    "print('Time taken by array : ',(time.time()-initialTime),' seconds')"
   ]
  },
  {
   "cell_type": "code",
   "execution_count": null,
   "id": "10da1e20",
   "metadata": {},
   "outputs": [],
   "source": []
  }
 ],
 "metadata": {
  "kernelspec": {
   "display_name": "Python 3 (ipykernel)",
   "language": "python",
   "name": "python3"
  },
  "language_info": {
   "codemirror_mode": {
    "name": "ipython",
    "version": 3
   },
   "file_extension": ".py",
   "mimetype": "text/x-python",
   "name": "python",
   "nbconvert_exporter": "python",
   "pygments_lexer": "ipython3",
   "version": "3.9.12"
  }
 },
 "nbformat": 4,
 "nbformat_minor": 5
}
