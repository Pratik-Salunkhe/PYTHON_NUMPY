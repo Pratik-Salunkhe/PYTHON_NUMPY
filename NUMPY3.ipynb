{
 "cells": [
  {
   "cell_type": "markdown",
   "id": "c60a5fb8",
   "metadata": {},
   "source": [
    "# `NUMPY`   "
   ]
  },
  {
   "cell_type": "code",
   "execution_count": 1,
   "id": "a267216f",
   "metadata": {},
   "outputs": [
    {
     "name": "stdout",
     "output_type": "stream",
     "text": [
      "Requirement already satisfied: numpy in c:\\users\\salun\\anaconda3\\lib\\site-packages (1.21.5)\n"
     ]
    }
   ],
   "source": [
    "# Following command is used to install the NUMPY \n",
    "\n",
    "!pip install numpy"
   ]
  },
  {
   "cell_type": "markdown",
   "id": "72191f90",
   "metadata": {},
   "source": [
    "### Imoprting the `Numpy Library`"
   ]
  },
  {
   "cell_type": "code",
   "execution_count": 3,
   "id": "4b08b905",
   "metadata": {},
   "outputs": [],
   "source": [
    "# Following command is used to import the NUMPY LIBRARY in jupyter notebook\n",
    "\n",
    "import numpy as np  \n",
    "\n",
    "# Here the \"np\" is used as an alias for numpy means np is used as short name for \"numpy\""
   ]
  },
  {
   "cell_type": "markdown",
   "id": "73ff902f",
   "metadata": {},
   "source": [
    "### FUNCTIONS IN NUMPY"
   ]
  },
  {
   "cell_type": "markdown",
   "id": "f234d135",
   "metadata": {},
   "source": [
    "##### MIN() FUNCTION IN ARRAY"
   ]
  },
  {
   "cell_type": "markdown",
   "id": "5757f20d",
   "metadata": {},
   "source": [
    "- The min() returns the minimum value present in the array\n",
    "- syntax\n",
    "            numpy_array.min(axis=None, out=None, keepdims=False, initial=<no value>, where=True)\n"
   ]
  },
  {
   "cell_type": "code",
   "execution_count": 41,
   "id": "0451fa95",
   "metadata": {},
   "outputs": [
    {
     "data": {
      "text/plain": [
       "(array([ 10000,   2000,  45000, 980000,   1000,  75500]),\n",
       " array([[1, 3, 4],\n",
       "        [6, 7, 8]]),\n",
       " array([[[ 1,  3,  4],\n",
       "         [ 6,  7,  8]],\n",
       " \n",
       "        [[11,  3, 45],\n",
       "         [ 5,  0, 40]]]))"
      ]
     },
     "execution_count": 41,
     "metadata": {},
     "output_type": "execute_result"
    }
   ],
   "source": [
    "a = np.array([10000,2000,45000,980000,1000,75500])\n",
    "b = np.array([[1,3,4],[6,7,8]])\n",
    "c = np.array([[[1,3,4],[6,7,8]],[[11,3,45],[5,0,40]]])\n",
    "a,b,c"
   ]
  },
  {
   "cell_type": "code",
   "execution_count": 42,
   "id": "8ac6b2e9",
   "metadata": {},
   "outputs": [
    {
     "data": {
      "text/plain": [
       "(1000, 1, 0)"
      ]
     },
     "execution_count": 42,
     "metadata": {},
     "output_type": "execute_result"
    }
   ],
   "source": [
    "a.min(),b.min(),c.min()"
   ]
  },
  {
   "cell_type": "markdown",
   "id": "c13bbc54",
   "metadata": {},
   "source": [
    "##### MAX() FUNCTION IN ARRAY"
   ]
  },
  {
   "cell_type": "markdown",
   "id": "2944a890",
   "metadata": {},
   "source": [
    "- The max() returns the maximum value from the array\n",
    "- syntax\n",
    "          numpy_array.max(axis=None, out=None, keepdims=False, initial=<no value>, where=True)  "
   ]
  },
  {
   "cell_type": "code",
   "execution_count": 43,
   "id": "b02eedd9",
   "metadata": {},
   "outputs": [
    {
     "data": {
      "text/plain": [
       "(array([ 10000,   2000,  45000, 980000,   1000,  75500]),\n",
       " array([[1, 3, 4],\n",
       "        [6, 7, 8]]),\n",
       " array([[[ 1,  3,  4],\n",
       "         [ 6,  7,  8]],\n",
       " \n",
       "        [[11,  3, 45],\n",
       "         [ 5,  0, 40]]]))"
      ]
     },
     "execution_count": 43,
     "metadata": {},
     "output_type": "execute_result"
    }
   ],
   "source": [
    "a = np.array([10000,2000,45000,980000,1000,75500])\n",
    "b = np.array([[1,3,4],[6,7,8]])\n",
    "c = np.array([[[1,3,4],[6,7,8]],[[11,3,45],[5,0,40]]])\n",
    "a,b,c"
   ]
  },
  {
   "cell_type": "code",
   "execution_count": 44,
   "id": "a886014a",
   "metadata": {},
   "outputs": [
    {
     "data": {
      "text/plain": [
       "(980000, 8, 45)"
      ]
     },
     "execution_count": 44,
     "metadata": {},
     "output_type": "execute_result"
    }
   ],
   "source": [
    "a.max(),b.max(),c.max()"
   ]
  },
  {
   "cell_type": "markdown",
   "id": "9b278775",
   "metadata": {},
   "source": [
    "##### VAR() FUNCTION IN ARRAY"
   ]
  },
  {
   "cell_type": "markdown",
   "id": "5e20c65e",
   "metadata": {},
   "source": [
    "- The var() returns the variance of all the elements in the array\n",
    "- syntax\n",
    "        numpy_array.var(axis=None, dtype=None, out=None, ddof=0, keepdims=False, *, where=True)"
   ]
  },
  {
   "cell_type": "code",
   "execution_count": 63,
   "id": "4a5d0f39",
   "metadata": {},
   "outputs": [
    {
     "data": {
      "text/plain": [
       "(array([ 10000,   2000,  45000, 980000,   1000,  75500]),\n",
       " array([[1, 3, 4],\n",
       "        [6, 7, 8]]),\n",
       " array([[[ 1,  3,  4],\n",
       "         [ 6,  7,  8]],\n",
       " \n",
       "        [[11,  3, 45],\n",
       "         [ 5,  0, 40]]]))"
      ]
     },
     "execution_count": 63,
     "metadata": {},
     "output_type": "execute_result"
    }
   ],
   "source": [
    "a = np.array([10000,2000,45000,980000,1000,75500])\n",
    "b = np.array([[1,3,4],[6,7,8]])\n",
    "c = np.array([[[1,3,4],[6,7,8]],[[11,3,45],[5,0,40]]])\n",
    "a,b,c"
   ]
  },
  {
   "cell_type": "code",
   "execution_count": 46,
   "id": "87dc1e88",
   "metadata": {},
   "outputs": [
    {
     "data": {
      "text/plain": [
       "(126930534722.22223, 5.805555555555556, 206.74305555555554)"
      ]
     },
     "execution_count": 46,
     "metadata": {},
     "output_type": "execute_result"
    }
   ],
   "source": [
    "a.var(),b.var(),c.var()"
   ]
  },
  {
   "cell_type": "markdown",
   "id": "ea5d2453",
   "metadata": {},
   "source": [
    "##### STD() FUNCTION IN ARRAY"
   ]
  },
  {
   "cell_type": "markdown",
   "id": "9d1e80c0",
   "metadata": {},
   "source": [
    "- The std() returns the standard deviation of all the elements in the array\n",
    "- syntax\n",
    "        numpy_array.std(axis=None, dtype=None, out=None, ddof=0, keepdims=False, *, where=True)"
   ]
  },
  {
   "cell_type": "code",
   "execution_count": 64,
   "id": "5c93d7b1",
   "metadata": {},
   "outputs": [
    {
     "data": {
      "text/plain": [
       "(array([ 10000,   2000,  45000, 980000,   1000,  75500]),\n",
       " array([[1, 3, 4],\n",
       "        [6, 7, 8]]),\n",
       " array([[[ 1,  3,  4],\n",
       "         [ 6,  7,  8]],\n",
       " \n",
       "        [[11,  3, 45],\n",
       "         [ 5,  0, 40]]]))"
      ]
     },
     "execution_count": 64,
     "metadata": {},
     "output_type": "execute_result"
    }
   ],
   "source": [
    "a = np.array([10000,2000,45000,980000,1000,75500])\n",
    "b = np.array([[1,3,4],[6,7,8]])\n",
    "c = np.array([[[1,3,4],[6,7,8]],[[11,3,45],[5,0,40]]])\n",
    "a,b,c"
   ]
  },
  {
   "cell_type": "code",
   "execution_count": 48,
   "id": "8dcb77d9",
   "metadata": {},
   "outputs": [
    {
     "data": {
      "text/plain": [
       "(356273.1181582779, 2.4094720491334933, 14.378562360526713)"
      ]
     },
     "execution_count": 48,
     "metadata": {},
     "output_type": "execute_result"
    }
   ],
   "source": [
    "a.std(),b.std(),c.std()"
   ]
  },
  {
   "cell_type": "markdown",
   "id": "38a30c54",
   "metadata": {},
   "source": [
    "##### NP.SQUARE() FUNCTION IN ARRAY"
   ]
  },
  {
   "cell_type": "markdown",
   "id": "8e3e93fe",
   "metadata": {},
   "source": [
    "- The square() returns the square of all the elements in the array\n",
    "- syntax\n",
    "        np.square(*args, **kwargs)"
   ]
  },
  {
   "cell_type": "code",
   "execution_count": 65,
   "id": "515f8e13",
   "metadata": {},
   "outputs": [
    {
     "data": {
      "text/plain": [
       "(array([ 10000,   2000,  45000, 980000,   1000,  75500]),\n",
       " array([[1, 3, 4],\n",
       "        [6, 7, 8]]),\n",
       " array([[[ 1,  3,  4],\n",
       "         [ 6,  7,  8]],\n",
       " \n",
       "        [[11,  3, 45],\n",
       "         [ 5,  0, 40]]]))"
      ]
     },
     "execution_count": 65,
     "metadata": {},
     "output_type": "execute_result"
    }
   ],
   "source": [
    "a = np.array([10000,2000,45000,980000,1000,75500])\n",
    "b = np.array([[1,3,4],[6,7,8]])\n",
    "c = np.array([[[1,3,4],[6,7,8]],[[11,3,45],[5,0,40]]])\n",
    "a,b,c"
   ]
  },
  {
   "cell_type": "code",
   "execution_count": 52,
   "id": "ecdb2c23",
   "metadata": {},
   "outputs": [
    {
     "data": {
      "text/plain": [
       "array([  100000000,     4000000,  2025000000, -1672674304,     1000000,\n",
       "        1405282704], dtype=int32)"
      ]
     },
     "execution_count": 52,
     "metadata": {},
     "output_type": "execute_result"
    }
   ],
   "source": [
    "np.square(a)"
   ]
  },
  {
   "cell_type": "code",
   "execution_count": 53,
   "id": "774e9641",
   "metadata": {},
   "outputs": [
    {
     "data": {
      "text/plain": [
       "array([[ 1,  9, 16],\n",
       "       [36, 49, 64]], dtype=int32)"
      ]
     },
     "execution_count": 53,
     "metadata": {},
     "output_type": "execute_result"
    }
   ],
   "source": [
    "np.square(b)"
   ]
  },
  {
   "cell_type": "code",
   "execution_count": 54,
   "id": "3dab38de",
   "metadata": {},
   "outputs": [
    {
     "data": {
      "text/plain": [
       "array([[[   1,    9,   16],\n",
       "        [  36,   49,   64]],\n",
       "\n",
       "       [[ 121,    9, 2025],\n",
       "        [  25,    0, 1600]]], dtype=int32)"
      ]
     },
     "execution_count": 54,
     "metadata": {},
     "output_type": "execute_result"
    }
   ],
   "source": [
    "np.square(c)"
   ]
  },
  {
   "cell_type": "markdown",
   "id": "37813d92",
   "metadata": {},
   "source": [
    "##### NP.POWER() FUNCTION IN ARRAY"
   ]
  },
  {
   "cell_type": "markdown",
   "id": "e062d353",
   "metadata": {},
   "source": [
    "- The np.power() returns the power of each element in the array to the given power value\n",
    "- syntax \n",
    "        np.power(*args, **kwargs)"
   ]
  },
  {
   "cell_type": "code",
   "execution_count": 66,
   "id": "a0245a3c",
   "metadata": {},
   "outputs": [
    {
     "data": {
      "text/plain": [
       "(array([ 10000,   2000,  45000, 980000,   1000,  75500]),\n",
       " array([[1, 3, 4],\n",
       "        [6, 7, 8]]),\n",
       " array([[[ 1,  3,  4],\n",
       "         [ 6,  7,  8]],\n",
       " \n",
       "        [[11,  3, 45],\n",
       "         [ 5,  0, 40]]]))"
      ]
     },
     "execution_count": 66,
     "metadata": {},
     "output_type": "execute_result"
    }
   ],
   "source": [
    "a = np.array([10000,2000,45000,980000,1000,75500])\n",
    "b = np.array([[1,3,4],[6,7,8]])\n",
    "c = np.array([[[1,3,4],[6,7,8]],[[11,3,45],[5,0,40]]])\n",
    "a,b,c"
   ]
  },
  {
   "cell_type": "code",
   "execution_count": 57,
   "id": "e8c7e609",
   "metadata": {},
   "outputs": [
    {
     "data": {
      "text/plain": [
       "array([  100000000,     4000000,  2025000000, -1672674304,     1000000,\n",
       "        1405282704], dtype=int32)"
      ]
     },
     "execution_count": 57,
     "metadata": {},
     "output_type": "execute_result"
    }
   ],
   "source": [
    "np.power(a,2)\n",
    "\n",
    "# Here first element defines the array assigned variable\n",
    "# Here second element defines the power (ie. x**2)"
   ]
  },
  {
   "cell_type": "code",
   "execution_count": 58,
   "id": "65654ce3",
   "metadata": {},
   "outputs": [
    {
     "data": {
      "text/plain": [
       "array([[ 1,  9, 16],\n",
       "       [36, 49, 64]], dtype=int32)"
      ]
     },
     "execution_count": 58,
     "metadata": {},
     "output_type": "execute_result"
    }
   ],
   "source": [
    "np.power(b,2)"
   ]
  },
  {
   "cell_type": "code",
   "execution_count": 59,
   "id": "109d800f",
   "metadata": {},
   "outputs": [
    {
     "data": {
      "text/plain": [
       "array([[[   1,    9,   16],\n",
       "        [  36,   49,   64]],\n",
       "\n",
       "       [[ 121,    9, 2025],\n",
       "        [  25,    0, 1600]]], dtype=int32)"
      ]
     },
     "execution_count": 59,
     "metadata": {},
     "output_type": "execute_result"
    }
   ],
   "source": [
    "np.power(c,2)"
   ]
  },
  {
   "cell_type": "markdown",
   "id": "a266ae92",
   "metadata": {},
   "source": [
    "##### NP.TRANSPOSE() IN ARRAY"
   ]
  },
  {
   "cell_type": "markdown",
   "id": "0835adce",
   "metadata": {},
   "source": [
    "- The np.transpose() reverse the dimension of array\n",
    "- syntax\n",
    "        np.transpose(a, axes=None)"
   ]
  },
  {
   "cell_type": "code",
   "execution_count": 67,
   "id": "fa4b4169",
   "metadata": {},
   "outputs": [
    {
     "data": {
      "text/plain": [
       "(array([ 10000,   2000,  45000, 980000,   1000,  75500]),\n",
       " array([[1, 3, 4],\n",
       "        [6, 7, 8]]),\n",
       " array([[[ 1,  3,  4],\n",
       "         [ 6,  7,  8]],\n",
       " \n",
       "        [[11,  3, 45],\n",
       "         [ 5,  0, 40]]]))"
      ]
     },
     "execution_count": 67,
     "metadata": {},
     "output_type": "execute_result"
    }
   ],
   "source": [
    "a = np.array([10000,2000,45000,980000,1000,75500])\n",
    "b = np.array([[1,3,4],[6,7,8]])\n",
    "c = np.array([[[1,3,4],[6,7,8]],[[11,3,45],[5,0,40]]])\n",
    "a,b,c"
   ]
  },
  {
   "cell_type": "code",
   "execution_count": 60,
   "id": "6efb7f3f",
   "metadata": {},
   "outputs": [
    {
     "data": {
      "text/plain": [
       "array([ 10000,   2000,  45000, 980000,   1000,  75500])"
      ]
     },
     "execution_count": 60,
     "metadata": {},
     "output_type": "execute_result"
    }
   ],
   "source": [
    "np.transpose(a)"
   ]
  },
  {
   "cell_type": "code",
   "execution_count": 61,
   "id": "d8ad010e",
   "metadata": {},
   "outputs": [
    {
     "data": {
      "text/plain": [
       "array([[1, 6],\n",
       "       [3, 7],\n",
       "       [4, 8]])"
      ]
     },
     "execution_count": 61,
     "metadata": {},
     "output_type": "execute_result"
    }
   ],
   "source": [
    "np.transpose(b)"
   ]
  },
  {
   "cell_type": "code",
   "execution_count": 62,
   "id": "81d42c34",
   "metadata": {},
   "outputs": [
    {
     "data": {
      "text/plain": [
       "array([[[ 1, 11],\n",
       "        [ 6,  5]],\n",
       "\n",
       "       [[ 3,  3],\n",
       "        [ 7,  0]],\n",
       "\n",
       "       [[ 4, 45],\n",
       "        [ 8, 40]]])"
      ]
     },
     "execution_count": 62,
     "metadata": {},
     "output_type": "execute_result"
    }
   ],
   "source": [
    "np.transpose(c)"
   ]
  },
  {
   "cell_type": "markdown",
   "id": "07c88d60",
   "metadata": {},
   "source": [
    "##### CONCATENATE FUNCTION IN ARRAY"
   ]
  },
  {
   "cell_type": "markdown",
   "id": "f66b049f",
   "metadata": {},
   "source": [
    "- Join a sequence of arrays along an existing axis.\n",
    "- syntax\n",
    "        np.concatenate((a1, a2, ...), axis=0, out=None, dtype=None, casting=\"same_kind\")\n",
    "\n"
   ]
  },
  {
   "cell_type": "code",
   "execution_count": 69,
   "id": "c9d4c8e8",
   "metadata": {},
   "outputs": [
    {
     "data": {
      "text/plain": [
       "(array([ 10000,   2000,  45000, 980000,   1000,  75500]),\n",
       " array([[1, 3, 4],\n",
       "        [6, 7, 8]]),\n",
       " array([[[ 1,  3,  4],\n",
       "         [ 6,  7,  8]],\n",
       " \n",
       "        [[11,  3, 45],\n",
       "         [ 5,  0, 40]]]))"
      ]
     },
     "execution_count": 69,
     "metadata": {},
     "output_type": "execute_result"
    }
   ],
   "source": [
    "a = np.array([10000,2000,45000,980000,1000,75500])\n",
    "b = np.array([[1,3,4],[6,7,8]])\n",
    "c = np.array([[[1,3,4],[6,7,8]],[[11,3,45],[5,0,40]]])\n",
    "a,b,c"
   ]
  },
  {
   "cell_type": "code",
   "execution_count": 70,
   "id": "a4415a1f",
   "metadata": {},
   "outputs": [
    {
     "ename": "TypeError",
     "evalue": "only integer scalar arrays can be converted to a scalar index",
     "output_type": "error",
     "traceback": [
      "\u001b[1;31m---------------------------------------------------------------------------\u001b[0m",
      "\u001b[1;31mTypeError\u001b[0m                                 Traceback (most recent call last)",
      "Input \u001b[1;32mIn [70]\u001b[0m, in \u001b[0;36m<cell line: 1>\u001b[1;34m()\u001b[0m\n\u001b[1;32m----> 1\u001b[0m \u001b[43mnp\u001b[49m\u001b[38;5;241;43m.\u001b[39;49m\u001b[43mconcatenate\u001b[49m\u001b[43m(\u001b[49m\u001b[43ma\u001b[49m\u001b[43m,\u001b[49m\u001b[43mb\u001b[49m\u001b[43m)\u001b[49m\n",
      "File \u001b[1;32m<__array_function__ internals>:5\u001b[0m, in \u001b[0;36mconcatenate\u001b[1;34m(*args, **kwargs)\u001b[0m\n",
      "\u001b[1;31mTypeError\u001b[0m: only integer scalar arrays can be converted to a scalar index"
     ]
    }
   ],
   "source": [
    "np.concatenate(a,b)"
   ]
  },
  {
   "cell_type": "markdown",
   "id": "51c7be40",
   "metadata": {},
   "source": [
    "`We cannot concatenate the arrays with different dimensions`"
   ]
  },
  {
   "cell_type": "code",
   "execution_count": 78,
   "id": "29c55eeb",
   "metadata": {},
   "outputs": [
    {
     "data": {
      "text/plain": [
       "(array([1, 2]), array([3, 4]))"
      ]
     },
     "execution_count": 78,
     "metadata": {},
     "output_type": "execute_result"
    }
   ],
   "source": [
    "##################### concatenating 1-D array  #####################\n",
    "a = np.array([1,2])\n",
    "b = np.array([3,4])\n",
    "a,b"
   ]
  },
  {
   "cell_type": "code",
   "execution_count": 80,
   "id": "36b784be",
   "metadata": {},
   "outputs": [
    {
     "data": {
      "text/plain": [
       "array([1, 2, 3, 4])"
      ]
     },
     "execution_count": 80,
     "metadata": {},
     "output_type": "execute_result"
    }
   ],
   "source": [
    "np.concatenate((a,b))"
   ]
  },
  {
   "cell_type": "code",
   "execution_count": 81,
   "id": "8e4eee64",
   "metadata": {},
   "outputs": [
    {
     "data": {
      "text/plain": [
       "(array([[1, 2],\n",
       "        [3, 4]]),\n",
       " array([[5, 6],\n",
       "        [7, 8]]))"
      ]
     },
     "execution_count": 81,
     "metadata": {},
     "output_type": "execute_result"
    }
   ],
   "source": [
    "##################### Concatenating 2-D array  #####################\n",
    "a = np.array([[1,2],[3,4]])\n",
    "b = np.array([[5,6],[7,8]])\n",
    "a,b"
   ]
  },
  {
   "cell_type": "code",
   "execution_count": 82,
   "id": "b2cd0f43",
   "metadata": {},
   "outputs": [
    {
     "data": {
      "text/plain": [
       "array([[1, 2],\n",
       "       [3, 4],\n",
       "       [5, 6],\n",
       "       [7, 8]])"
      ]
     },
     "execution_count": 82,
     "metadata": {},
     "output_type": "execute_result"
    }
   ],
   "source": [
    "np.concatenate((a,b))"
   ]
  },
  {
   "cell_type": "code",
   "execution_count": 85,
   "id": "160c3cb7",
   "metadata": {},
   "outputs": [
    {
     "data": {
      "text/plain": [
       "(array([[[ 1,  2],\n",
       "         [ 3,  4]],\n",
       " \n",
       "        [[ 0,  0],\n",
       "         [-1, -1]]]),\n",
       " array([[[ 5,  6],\n",
       "         [ 7,  8]],\n",
       " \n",
       "        [[-2, -2],\n",
       "         [-3, -4]]]))"
      ]
     },
     "execution_count": 85,
     "metadata": {},
     "output_type": "execute_result"
    }
   ],
   "source": [
    "##################### Concatenating 3-D array  #####################\n",
    "a = np.array([[[1,2],[3,4]],[[0,0],[-1,-1]]])\n",
    "b = np.array([[[5,6],[7,8]],[[-2,-2],[-3,-4]]])\n",
    "a,b"
   ]
  },
  {
   "cell_type": "code",
   "execution_count": 86,
   "id": "2777b5ae",
   "metadata": {},
   "outputs": [
    {
     "data": {
      "text/plain": [
       "array([[[ 1,  2],\n",
       "        [ 3,  4]],\n",
       "\n",
       "       [[ 0,  0],\n",
       "        [-1, -1]],\n",
       "\n",
       "       [[ 5,  6],\n",
       "        [ 7,  8]],\n",
       "\n",
       "       [[-2, -2],\n",
       "        [-3, -4]]])"
      ]
     },
     "execution_count": 86,
     "metadata": {},
     "output_type": "execute_result"
    }
   ],
   "source": [
    "np.concatenate((a,b))"
   ]
  },
  {
   "cell_type": "markdown",
   "id": "4dc7ef7b",
   "metadata": {},
   "source": [
    "##### STACK() FUNCTION IN ARRAY"
   ]
  },
  {
   "cell_type": "markdown",
   "id": "df75f28b",
   "metadata": {},
   "source": [
    "- stack is used to join multiple numpy arrays, unlike concatenate() ,it joins array along a new axis. it returns a numpy array\n",
    "- To join two arrays they must have same shape and dimensions\n",
    "- stack() creates a new array which has one more dimension then the input array\n",
    "        EX -  If we stack 2 1-D arrays then the resultant array will have 2 Dimensions\n",
    "- syntaxm\n",
    "        np.stack(arrays, axis=0, out=None)\n",
    "        \n",
    "        arrays : sequence of array_like, Each array must have the same shape.\n",
    "\n",
    "        axis : int, optional, The axis in the result array along which the input arrays are  stacked. \n",
    "        1) 0 means the array will stack row wise\n",
    "        2) 1 means the array will stack column wise"
   ]
  },
  {
   "cell_type": "code",
   "execution_count": 89,
   "id": "09a94fee",
   "metadata": {},
   "outputs": [
    {
     "data": {
      "text/plain": [
       "(array([1, 2]), array([3, 4]))"
      ]
     },
     "execution_count": 89,
     "metadata": {},
     "output_type": "execute_result"
    }
   ],
   "source": [
    "##################### STACKING 1-D array  #####################\n",
    "a = np.array([1,2])\n",
    "b = np.array([3,4])\n",
    "a,b"
   ]
  },
  {
   "cell_type": "code",
   "execution_count": 90,
   "id": "50789d76",
   "metadata": {},
   "outputs": [
    {
     "data": {
      "text/plain": [
       "array([[1, 2],\n",
       "       [3, 4]])"
      ]
     },
     "execution_count": 90,
     "metadata": {},
     "output_type": "execute_result"
    }
   ],
   "source": [
    "np.stack((a,b), axis = 0)"
   ]
  },
  {
   "cell_type": "code",
   "execution_count": 91,
   "id": "e47a97aa",
   "metadata": {},
   "outputs": [
    {
     "data": {
      "text/plain": [
       "array([[1, 3],\n",
       "       [2, 4]])"
      ]
     },
     "execution_count": 91,
     "metadata": {},
     "output_type": "execute_result"
    }
   ],
   "source": [
    "np.stack((a,b), axis = 1)"
   ]
  },
  {
   "cell_type": "code",
   "execution_count": 92,
   "id": "e25d6622",
   "metadata": {},
   "outputs": [
    {
     "data": {
      "text/plain": [
       "(array([[1, 2],\n",
       "        [3, 4]]),\n",
       " array([[5, 6],\n",
       "        [7, 8]]))"
      ]
     },
     "execution_count": 92,
     "metadata": {},
     "output_type": "execute_result"
    }
   ],
   "source": [
    "##################### STACKING 2-D array  #####################\n",
    "a = np.array([[1,2],[3,4]])\n",
    "b = np.array([[5,6],[7,8]])\n",
    "a,b"
   ]
  },
  {
   "cell_type": "code",
   "execution_count": 93,
   "id": "831ab001",
   "metadata": {},
   "outputs": [
    {
     "data": {
      "text/plain": [
       "array([[[1, 2],\n",
       "        [3, 4]],\n",
       "\n",
       "       [[5, 6],\n",
       "        [7, 8]]])"
      ]
     },
     "execution_count": 93,
     "metadata": {},
     "output_type": "execute_result"
    }
   ],
   "source": [
    "np.stack((a,b),axis = 0)"
   ]
  },
  {
   "cell_type": "code",
   "execution_count": 94,
   "id": "2f072529",
   "metadata": {},
   "outputs": [
    {
     "data": {
      "text/plain": [
       "array([[[1, 2],\n",
       "        [5, 6]],\n",
       "\n",
       "       [[3, 4],\n",
       "        [7, 8]]])"
      ]
     },
     "execution_count": 94,
     "metadata": {},
     "output_type": "execute_result"
    }
   ],
   "source": [
    "np.stack((a,b),axis = 1)"
   ]
  },
  {
   "cell_type": "code",
   "execution_count": 95,
   "id": "bfe24eb8",
   "metadata": {},
   "outputs": [
    {
     "data": {
      "text/plain": [
       "(array([[[ 1,  2],\n",
       "         [ 3,  4]],\n",
       " \n",
       "        [[ 0,  0],\n",
       "         [-1, -1]]]),\n",
       " array([[[ 5,  6],\n",
       "         [ 7,  8]],\n",
       " \n",
       "        [[-2, -2],\n",
       "         [-3, -4]]]))"
      ]
     },
     "execution_count": 95,
     "metadata": {},
     "output_type": "execute_result"
    }
   ],
   "source": [
    "##################### STACKING 3-D array  #####################\n",
    "a = np.array([[[1,2],[3,4]],[[0,0],[-1,-1]]])\n",
    "b = np.array([[[5,6],[7,8]],[[-2,-2],[-3,-4]]])\n",
    "a,b"
   ]
  },
  {
   "cell_type": "code",
   "execution_count": 96,
   "id": "5adba07d",
   "metadata": {},
   "outputs": [
    {
     "data": {
      "text/plain": [
       "array([[[[ 1,  2],\n",
       "         [ 3,  4]],\n",
       "\n",
       "        [[ 0,  0],\n",
       "         [-1, -1]]],\n",
       "\n",
       "\n",
       "       [[[ 5,  6],\n",
       "         [ 7,  8]],\n",
       "\n",
       "        [[-2, -2],\n",
       "         [-3, -4]]]])"
      ]
     },
     "execution_count": 96,
     "metadata": {},
     "output_type": "execute_result"
    }
   ],
   "source": [
    "np.stack((a,b), axis = 0)"
   ]
  },
  {
   "cell_type": "code",
   "execution_count": 97,
   "id": "3fe95f00",
   "metadata": {},
   "outputs": [
    {
     "data": {
      "text/plain": [
       "array([[[[ 1,  2],\n",
       "         [ 3,  4]],\n",
       "\n",
       "        [[ 5,  6],\n",
       "         [ 7,  8]]],\n",
       "\n",
       "\n",
       "       [[[ 0,  0],\n",
       "         [-1, -1]],\n",
       "\n",
       "        [[-2, -2],\n",
       "         [-3, -4]]]])"
      ]
     },
     "execution_count": 97,
     "metadata": {},
     "output_type": "execute_result"
    }
   ],
   "source": [
    "np.stack((a,b), axis = 1)"
   ]
  },
  {
   "cell_type": "markdown",
   "id": "8b02cb1f",
   "metadata": {},
   "source": [
    "##### V-STACK() FUNCTION IN ARRAY"
   ]
  },
  {
   "cell_type": "markdown",
   "id": "2e63535d",
   "metadata": {},
   "source": [
    "- vstack() is used to stack the sequence of input array vertically to make a single array\n",
    "        (The input array is stacked row wise)\n",
    "- syntax\n",
    "        np.vstack(tup)"
   ]
  },
  {
   "cell_type": "code",
   "execution_count": 102,
   "id": "78235cc9",
   "metadata": {},
   "outputs": [
    {
     "data": {
      "text/plain": [
       "(array([1, 2]), array([3, 4]))"
      ]
     },
     "execution_count": 102,
     "metadata": {},
     "output_type": "execute_result"
    }
   ],
   "source": [
    "##################### Vertical STACKING 1-D array  #####################\n",
    "a = np.array([1,2])\n",
    "b = np.array([3,4])\n",
    "a,b"
   ]
  },
  {
   "cell_type": "code",
   "execution_count": 103,
   "id": "9efac3a3",
   "metadata": {},
   "outputs": [
    {
     "data": {
      "text/plain": [
       "array([[1, 2],\n",
       "       [3, 4]])"
      ]
     },
     "execution_count": 103,
     "metadata": {},
     "output_type": "execute_result"
    }
   ],
   "source": [
    "np.vstack((a,b))"
   ]
  },
  {
   "cell_type": "code",
   "execution_count": 105,
   "id": "7b8ca98b",
   "metadata": {},
   "outputs": [
    {
     "data": {
      "text/plain": [
       "(array([[1, 2],\n",
       "        [3, 4]]),\n",
       " array([[5, 6],\n",
       "        [7, 8]]))"
      ]
     },
     "execution_count": 105,
     "metadata": {},
     "output_type": "execute_result"
    }
   ],
   "source": [
    "##################### Vertical STACKING 2-D array  #####################\n",
    "a = np.array([[1,2],[3,4]])\n",
    "b = np.array([[5,6],[7,8]])\n",
    "a,b"
   ]
  },
  {
   "cell_type": "code",
   "execution_count": 106,
   "id": "bc51d1da",
   "metadata": {},
   "outputs": [
    {
     "data": {
      "text/plain": [
       "array([[1, 2],\n",
       "       [3, 4],\n",
       "       [5, 6],\n",
       "       [7, 8]])"
      ]
     },
     "execution_count": 106,
     "metadata": {},
     "output_type": "execute_result"
    }
   ],
   "source": [
    "np.vstack((a,b))"
   ]
  },
  {
   "cell_type": "code",
   "execution_count": 108,
   "id": "4bad4b61",
   "metadata": {},
   "outputs": [
    {
     "data": {
      "text/plain": [
       "(array([[[ 1,  2],\n",
       "         [ 3,  4]],\n",
       " \n",
       "        [[ 0,  0],\n",
       "         [-1, -1]]]),\n",
       " array([[[ 5,  6],\n",
       "         [ 7,  8]],\n",
       " \n",
       "        [[-2, -2],\n",
       "         [-3, -4]]]))"
      ]
     },
     "execution_count": 108,
     "metadata": {},
     "output_type": "execute_result"
    }
   ],
   "source": [
    "##################### Vertical STACKING 3-D array  #####################\n",
    "a = np.array([[[1,2],[3,4]],[[0,0],[-1,-1]]])\n",
    "b = np.array([[[5,6],[7,8]],[[-2,-2],[-3,-4]]])\n",
    "a,b"
   ]
  },
  {
   "cell_type": "code",
   "execution_count": 110,
   "id": "0e4dd1cd",
   "metadata": {},
   "outputs": [
    {
     "data": {
      "text/plain": [
       "array([[[ 1,  2],\n",
       "        [ 3,  4]],\n",
       "\n",
       "       [[ 0,  0],\n",
       "        [-1, -1]],\n",
       "\n",
       "       [[ 5,  6],\n",
       "        [ 7,  8]],\n",
       "\n",
       "       [[-2, -2],\n",
       "        [-3, -4]]])"
      ]
     },
     "execution_count": 110,
     "metadata": {},
     "output_type": "execute_result"
    }
   ],
   "source": [
    "np.vstack((a,b))"
   ]
  },
  {
   "cell_type": "markdown",
   "id": "304b30ec",
   "metadata": {},
   "source": [
    "##### H-STACK FUNCTION IN ARRAY"
   ]
  },
  {
   "cell_type": "markdown",
   "id": "c4780053",
   "metadata": {},
   "source": [
    "- hstack() function is used to stack the sequence of input array horizontally (i.e. column wise stacking) to make a single array\n",
    "- If you are horizontally stacking more than one array then the size of the array may be different or same not an issue\n",
    "- syntax\n",
    "        np.hstack(tup)"
   ]
  },
  {
   "cell_type": "code",
   "execution_count": 112,
   "id": "bb5cde84",
   "metadata": {},
   "outputs": [
    {
     "data": {
      "text/plain": [
       "(array([1, 2]), array([3, 4]))"
      ]
     },
     "execution_count": 112,
     "metadata": {},
     "output_type": "execute_result"
    }
   ],
   "source": [
    "##################### Horizontal STACKING 1-D array  #####################\n",
    "a = np.array([1,2])\n",
    "b = np.array([3,4])\n",
    "a,b"
   ]
  },
  {
   "cell_type": "code",
   "execution_count": 113,
   "id": "8fd0a0cc",
   "metadata": {},
   "outputs": [
    {
     "data": {
      "text/plain": [
       "array([1, 2, 3, 4])"
      ]
     },
     "execution_count": 113,
     "metadata": {},
     "output_type": "execute_result"
    }
   ],
   "source": [
    "np.hstack((a,b))"
   ]
  },
  {
   "cell_type": "code",
   "execution_count": 114,
   "id": "5162f841",
   "metadata": {},
   "outputs": [
    {
     "data": {
      "text/plain": [
       "(array([[1, 2],\n",
       "        [3, 4]]),\n",
       " array([[5, 6],\n",
       "        [7, 8]]))"
      ]
     },
     "execution_count": 114,
     "metadata": {},
     "output_type": "execute_result"
    }
   ],
   "source": [
    "##################### Horizontal STACKING 2-D array  #####################\n",
    "a = np.array([[1,2],[3,4]])\n",
    "b = np.array([[5,6],[7,8]])\n",
    "a,b"
   ]
  },
  {
   "cell_type": "code",
   "execution_count": 115,
   "id": "50234e80",
   "metadata": {},
   "outputs": [
    {
     "data": {
      "text/plain": [
       "array([[1, 2, 5, 6],\n",
       "       [3, 4, 7, 8]])"
      ]
     },
     "execution_count": 115,
     "metadata": {},
     "output_type": "execute_result"
    }
   ],
   "source": [
    "np.hstack((a,b))"
   ]
  },
  {
   "cell_type": "code",
   "execution_count": 116,
   "id": "fceadcc2",
   "metadata": {},
   "outputs": [
    {
     "data": {
      "text/plain": [
       "(array([[[ 1,  2],\n",
       "         [ 3,  4]],\n",
       " \n",
       "        [[ 0,  0],\n",
       "         [-1, -1]]]),\n",
       " array([[[ 5,  6],\n",
       "         [ 7,  8]],\n",
       " \n",
       "        [[-2, -2],\n",
       "         [-3, -4]]]))"
      ]
     },
     "execution_count": 116,
     "metadata": {},
     "output_type": "execute_result"
    }
   ],
   "source": [
    "##################### Horizontal STACKING 3-D array  #####################\n",
    "a = np.array([[[1,2],[3,4]],[[0,0],[-1,-1]]])\n",
    "b = np.array([[[5,6],[7,8]],[[-2,-2],[-3,-4]]])\n",
    "a,b"
   ]
  },
  {
   "cell_type": "code",
   "execution_count": 117,
   "id": "9879bf33",
   "metadata": {},
   "outputs": [
    {
     "data": {
      "text/plain": [
       "array([[[ 1,  2],\n",
       "        [ 3,  4],\n",
       "        [ 5,  6],\n",
       "        [ 7,  8]],\n",
       "\n",
       "       [[ 0,  0],\n",
       "        [-1, -1],\n",
       "        [-2, -2],\n",
       "        [-3, -4]]])"
      ]
     },
     "execution_count": 117,
     "metadata": {},
     "output_type": "execute_result"
    }
   ],
   "source": [
    "np.hstack((a,b))"
   ]
  },
  {
   "cell_type": "markdown",
   "id": "c6d80d84",
   "metadata": {},
   "source": [
    "##### FLATTEN ( ) FUNCTION IN ARRAY"
   ]
  },
  {
   "cell_type": "markdown",
   "id": "1a3064bb",
   "metadata": {},
   "source": [
    "- The np.ndarray.flatten() function is used to get a copy of an given array collapsed into on dimension\n",
    "- This function is useful when we want to convert a multi dimensional\n",
    "- syntax\n",
    "        np.ndarray.flatten(array,order='C')"
   ]
  },
  {
   "cell_type": "code",
   "execution_count": 119,
   "id": "eaf61916",
   "metadata": {},
   "outputs": [
    {
     "data": {
      "text/plain": [
       "array([1, 2])"
      ]
     },
     "execution_count": 119,
     "metadata": {},
     "output_type": "execute_result"
    }
   ],
   "source": [
    "##################### FLATTEN 1-D array  #####################\n",
    "a = np.array([1,2])\n",
    "a"
   ]
  },
  {
   "cell_type": "code",
   "execution_count": 122,
   "id": "182db7f6",
   "metadata": {},
   "outputs": [
    {
     "data": {
      "text/plain": [
       "array([1, 2])"
      ]
     },
     "execution_count": 122,
     "metadata": {},
     "output_type": "execute_result"
    }
   ],
   "source": [
    "np.ndarray.flatten(a)"
   ]
  },
  {
   "cell_type": "code",
   "execution_count": 123,
   "id": "05d7174b",
   "metadata": {},
   "outputs": [
    {
     "data": {
      "text/plain": [
       "array([[1, 2],\n",
       "       [3, 4]])"
      ]
     },
     "execution_count": 123,
     "metadata": {},
     "output_type": "execute_result"
    }
   ],
   "source": [
    "##################### FLATTEN 2-D array  #####################\n",
    "a = np.array([[1,2],[3,4]])\n",
    "a"
   ]
  },
  {
   "cell_type": "code",
   "execution_count": 124,
   "id": "dfd939d4",
   "metadata": {},
   "outputs": [
    {
     "data": {
      "text/plain": [
       "array([1, 2, 3, 4])"
      ]
     },
     "execution_count": 124,
     "metadata": {},
     "output_type": "execute_result"
    }
   ],
   "source": [
    "np.ndarray.flatten(a)"
   ]
  },
  {
   "cell_type": "code",
   "execution_count": 125,
   "id": "4157939d",
   "metadata": {},
   "outputs": [
    {
     "data": {
      "text/plain": [
       "array([[[ 1,  2],\n",
       "        [ 3,  4]],\n",
       "\n",
       "       [[ 0,  0],\n",
       "        [-1, -1]]])"
      ]
     },
     "execution_count": 125,
     "metadata": {},
     "output_type": "execute_result"
    }
   ],
   "source": [
    "##################### FLATTEN 3-D array  #####################\n",
    "a = np.array([[[1,2],[3,4]],[[0,0],[-1,-1]]])\n",
    "a"
   ]
  },
  {
   "cell_type": "code",
   "execution_count": 126,
   "id": "276fa055",
   "metadata": {},
   "outputs": [
    {
     "data": {
      "text/plain": [
       "array([ 1,  2,  3,  4,  0,  0, -1, -1])"
      ]
     },
     "execution_count": 126,
     "metadata": {},
     "output_type": "execute_result"
    }
   ],
   "source": [
    "np.ndarray.flatten(a)"
   ]
  }
 ],
 "metadata": {
  "kernelspec": {
   "display_name": "Python 3 (ipykernel)",
   "language": "python",
   "name": "python3"
  },
  "language_info": {
   "codemirror_mode": {
    "name": "ipython",
    "version": 3
   },
   "file_extension": ".py",
   "mimetype": "text/x-python",
   "name": "python",
   "nbconvert_exporter": "python",
   "pygments_lexer": "ipython3",
   "version": "3.9.12"
  }
 },
 "nbformat": 4,
 "nbformat_minor": 5
}
