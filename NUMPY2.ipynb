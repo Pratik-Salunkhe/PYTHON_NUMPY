{
 "cells": [
  {
   "cell_type": "markdown",
   "id": "c60a5fb8",
   "metadata": {},
   "source": [
    "# `NUMPY`   "
   ]
  },
  {
   "cell_type": "code",
   "execution_count": 1,
   "id": "a267216f",
   "metadata": {},
   "outputs": [
    {
     "name": "stdout",
     "output_type": "stream",
     "text": [
      "Requirement already satisfied: numpy in c:\\users\\salun\\anaconda3\\lib\\site-packages (1.21.5)\n"
     ]
    }
   ],
   "source": [
    "# Following command is used to install the NUMPY \n",
    "\n",
    "!pip install numpy"
   ]
  },
  {
   "cell_type": "markdown",
   "id": "72191f90",
   "metadata": {},
   "source": [
    "### Imoprting the `Numpy Library`"
   ]
  },
  {
   "cell_type": "code",
   "execution_count": 3,
   "id": "4b08b905",
   "metadata": {},
   "outputs": [],
   "source": [
    "# Following command is used to import the NUMPY LIBRARY in jupyter notebook\n",
    "\n",
    "import numpy as np  \n",
    "\n",
    "# Here the \"np\" is used as an alias for numpy means np is used as short name for \"numpy\""
   ]
  },
  {
   "cell_type": "markdown",
   "id": "497f6d86",
   "metadata": {},
   "source": [
    "### FUNCTIONS IN NUMPY"
   ]
  },
  {
   "cell_type": "markdown",
   "id": "9d346af3",
   "metadata": {},
   "source": [
    "##### - np.arange() [np.Function()]"
   ]
  },
  {
   "cell_type": "markdown",
   "id": "d4a6f194",
   "metadata": {},
   "source": [
    "- Return as many possible evenly spaced values within a given interval, the interval include `start` but exclude `stop`\n",
    "- For integer arguments the function is equivalent to the built-in `range` function, but returns an ndarray rather than a list.\n",
    "- Returns only 1-D array"
   ]
  },
  {
   "cell_type": "code",
   "execution_count": 103,
   "id": "f4d7e9a5",
   "metadata": {},
   "outputs": [
    {
     "data": {
      "text/plain": [
       "array([0, 2, 4, 6, 8])"
      ]
     },
     "execution_count": 103,
     "metadata": {},
     "output_type": "execute_result"
    }
   ],
   "source": [
    "np.arange(start = 0, stop = 10, step = 2, dtype = int)\n",
    "\n",
    "# Here start defines the start value of the range\n",
    "# Here stop defines the stop value of the range\n",
    "# Here step defines the difference between the two elements in the array which is to be generated\n",
    "# Here dtype defines the data type of the returned array"
   ]
  },
  {
   "cell_type": "code",
   "execution_count": 100,
   "id": "40affb2c",
   "metadata": {},
   "outputs": [
    {
     "data": {
      "text/plain": [
       "array([10., 12., 14., 16., 18.])"
      ]
     },
     "execution_count": 100,
     "metadata": {},
     "output_type": "execute_result"
    }
   ],
   "source": [
    "np.arange(10,20,2,float)"
   ]
  },
  {
   "cell_type": "markdown",
   "id": "09a6c3d9",
   "metadata": {},
   "source": [
    "When using a non-integer step, such as 0.1, the results will often not be consistent.  It is better to use `numpy.linspace` for these cases."
   ]
  },
  {
   "cell_type": "code",
   "execution_count": 111,
   "id": "fe6b915a",
   "metadata": {},
   "outputs": [
    {
     "data": {
      "text/plain": [
       "array([0. , 2.2, 4.4, 6.6, 8.8])"
      ]
     },
     "execution_count": 111,
     "metadata": {},
     "output_type": "execute_result"
    }
   ],
   "source": [
    "np.arange(0,10,2.2)"
   ]
  },
  {
   "cell_type": "markdown",
   "id": "d9400593",
   "metadata": {},
   "source": [
    "##### - np.linspace() [np.Function()]"
   ]
  },
  {
   "cell_type": "markdown",
   "id": "1bd93820",
   "metadata": {},
   "source": [
    "- Return evenly spaced numbers over a specified interval.\n",
    "- Returns `num` evenly spaced samples, calculated over the interval [`start`, `stop`].\n",
    "- The endpoint of the interval can optionally be excluded."
   ]
  },
  {
   "cell_type": "code",
   "execution_count": 8,
   "id": "0f78f0d8",
   "metadata": {
    "scrolled": true
   },
   "outputs": [
    {
     "data": {
      "text/plain": [
       "(array([ 1,  2,  3,  4,  5,  6,  7,  8, 10]), 1.125)"
      ]
     },
     "execution_count": 8,
     "metadata": {},
     "output_type": "execute_result"
    }
   ],
   "source": [
    "np.linspace(start = 1, stop = 10, num=9, endpoint=True, retstep=True, dtype=int, axis= 0)\n",
    "\n",
    "# Here start defines the starting value of the sequence.\n",
    "# Here stop defines the end value of the sequence\n",
    "# Here num defines the number of samples to generate. Default is 50. Must be non-negative.\n",
    "# Here endpoint defines the If True, `stop` is the last sample. Otherwise, it is not included. Default is True.\n",
    "# Here If True, return (`samples`, `step`), where `step` is the spacing between samples."
   ]
  },
  {
   "cell_type": "code",
   "execution_count": 11,
   "id": "f62dfe34",
   "metadata": {},
   "outputs": [
    {
     "data": {
      "text/plain": [
       "(array([1., 2., 3., 4., 5., 6., 7., 8., 9.]), 1.0)"
      ]
     },
     "execution_count": 11,
     "metadata": {},
     "output_type": "execute_result"
    }
   ],
   "source": [
    "np.linspace(start = 1, stop=10, num=9, endpoint=False, retstep=True, dtype=float, axis = -1)\n",
    "\n",
    "# Here start defines the starting value of the sequence.\n",
    "# Here stop defines the end value of the sequence\n",
    "# Here num defines the number of samples to generate. Default is 50. Must be non-negative.\n",
    "# Here endpoint defines the If False, `stop` is not the last sample.\n",
    "# Here If True, return (`samples`, `step`), where `step` is the spacing between samples."
   ]
  },
  {
   "cell_type": "markdown",
   "id": "bdc7f1c3",
   "metadata": {},
   "source": [
    "`NOTE : ` Difference between linspace() and arange() function\n",
    "\n",
    "`linspace()` enables you to control the precise end value where as `arange()` does not allows the control the end value "
   ]
  },
  {
   "cell_type": "markdown",
   "id": "bed9e47b",
   "metadata": {},
   "source": [
    "##### CREATING ARRAY OF ZEROS"
   ]
  },
  {
   "cell_type": "markdown",
   "id": "75e6bc76",
   "metadata": {},
   "source": [
    "##### - np.zeros() [np.Function()]"
   ]
  },
  {
   "cell_type": "markdown",
   "id": "1cd284f1",
   "metadata": {},
   "source": [
    "- Return a new array of given shape and type, filled with zeros\n",
    "- `syntax`\n",
    "        np.zeros(shape, dtype=float, order='C', *, like=None)\n"
   ]
  },
  {
   "cell_type": "code",
   "execution_count": 17,
   "id": "6e161579",
   "metadata": {},
   "outputs": [
    {
     "data": {
      "text/plain": [
       "array([0., 0., 0., 0.])"
      ]
     },
     "execution_count": 17,
     "metadata": {},
     "output_type": "execute_result"
    }
   ],
   "source": [
    "##################### CREATING AN 1-D ZEROS ARRAY #####################\n",
    "\n",
    "np.zeros(shape=4, dtype=float)\n",
    "# Here 4 defines the number of element to be generated in array\n",
    "# Here dtype define the datatype of returned array"
   ]
  },
  {
   "cell_type": "code",
   "execution_count": 21,
   "id": "96013aaf",
   "metadata": {},
   "outputs": [
    {
     "data": {
      "text/plain": [
       "array([[0, 0, 0],\n",
       "       [0, 0, 0]])"
      ]
     },
     "execution_count": 21,
     "metadata": {},
     "output_type": "execute_result"
    }
   ],
   "source": [
    "##################### CREATING AN 2-D ZEROS ARRAY #####################\n",
    "\n",
    "np.zeros(shape=[2,3], dtype = int)\n",
    "\n",
    "# Here shape define the shape and dimension of the array\n",
    "# Here dtype define the datatype of returned array"
   ]
  },
  {
   "cell_type": "code",
   "execution_count": 23,
   "id": "09a6e4c9",
   "metadata": {},
   "outputs": [
    {
     "data": {
      "text/plain": [
       "array([[[0, 0, 0],\n",
       "        [0, 0, 0]],\n",
       "\n",
       "       [[0, 0, 0],\n",
       "        [0, 0, 0]]])"
      ]
     },
     "execution_count": 23,
     "metadata": {},
     "output_type": "execute_result"
    }
   ],
   "source": [
    "##################### CREATING AN 3-D ZEROS ARRAY #####################\n",
    "\n",
    "np.zeros(shape = [2,2,3], dtype = int)\n",
    "\n",
    "# Here shape define the shape and dimension of the array\n",
    "# Here dtype define the datatype of returned array"
   ]
  },
  {
   "cell_type": "markdown",
   "id": "6692c89e",
   "metadata": {},
   "source": [
    "##### CREATING ARRAY OF ONES"
   ]
  },
  {
   "cell_type": "markdown",
   "id": "e7de6912",
   "metadata": {},
   "source": [
    "##### - np.ones() [np.function()]"
   ]
  },
  {
   "cell_type": "markdown",
   "id": "a50c0186",
   "metadata": {},
   "source": [
    "- Return a new array of given shape and type, filled with ones.\n",
    "- `syntax`\n",
    "         np.ones(shape, dtype=None, order='C', *, like=None)"
   ]
  },
  {
   "cell_type": "code",
   "execution_count": 24,
   "id": "c769e3fd",
   "metadata": {},
   "outputs": [
    {
     "data": {
      "text/plain": [
       "array([1., 1., 1., 1.])"
      ]
     },
     "execution_count": 24,
     "metadata": {},
     "output_type": "execute_result"
    }
   ],
   "source": [
    "##################### CREATING AN 1-D ZEROS ARRAY #####################\n",
    "\n",
    "np.ones(shape=4, dtype=float)\n",
    "# Here 4 defines the number of element to be generated in array\n",
    "# Here dtype define the datatype of returned array"
   ]
  },
  {
   "cell_type": "code",
   "execution_count": 25,
   "id": "acef71d1",
   "metadata": {},
   "outputs": [
    {
     "data": {
      "text/plain": [
       "array([[0, 0, 0],\n",
       "       [0, 0, 0]])"
      ]
     },
     "execution_count": 25,
     "metadata": {},
     "output_type": "execute_result"
    }
   ],
   "source": [
    "##################### CREATING AN 2-D ZEROS ARRAY #####################\n",
    "\n",
    "np.zeros(shape=[2,3], dtype = int)\n",
    "\n",
    "# Here shape define the shape and dimension of the array\n",
    "# Here dtype define the datatype of returned array"
   ]
  },
  {
   "cell_type": "code",
   "execution_count": 26,
   "id": "06005aa2",
   "metadata": {},
   "outputs": [
    {
     "data": {
      "text/plain": [
       "array([[[0, 0, 0],\n",
       "        [0, 0, 0]],\n",
       "\n",
       "       [[0, 0, 0],\n",
       "        [0, 0, 0]]])"
      ]
     },
     "execution_count": 26,
     "metadata": {},
     "output_type": "execute_result"
    }
   ],
   "source": [
    "##################### CREATING AN 3-D ZEROS ARRAY #####################\n",
    "\n",
    "np.zeros(shape = [2,2,3], dtype = int)\n",
    "\n",
    "# Here shape define the shape and dimension of the array\n",
    "# Here dtype define the datatype of returned array"
   ]
  },
  {
   "cell_type": "markdown",
   "id": "e38527f2",
   "metadata": {},
   "source": [
    "##### CREATING EMPTY ARRAY"
   ]
  },
  {
   "cell_type": "markdown",
   "id": "2a8972c5",
   "metadata": {},
   "source": [
    "##### - np.empty() [np.Function()]"
   ]
  },
  {
   "cell_type": "markdown",
   "id": "1e45094a",
   "metadata": {},
   "source": [
    "- Return a new array of given shape and type, without initializing entries and with arbitary values.\n",
    "- `syntax`\n",
    "            empty(shape, dtype=float, order='C', *, like=None)\n",
    "- It returns the array of given shape with random values"
   ]
  },
  {
   "cell_type": "code",
   "execution_count": 33,
   "id": "badd528b",
   "metadata": {},
   "outputs": [
    {
     "data": {
      "text/plain": [
       "array([ 6.95276429e-310,  6.95276429e-310, -0.00000000e+000])"
      ]
     },
     "execution_count": 33,
     "metadata": {},
     "output_type": "execute_result"
    }
   ],
   "source": [
    "##################### CREATING AN 1-D EMPTY ARRAY #####################\n",
    "\n",
    "np.empty(3)\n",
    "\n",
    "# Here shape define the shape and dimension of the array\n",
    "# Here dtype define the datatype of returned array"
   ]
  },
  {
   "cell_type": "code",
   "execution_count": 34,
   "id": "b457e18a",
   "metadata": {},
   "outputs": [
    {
     "data": {
      "text/plain": [
       "array([[912469920,     32765],\n",
       "       [912469728,     32765]])"
      ]
     },
     "execution_count": 34,
     "metadata": {},
     "output_type": "execute_result"
    }
   ],
   "source": [
    "##################### CREATING AN 2-D EMPTY ARRAY #####################\n",
    "\n",
    "np.empty(shape = [2,2], dtype = int)\n",
    "\n",
    "# Here shape define the shape and dimension of the array\n",
    "# Here dtype define the datatype of returned array"
   ]
  },
  {
   "cell_type": "code",
   "execution_count": 36,
   "id": "4ddaa956",
   "metadata": {},
   "outputs": [
    {
     "data": {
      "text/plain": [
       "array([[[4128860, 6029375, 3801155],\n",
       "        [5570652, 6619251, 7536754]],\n",
       "\n",
       "       [[7536732, 7077985, 7209077],\n",
       "        [4259932, 7340144, 6357060]]])"
      ]
     },
     "execution_count": 36,
     "metadata": {},
     "output_type": "execute_result"
    }
   ],
   "source": [
    "##################### CREATING AN 3-D EMPTY ARRAY #####################\n",
    "\n",
    "np.empty(shape = [2,2,3], dtype = int)\n",
    "\n",
    "# Here shape define the shape and dimension of the array\n",
    "# Here dtype define the datatype of returned array"
   ]
  },
  {
   "cell_type": "markdown",
   "id": "775babba",
   "metadata": {},
   "source": [
    "##### CREATING FULL ARRAY"
   ]
  },
  {
   "cell_type": "markdown",
   "id": "6d479581",
   "metadata": {},
   "source": [
    "##### - np.full() [np.Function()]"
   ]
  },
  {
   "cell_type": "markdown",
   "id": "aaaf3622",
   "metadata": {},
   "source": [
    "- Return a new array of given shape and type, filled with `fill_value`\n",
    "- `syntax`\n",
    "          np.full(shape, fill_value, dtype=None, order='C', *, like=None)"
   ]
  },
  {
   "cell_type": "code",
   "execution_count": 40,
   "id": "a33b2a1d",
   "metadata": {},
   "outputs": [
    {
     "data": {
      "text/plain": [
       "array([11, 11, 11, 11])"
      ]
     },
     "execution_count": 40,
     "metadata": {},
     "output_type": "execute_result"
    }
   ],
   "source": [
    "##################### CREATING AN 1-D FULL ARRAY #####################\n",
    "\n",
    "np.full(shape = [4], fill_value=11, dtype = int)\n",
    "\n",
    "# Here shape define the shape and dimension of the array\n",
    "# Here fill_value define the value which is to be fileld\n",
    "# Here dtype define the datatype of returned array"
   ]
  },
  {
   "cell_type": "code",
   "execution_count": 42,
   "id": "65eb52a6",
   "metadata": {},
   "outputs": [
    {
     "data": {
      "text/plain": [
       "array([[11, 11],\n",
       "       [11, 11]])"
      ]
     },
     "execution_count": 42,
     "metadata": {},
     "output_type": "execute_result"
    }
   ],
   "source": [
    "##################### CREATING AN 2-D FULL ARRAY #####################\n",
    "\n",
    "np.full(shape = [2,2], fill_value=11, dtype = int)\n",
    "\n",
    "# Here shape define the shape and dimension of the array\n",
    "# Here fill_value define the value which is to be fileld\n",
    "# Here dtype define the datatype of returned array"
   ]
  },
  {
   "cell_type": "code",
   "execution_count": 43,
   "id": "32a4f6e5",
   "metadata": {},
   "outputs": [
    {
     "data": {
      "text/plain": [
       "array([[[11, 11, 11],\n",
       "        [11, 11, 11]],\n",
       "\n",
       "       [[11, 11, 11],\n",
       "        [11, 11, 11]]])"
      ]
     },
     "execution_count": 43,
     "metadata": {},
     "output_type": "execute_result"
    }
   ],
   "source": [
    "##################### CREATING AN 3-D FULL ARRAY #####################\n",
    "\n",
    "np.full(shape = [2,2,3], fill_value=11, dtype = int)\n",
    "\n",
    "# Here shape define the shape and dimension of the array\n",
    "# Here fill_value define the value which is to be fileld\n",
    "# Here dtype define the datatype of returned array"
   ]
  },
  {
   "cell_type": "markdown",
   "id": "28a808cf",
   "metadata": {},
   "source": [
    "##### CREATING IDENTITY ARRAY "
   ]
  },
  {
   "cell_type": "markdown",
   "id": "dff5939b",
   "metadata": {},
   "source": [
    "##### - np.identity() [np.Function()]"
   ]
  },
  {
   "cell_type": "markdown",
   "id": "2aa62fea",
   "metadata": {},
   "source": [
    "- Return the identity array.\n",
    "- The identity array is a square array with ones on the main diagonal.\n",
    "- `syntax`\n",
    "          np.identity(n, dtype=None, *, like=None)"
   ]
  },
  {
   "cell_type": "code",
   "execution_count": 56,
   "id": "e6398324",
   "metadata": {},
   "outputs": [
    {
     "data": {
      "text/plain": [
       "array([[1, 0, 0, 0, 0],\n",
       "       [0, 1, 0, 0, 0],\n",
       "       [0, 0, 1, 0, 0],\n",
       "       [0, 0, 0, 1, 0],\n",
       "       [0, 0, 0, 0, 1]])"
      ]
     },
     "execution_count": 56,
     "metadata": {},
     "output_type": "execute_result"
    }
   ],
   "source": [
    "##################### CREATING AN IDENTITY ARRAY #####################\n",
    "\n",
    "np.identity((5),dtype = int)\n",
    "\n",
    "# Here first element `5` defines the range of rows,columns\n",
    "# Here dtype define the datatype of returned array"
   ]
  },
  {
   "cell_type": "code",
   "execution_count": 57,
   "id": "a5522c39",
   "metadata": {},
   "outputs": [
    {
     "ename": "TypeError",
     "evalue": "'tuple' object cannot be interpreted as an integer",
     "output_type": "error",
     "traceback": [
      "\u001b[1;31m---------------------------------------------------------------------------\u001b[0m",
      "\u001b[1;31mTypeError\u001b[0m                                 Traceback (most recent call last)",
      "Input \u001b[1;32mIn [57]\u001b[0m, in \u001b[0;36m<cell line: 1>\u001b[1;34m()\u001b[0m\n\u001b[1;32m----> 1\u001b[0m \u001b[43mnp\u001b[49m\u001b[38;5;241;43m.\u001b[39;49m\u001b[43midentity\u001b[49m\u001b[43m(\u001b[49m\u001b[43m(\u001b[49m\u001b[38;5;241;43m5\u001b[39;49m\u001b[43m,\u001b[49m\u001b[38;5;241;43m2\u001b[39;49m\u001b[43m)\u001b[49m\u001b[43m,\u001b[49m\u001b[43mdtype\u001b[49m\u001b[43m \u001b[49m\u001b[38;5;241;43m=\u001b[39;49m\u001b[43m \u001b[49m\u001b[38;5;28;43mint\u001b[39;49m\u001b[43m)\u001b[49m\n",
      "File \u001b[1;32m~\\anaconda3\\lib\\site-packages\\numpy\\core\\numeric.py:2167\u001b[0m, in \u001b[0;36midentity\u001b[1;34m(n, dtype, like)\u001b[0m\n\u001b[0;32m   2164\u001b[0m     \u001b[38;5;28;01mreturn\u001b[39;00m _identity_with_like(n, dtype\u001b[38;5;241m=\u001b[39mdtype, like\u001b[38;5;241m=\u001b[39mlike)\n\u001b[0;32m   2166\u001b[0m \u001b[38;5;28;01mfrom\u001b[39;00m \u001b[38;5;21;01mnumpy\u001b[39;00m \u001b[38;5;28;01mimport\u001b[39;00m eye\n\u001b[1;32m-> 2167\u001b[0m \u001b[38;5;28;01mreturn\u001b[39;00m \u001b[43meye\u001b[49m\u001b[43m(\u001b[49m\u001b[43mn\u001b[49m\u001b[43m,\u001b[49m\u001b[43m \u001b[49m\u001b[43mdtype\u001b[49m\u001b[38;5;241;43m=\u001b[39;49m\u001b[43mdtype\u001b[49m\u001b[43m,\u001b[49m\u001b[43m \u001b[49m\u001b[43mlike\u001b[49m\u001b[38;5;241;43m=\u001b[39;49m\u001b[43mlike\u001b[49m\u001b[43m)\u001b[49m\n",
      "File \u001b[1;32m~\\anaconda3\\lib\\site-packages\\numpy\\lib\\twodim_base.py:214\u001b[0m, in \u001b[0;36meye\u001b[1;34m(N, M, k, dtype, order, like)\u001b[0m\n\u001b[0;32m    212\u001b[0m \u001b[38;5;28;01mif\u001b[39;00m M \u001b[38;5;129;01mis\u001b[39;00m \u001b[38;5;28;01mNone\u001b[39;00m:\n\u001b[0;32m    213\u001b[0m     M \u001b[38;5;241m=\u001b[39m N\n\u001b[1;32m--> 214\u001b[0m m \u001b[38;5;241m=\u001b[39m \u001b[43mzeros\u001b[49m\u001b[43m(\u001b[49m\u001b[43m(\u001b[49m\u001b[43mN\u001b[49m\u001b[43m,\u001b[49m\u001b[43m \u001b[49m\u001b[43mM\u001b[49m\u001b[43m)\u001b[49m\u001b[43m,\u001b[49m\u001b[43m \u001b[49m\u001b[43mdtype\u001b[49m\u001b[38;5;241;43m=\u001b[39;49m\u001b[43mdtype\u001b[49m\u001b[43m,\u001b[49m\u001b[43m \u001b[49m\u001b[43morder\u001b[49m\u001b[38;5;241;43m=\u001b[39;49m\u001b[43morder\u001b[49m\u001b[43m)\u001b[49m\n\u001b[0;32m    215\u001b[0m \u001b[38;5;28;01mif\u001b[39;00m k \u001b[38;5;241m>\u001b[39m\u001b[38;5;241m=\u001b[39m M:\n\u001b[0;32m    216\u001b[0m     \u001b[38;5;28;01mreturn\u001b[39;00m m\n",
      "\u001b[1;31mTypeError\u001b[0m: 'tuple' object cannot be interpreted as an integer"
     ]
    }
   ],
   "source": [
    "np.identity((5,2),dtype = int)"
   ]
  },
  {
   "cell_type": "markdown",
   "id": "f140a1d2",
   "metadata": {},
   "source": [
    "##### EYE FUNCTION IN IDENTITY MATRIX"
   ]
  },
  {
   "cell_type": "markdown",
   "id": "c3d312da",
   "metadata": {},
   "source": [
    "##### - np.eye() [np.Function()]"
   ]
  },
  {
   "cell_type": "markdown",
   "id": "cb444bff",
   "metadata": {},
   "source": [
    "- Return a 2-D array with ones on the diagonal and zeros elsewhere.\n",
    "- `syntax`\n",
    "          np.eye(N, M=None, k=0, dtype=<class 'float'>, order='C', *, like=None)\n",
    "          \n",
    "            N : Number of rows in the output.\n",
    "            M : Number of columns in the output. If None, defaults to `N`.\n",
    "            k : Index of the diagonal a positive value refers to an upper diagonal, and a          negative value to a lower diagonal.\n",
    "            dtype : Data-type of the returned array.\n",
    "            "
   ]
  },
  {
   "cell_type": "code",
   "execution_count": 3,
   "id": "274d4651",
   "metadata": {},
   "outputs": [
    {
     "data": {
      "text/plain": [
       "array([[1., 0., 0., 0., 0.],\n",
       "       [0., 1., 0., 0., 0.],\n",
       "       [0., 0., 1., 0., 0.],\n",
       "       [0., 0., 0., 1., 0.],\n",
       "       [0., 0., 0., 0., 1.]])"
      ]
     },
     "execution_count": 3,
     "metadata": {},
     "output_type": "execute_result"
    }
   ],
   "source": [
    "np.eye(5)\n",
    "\n",
    "# Here 5 defines that both the rows and columns range \n",
    "# np.eye(single element) generate an identity matrix"
   ]
  },
  {
   "cell_type": "code",
   "execution_count": 4,
   "id": "7a662744",
   "metadata": {},
   "outputs": [
    {
     "data": {
      "text/plain": [
       "array([[0., 0., 1., 0., 0.],\n",
       "       [0., 0., 0., 1., 0.],\n",
       "       [0., 0., 0., 0., 1.],\n",
       "       [0., 0., 0., 0., 0.]])"
      ]
     },
     "execution_count": 4,
     "metadata": {},
     "output_type": "execute_result"
    }
   ],
   "source": [
    "np.eye(4,5,2)\n",
    "\n",
    "# Here 1st element defines the number of rows\n",
    "# Here 2nd element defines the  number of columns\n",
    "# Here 3rd elements define the index of diagonal to be shift to upper side with 2 steps"
   ]
  },
  {
   "cell_type": "code",
   "execution_count": 5,
   "id": "0400565d",
   "metadata": {},
   "outputs": [
    {
     "data": {
      "text/plain": [
       "array([[0., 0., 0., 0., 0.],\n",
       "       [0., 0., 0., 0., 0.],\n",
       "       [1., 0., 0., 0., 0.],\n",
       "       [0., 1., 0., 0., 0.]])"
      ]
     },
     "execution_count": 5,
     "metadata": {},
     "output_type": "execute_result"
    }
   ],
   "source": [
    "np.eye(4,5,-2)\n",
    "\n",
    "# Here 1st element defines the number of rows\n",
    "# Here 2nd element defines the  number of columns\n",
    "# Here 3rd elements define the index of diagonal to be shift to lower side with -2 steps"
   ]
  },
  {
   "cell_type": "markdown",
   "id": "75a46965",
   "metadata": {},
   "source": [
    "##### RESHAPE FUNCTION IN ARRAY"
   ]
  },
  {
   "cell_type": "markdown",
   "id": "8bd834ad",
   "metadata": {},
   "source": [
    "- Reshape() function is used to change the shape of an array without changing its data \n",
    "- The function returns a new array with same data but with different shape.\n",
    "- syntax\n",
    "            np.reshape(a, newshape, order='C')"
   ]
  },
  {
   "cell_type": "code",
   "execution_count": 7,
   "id": "e3452a57",
   "metadata": {},
   "outputs": [
    {
     "data": {
      "text/plain": [
       "array([1, 2, 3, 4])"
      ]
     },
     "execution_count": 7,
     "metadata": {},
     "output_type": "execute_result"
    }
   ],
   "source": [
    "a = np.array([1,2,3,4])\n",
    "a"
   ]
  },
  {
   "cell_type": "code",
   "execution_count": 12,
   "id": "17ed5cc3",
   "metadata": {},
   "outputs": [
    {
     "data": {
      "text/plain": [
       "array([[1, 2],\n",
       "       [3, 4]])"
      ]
     },
     "execution_count": 12,
     "metadata": {},
     "output_type": "execute_result"
    }
   ],
   "source": [
    "##################### 1-D array reshaping to 2-D array #####################\n",
    "\n",
    "np.reshape(a,[2,2])\n",
    "\n",
    "# Here the first element `a` defines the array \n",
    "# Here the second element `[2,2]` defines the new array shape which we want"
   ]
  },
  {
   "cell_type": "code",
   "execution_count": 13,
   "id": "0eecd7a6",
   "metadata": {},
   "outputs": [
    {
     "data": {
      "text/plain": [
       "array([[1],\n",
       "       [2],\n",
       "       [3],\n",
       "       [4]])"
      ]
     },
     "execution_count": 13,
     "metadata": {},
     "output_type": "execute_result"
    }
   ],
   "source": [
    "np.reshape(a,[4,1])"
   ]
  },
  {
   "cell_type": "code",
   "execution_count": 14,
   "id": "c6a848a7",
   "metadata": {},
   "outputs": [
    {
     "data": {
      "text/plain": [
       "array([[1, 2, 3],\n",
       "       [4, 5, 6]])"
      ]
     },
     "execution_count": 14,
     "metadata": {},
     "output_type": "execute_result"
    }
   ],
   "source": [
    "a = np.array([[1,2,3],[4,5,6]])\n",
    "a"
   ]
  },
  {
   "cell_type": "code",
   "execution_count": 21,
   "id": "670a71c8",
   "metadata": {},
   "outputs": [
    {
     "data": {
      "text/plain": [
       "array([[1, 2, 3, 4, 5, 6]])"
      ]
     },
     "execution_count": 21,
     "metadata": {},
     "output_type": "execute_result"
    }
   ],
   "source": [
    "##################### 2-D array reshaping to 2-D array #####################\n",
    "\n",
    "np.reshape(a,[1,6])\n",
    "# Here the first element `a` defines the array \n",
    "# Here the second element `[1,6]` defines the new array shape which we want"
   ]
  },
  {
   "cell_type": "code",
   "execution_count": 22,
   "id": "e384a0aa",
   "metadata": {},
   "outputs": [
    {
     "data": {
      "text/plain": [
       "array([[1, 2],\n",
       "       [3, 4],\n",
       "       [5, 6]])"
      ]
     },
     "execution_count": 22,
     "metadata": {},
     "output_type": "execute_result"
    }
   ],
   "source": [
    "np.reshape(a,[3,2])"
   ]
  },
  {
   "cell_type": "code",
   "execution_count": 26,
   "id": "26c69756",
   "metadata": {},
   "outputs": [
    {
     "ename": "ValueError",
     "evalue": "cannot reshape array of size 1 into shape (2,)",
     "output_type": "error",
     "traceback": [
      "\u001b[1;31m---------------------------------------------------------------------------\u001b[0m",
      "\u001b[1;31mValueError\u001b[0m                                Traceback (most recent call last)",
      "Input \u001b[1;32mIn [26]\u001b[0m, in \u001b[0;36m<cell line: 1>\u001b[1;34m()\u001b[0m\n\u001b[1;32m----> 1\u001b[0m \u001b[43mnp\u001b[49m\u001b[38;5;241;43m.\u001b[39;49m\u001b[43mreshape\u001b[49m\u001b[43m(\u001b[49m\u001b[38;5;241;43m2\u001b[39;49m\u001b[43m,\u001b[49m\u001b[38;5;241;43m2\u001b[39;49m\u001b[43m)\u001b[49m\n",
      "File \u001b[1;32m<__array_function__ internals>:5\u001b[0m, in \u001b[0;36mreshape\u001b[1;34m(*args, **kwargs)\u001b[0m\n",
      "File \u001b[1;32m~\\anaconda3\\lib\\site-packages\\numpy\\core\\fromnumeric.py:298\u001b[0m, in \u001b[0;36mreshape\u001b[1;34m(a, newshape, order)\u001b[0m\n\u001b[0;32m    198\u001b[0m \u001b[38;5;129m@array_function_dispatch\u001b[39m(_reshape_dispatcher)\n\u001b[0;32m    199\u001b[0m \u001b[38;5;28;01mdef\u001b[39;00m \u001b[38;5;21mreshape\u001b[39m(a, newshape, order\u001b[38;5;241m=\u001b[39m\u001b[38;5;124m'\u001b[39m\u001b[38;5;124mC\u001b[39m\u001b[38;5;124m'\u001b[39m):\n\u001b[0;32m    200\u001b[0m     \u001b[38;5;124;03m\"\"\"\u001b[39;00m\n\u001b[0;32m    201\u001b[0m \u001b[38;5;124;03m    Gives a new shape to an array without changing its data.\u001b[39;00m\n\u001b[0;32m    202\u001b[0m \n\u001b[1;32m   (...)\u001b[0m\n\u001b[0;32m    296\u001b[0m \u001b[38;5;124;03m           [5, 6]])\u001b[39;00m\n\u001b[0;32m    297\u001b[0m \u001b[38;5;124;03m    \"\"\"\u001b[39;00m\n\u001b[1;32m--> 298\u001b[0m     \u001b[38;5;28;01mreturn\u001b[39;00m \u001b[43m_wrapfunc\u001b[49m\u001b[43m(\u001b[49m\u001b[43ma\u001b[49m\u001b[43m,\u001b[49m\u001b[43m \u001b[49m\u001b[38;5;124;43m'\u001b[39;49m\u001b[38;5;124;43mreshape\u001b[39;49m\u001b[38;5;124;43m'\u001b[39;49m\u001b[43m,\u001b[49m\u001b[43m \u001b[49m\u001b[43mnewshape\u001b[49m\u001b[43m,\u001b[49m\u001b[43m \u001b[49m\u001b[43morder\u001b[49m\u001b[38;5;241;43m=\u001b[39;49m\u001b[43morder\u001b[49m\u001b[43m)\u001b[49m\n",
      "File \u001b[1;32m~\\anaconda3\\lib\\site-packages\\numpy\\core\\fromnumeric.py:54\u001b[0m, in \u001b[0;36m_wrapfunc\u001b[1;34m(obj, method, *args, **kwds)\u001b[0m\n\u001b[0;32m     52\u001b[0m bound \u001b[38;5;241m=\u001b[39m \u001b[38;5;28mgetattr\u001b[39m(obj, method, \u001b[38;5;28;01mNone\u001b[39;00m)\n\u001b[0;32m     53\u001b[0m \u001b[38;5;28;01mif\u001b[39;00m bound \u001b[38;5;129;01mis\u001b[39;00m \u001b[38;5;28;01mNone\u001b[39;00m:\n\u001b[1;32m---> 54\u001b[0m     \u001b[38;5;28;01mreturn\u001b[39;00m _wrapit(obj, method, \u001b[38;5;241m*\u001b[39margs, \u001b[38;5;241m*\u001b[39m\u001b[38;5;241m*\u001b[39mkwds)\n\u001b[0;32m     56\u001b[0m \u001b[38;5;28;01mtry\u001b[39;00m:\n\u001b[0;32m     57\u001b[0m     \u001b[38;5;28;01mreturn\u001b[39;00m bound(\u001b[38;5;241m*\u001b[39margs, \u001b[38;5;241m*\u001b[39m\u001b[38;5;241m*\u001b[39mkwds)\n",
      "File \u001b[1;32m~\\anaconda3\\lib\\site-packages\\numpy\\core\\fromnumeric.py:43\u001b[0m, in \u001b[0;36m_wrapit\u001b[1;34m(obj, method, *args, **kwds)\u001b[0m\n\u001b[0;32m     41\u001b[0m \u001b[38;5;28;01mexcept\u001b[39;00m \u001b[38;5;167;01mAttributeError\u001b[39;00m:\n\u001b[0;32m     42\u001b[0m     wrap \u001b[38;5;241m=\u001b[39m \u001b[38;5;28;01mNone\u001b[39;00m\n\u001b[1;32m---> 43\u001b[0m result \u001b[38;5;241m=\u001b[39m \u001b[38;5;28mgetattr\u001b[39m(asarray(obj), method)(\u001b[38;5;241m*\u001b[39margs, \u001b[38;5;241m*\u001b[39m\u001b[38;5;241m*\u001b[39mkwds)\n\u001b[0;32m     44\u001b[0m \u001b[38;5;28;01mif\u001b[39;00m wrap:\n\u001b[0;32m     45\u001b[0m     \u001b[38;5;28;01mif\u001b[39;00m \u001b[38;5;129;01mnot\u001b[39;00m \u001b[38;5;28misinstance\u001b[39m(result, mu\u001b[38;5;241m.\u001b[39mndarray):\n",
      "\u001b[1;31mValueError\u001b[0m: cannot reshape array of size 1 into shape (2,)"
     ]
    }
   ],
   "source": [
    "np.reshape(2,2)"
   ]
  },
  {
   "cell_type": "code",
   "execution_count": 27,
   "id": "a0abf5cd",
   "metadata": {},
   "outputs": [
    {
     "data": {
      "text/plain": [
       "array([[[ 1,  2,  3],\n",
       "        [ 4,  5,  6]],\n",
       "\n",
       "       [[ 7,  8,  9],\n",
       "        [ 0, -1, -2]]])"
      ]
     },
     "execution_count": 27,
     "metadata": {},
     "output_type": "execute_result"
    }
   ],
   "source": [
    "a = np.array([[[1,2,3],[4,5,6]],[[7,8,9],[0,-1,-2]]])\n",
    "a"
   ]
  },
  {
   "cell_type": "code",
   "execution_count": null,
   "id": "15d66832",
   "metadata": {},
   "outputs": [],
   "source": [
    "##################### 3-D array reshaping #####################"
   ]
  },
  {
   "cell_type": "code",
   "execution_count": 31,
   "id": "66623a47",
   "metadata": {},
   "outputs": [
    {
     "data": {
      "text/plain": [
       "array([[ 1,  2,  3],\n",
       "       [ 4,  5,  6],\n",
       "       [ 7,  8,  9],\n",
       "       [ 0, -1, -2]])"
      ]
     },
     "execution_count": 31,
     "metadata": {},
     "output_type": "execute_result"
    }
   ],
   "source": [
    "np.reshape(a,[4,3])\n",
    "\n",
    "# Here the first element `a` defines the array \n",
    "# Here the second element `[4,3]` defines the new array shape which we want"
   ]
  },
  {
   "cell_type": "code",
   "execution_count": 39,
   "id": "4f86c86f",
   "metadata": {},
   "outputs": [
    {
     "data": {
      "text/plain": [
       "array([[[ 1,  2],\n",
       "        [ 3,  4],\n",
       "        [ 5,  6]],\n",
       "\n",
       "       [[ 7,  8],\n",
       "        [ 9,  0],\n",
       "        [-1, -2]]])"
      ]
     },
     "execution_count": 39,
     "metadata": {},
     "output_type": "execute_result"
    }
   ],
   "source": [
    "np.reshape(a,[2,3,2])\n",
    "# Here the first element `a` defines the array \n",
    "# Here the second element `[2,3,2]` defines the new array shape which we want"
   ]
  },
  {
   "cell_type": "code",
   "execution_count": 35,
   "id": "100bb01a",
   "metadata": {},
   "outputs": [
    {
     "data": {
      "text/plain": [
       "array([[ 1,  2],\n",
       "       [ 3,  4],\n",
       "       [ 5,  6],\n",
       "       [ 7,  8],\n",
       "       [ 9,  0],\n",
       "       [-1, -2]])"
      ]
     },
     "execution_count": 35,
     "metadata": {},
     "output_type": "execute_result"
    }
   ],
   "source": [
    "np.reshape(a,[6,2])"
   ]
  },
  {
   "cell_type": "code",
   "execution_count": 36,
   "id": "4279e28d",
   "metadata": {},
   "outputs": [
    {
     "data": {
      "text/plain": [
       "array([[ 1,  2,  3,  4,  5,  6,  7,  8,  9,  0, -1, -2]])"
      ]
     },
     "execution_count": 36,
     "metadata": {},
     "output_type": "execute_result"
    }
   ],
   "source": [
    "np.reshape(a,[1,12])"
   ]
  },
  {
   "cell_type": "code",
   "execution_count": 37,
   "id": "9cd536e3",
   "metadata": {},
   "outputs": [
    {
     "data": {
      "text/plain": [
       "array([[ 1],\n",
       "       [ 2],\n",
       "       [ 3],\n",
       "       [ 4],\n",
       "       [ 5],\n",
       "       [ 6],\n",
       "       [ 7],\n",
       "       [ 8],\n",
       "       [ 9],\n",
       "       [ 0],\n",
       "       [-1],\n",
       "       [-2]])"
      ]
     },
     "execution_count": 37,
     "metadata": {},
     "output_type": "execute_result"
    }
   ],
   "source": [
    "np.reshape(a,[12,1])"
   ]
  },
  {
   "cell_type": "code",
   "execution_count": 38,
   "id": "deae3aef",
   "metadata": {},
   "outputs": [
    {
     "data": {
      "text/plain": [
       "array([[[ 1,  2],\n",
       "        [ 3,  4]],\n",
       "\n",
       "       [[ 5,  6],\n",
       "        [ 7,  8]],\n",
       "\n",
       "       [[ 9,  0],\n",
       "        [-1, -2]]])"
      ]
     },
     "execution_count": 38,
     "metadata": {},
     "output_type": "execute_result"
    }
   ],
   "source": [
    "np.reshape(a,[3,2,2])"
   ]
  }
 ],
 "metadata": {
  "kernelspec": {
   "display_name": "Python 3 (ipykernel)",
   "language": "python",
   "name": "python3"
  },
  "language_info": {
   "codemirror_mode": {
    "name": "ipython",
    "version": 3
   },
   "file_extension": ".py",
   "mimetype": "text/x-python",
   "name": "python",
   "nbconvert_exporter": "python",
   "pygments_lexer": "ipython3",
   "version": "3.9.12"
  }
 },
 "nbformat": 4,
 "nbformat_minor": 5
}
