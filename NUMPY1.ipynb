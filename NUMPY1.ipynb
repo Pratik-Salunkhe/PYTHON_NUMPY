{
 "cells": [
  {
   "cell_type": "markdown",
   "id": "c60a5fb8",
   "metadata": {},
   "source": [
    "# `NUMPY`   "
   ]
  },
  {
   "cell_type": "markdown",
   "id": "43881d19",
   "metadata": {},
   "source": [
    "- Numpy stands for Numerical Python\n",
    "- Numpy is general purpose array processing package\n",
    "- It provides a high performance multi dimensional array object and tools for working with these arrays\n",
    "- Used for mathematical and scientific computations\n",
    "- Also provides 'linalg' module which contains functions like (det,eignorm) to apply linear algebra on numpy arrays\n",
    "- Numpy array is most widely used object of numpy library"
   ]
  },
  {
   "cell_type": "markdown",
   "id": "d4ed1c88",
   "metadata": {},
   "source": [
    "### Installation of `Numpy Library`"
   ]
  },
  {
   "cell_type": "code",
   "execution_count": 1,
   "id": "a267216f",
   "metadata": {},
   "outputs": [
    {
     "name": "stdout",
     "output_type": "stream",
     "text": [
      "Requirement already satisfied: numpy in c:\\users\\salun\\anaconda3\\lib\\site-packages (1.21.5)\n"
     ]
    }
   ],
   "source": [
    "# Following command is used to install the NUMPY \n",
    "\n",
    "!pip install numpy"
   ]
  },
  {
   "cell_type": "markdown",
   "id": "72191f90",
   "metadata": {},
   "source": [
    "### Imoprting the `Numpy Library`"
   ]
  },
  {
   "cell_type": "code",
   "execution_count": 3,
   "id": "4b08b905",
   "metadata": {},
   "outputs": [],
   "source": [
    "# Following command is used to import the NUMPY LIBRARY in jupyter notebook\n",
    "\n",
    "import numpy as np  \n",
    "\n",
    "# Here the \"np\" is used as an alias for numpy means np is used as short name for \"numpy\""
   ]
  },
  {
   "cell_type": "markdown",
   "id": "c94beace",
   "metadata": {},
   "source": [
    "### NUMPY ARRAY"
   ]
  },
  {
   "cell_type": "markdown",
   "id": "47fef7d4",
   "metadata": {},
   "source": [
    "- Numpy array looks similar to list\n",
    "- It is a grid of index , values by positive integer\n",
    "- It generally contains numeric values, However it can also contain strings\n",
    "- Works faster than list as it is a homogeneous object\n",
    "- It can be multidimensional"
   ]
  },
  {
   "cell_type": "markdown",
   "id": "734bdb95",
   "metadata": {},
   "source": [
    "#### CREATING AN ARRAY"
   ]
  },
  {
   "cell_type": "markdown",
   "id": "b6872823",
   "metadata": {},
   "source": [
    "##### - np.array() Function"
   ]
  },
  {
   "cell_type": "markdown",
   "id": "fa013927",
   "metadata": {},
   "source": [
    "- `np.array()` function is used to create an numpy array "
   ]
  },
  {
   "cell_type": "code",
   "execution_count": 11,
   "id": "de7e23df",
   "metadata": {},
   "outputs": [
    {
     "name": "stdout",
     "output_type": "stream",
     "text": [
      "Array(a) =  [ 1  2  3  4 -5] Array(b) =  [ 1.  2.  3.  4. -5.]\n"
     ]
    }
   ],
   "source": [
    "##################### CREATING AN 1-D ARRAY #####################\n",
    "\n",
    "a = np.array([1,2,3,4,-5])\n",
    "b = np.array([1,2,3,4.0,-5])\n",
    "print(\"Array(a) = \",a,\"Array(b) = \",b)\n",
    "\n",
    "# If one of the value in the array is float type the the array will match all values to float"
   ]
  },
  {
   "cell_type": "code",
   "execution_count": 16,
   "id": "51abd8c1",
   "metadata": {},
   "outputs": [
    {
     "data": {
      "text/plain": [
       "(array([[1, 2, 3],\n",
       "        [4, 5, 6]]),\n",
       " array([[ 1.,  2.,  3.],\n",
       "        [ 4.,  5., -6.]]))"
      ]
     },
     "execution_count": 16,
     "metadata": {},
     "output_type": "execute_result"
    }
   ],
   "source": [
    "##################### CREATING AN 2-D ARRAY #####################\n",
    "\n",
    "a = np.array([[1,2,3],[4,5,6]])\n",
    "b = np.array([[1,2.0,3],[4,5,-6]])\n",
    "a,b"
   ]
  },
  {
   "cell_type": "code",
   "execution_count": 18,
   "id": "f5e29852",
   "metadata": {},
   "outputs": [
    {
     "data": {
      "text/plain": [
       "(array([[[ 1,  2,  3],\n",
       "         [ 4,  5,  6]],\n",
       " \n",
       "        [[ 1,  0,  3],\n",
       "         [ 4,  5, -6]]]),\n",
       " array([[[ 1.,  2.,  3.],\n",
       "         [ 4.,  5., -6.]],\n",
       " \n",
       "        [[ 1.,  2.,  3.],\n",
       "         [ 4.,  5.,  6.]]]))"
      ]
     },
     "execution_count": 18,
     "metadata": {},
     "output_type": "execute_result"
    }
   ],
   "source": [
    "##################### CREATING AN 3-D ARRAY #####################\n",
    "a = np.array([[[1,2,3],[4,5,6]],[[1,0,3],[4,5,-6]]])\n",
    "b = np.array([[[1,2.0,3],[4,5,-6]],[[1,2,3],[4,5,6]]])\n",
    "a,b"
   ]
  },
  {
   "cell_type": "markdown",
   "id": "486dca1a",
   "metadata": {},
   "source": [
    "### RANDOM METHODS"
   ]
  },
  {
   "cell_type": "markdown",
   "id": "0e9e5173",
   "metadata": {},
   "source": [
    "##### - np.random.random() [np.Function.Method( )]"
   ]
  },
  {
   "cell_type": "markdown",
   "id": "feed0c73",
   "metadata": {},
   "source": [
    "- This function,methode is used to create the random array\n",
    "- Return random `floats` in the half-open interval [0.0, 1.0)."
   ]
  },
  {
   "cell_type": "code",
   "execution_count": 19,
   "id": "9a87c8bb",
   "metadata": {},
   "outputs": [
    {
     "data": {
      "text/plain": [
       "array([0.67489679, 0.57160807, 0.33525131, 0.35630351])"
      ]
     },
     "execution_count": 19,
     "metadata": {},
     "output_type": "execute_result"
    }
   ],
   "source": [
    "##################### CREATING AN 1-D RANDOM ARRAY #####################\n",
    "\n",
    "np.random.random(4)  # Here 4 defines the number of element to be generated in array\n",
    "                     # syntax :- random(size=None)\n",
    "    \n",
    "#Return random floats in the half-open interval [0.0, 1.0)."
   ]
  },
  {
   "cell_type": "code",
   "execution_count": 22,
   "id": "139074fd",
   "metadata": {},
   "outputs": [
    {
     "data": {
      "text/plain": [
       "0.38950626420970713"
      ]
     },
     "execution_count": 22,
     "metadata": {},
     "output_type": "execute_result"
    }
   ],
   "source": [
    "# If size of array is not defined the it will return any one float integer in between 0.0 to 1.0\n",
    "\n",
    "np.random.random()"
   ]
  },
  {
   "cell_type": "code",
   "execution_count": 25,
   "id": "3b545da1",
   "metadata": {},
   "outputs": [
    {
     "ename": "TypeError",
     "evalue": "random() takes at most 1 positional argument (2 given)",
     "output_type": "error",
     "traceback": [
      "\u001b[1;31m---------------------------------------------------------------------------\u001b[0m",
      "\u001b[1;31mTypeError\u001b[0m                                 Traceback (most recent call last)",
      "Input \u001b[1;32mIn [25]\u001b[0m, in \u001b[0;36m<cell line: 3>\u001b[1;34m()\u001b[0m\n\u001b[0;32m      1\u001b[0m \u001b[38;5;66;03m##################### CREATING AN 2-D RANDOM ARRAY #####################\u001b[39;00m\n\u001b[1;32m----> 3\u001b[0m \u001b[43mnp\u001b[49m\u001b[38;5;241;43m.\u001b[39;49m\u001b[43mrandom\u001b[49m\u001b[38;5;241;43m.\u001b[39;49m\u001b[43mrandom\u001b[49m\u001b[43m(\u001b[49m\u001b[38;5;241;43m3\u001b[39;49m\u001b[43m,\u001b[49m\u001b[38;5;241;43m3\u001b[39;49m\u001b[43m)\u001b[49m\n",
      "File \u001b[1;32mmtrand.pyx:427\u001b[0m, in \u001b[0;36mnumpy.random.mtrand.RandomState.random\u001b[1;34m()\u001b[0m\n",
      "\u001b[1;31mTypeError\u001b[0m: random() takes at most 1 positional argument (2 given)"
     ]
    }
   ],
   "source": [
    "##################### CREATING AN 2-D RANDOM ARRAY #####################\n",
    "\n",
    "np.random.random(3,3)"
   ]
  },
  {
   "cell_type": "markdown",
   "id": "9ff3112a",
   "metadata": {},
   "source": [
    "ERROR >>\n",
    "\n",
    "Here the `Random()` Method takes only one positionl arguments suppose with the help of `random.random()` we can generate an 1-D array very easily.\n",
    "But suppose if we want to generate 2-D array we are not able to generate as `random.random()` accepts only one one argument\n",
    "To generate 2-D array we have to past a list or a tuple in `random.random()` which defines the shape of an array."
   ]
  },
  {
   "cell_type": "code",
   "execution_count": 32,
   "id": "a09861df",
   "metadata": {},
   "outputs": [
    {
     "data": {
      "text/plain": [
       "array([[0.22054854, 0.00966556, 0.3921653 ],\n",
       "       [0.6009954 , 0.25556126, 0.69737447]])"
      ]
     },
     "execution_count": 32,
     "metadata": {},
     "output_type": "execute_result"
    }
   ],
   "source": [
    "##################### CREATING AN 2-D RANDOM ARRAY #####################\n",
    "\n",
    "np.random.random([2,3])\n",
    "\n",
    "# Here the 1st element in list defines the rows of array \n",
    "# Here the 2nd element in list defines the columns of array "
   ]
  },
  {
   "cell_type": "code",
   "execution_count": 31,
   "id": "e71bb1c3",
   "metadata": {},
   "outputs": [
    {
     "data": {
      "text/plain": [
       "array([[[0.23596599, 0.89390256, 0.35488891],\n",
       "        [0.95508972, 0.1765272 , 0.2198424 ]],\n",
       "\n",
       "       [[0.0315524 , 0.58943695, 0.69017975],\n",
       "        [0.66939821, 0.15360103, 0.26819427]]])"
      ]
     },
     "execution_count": 31,
     "metadata": {},
     "output_type": "execute_result"
    }
   ],
   "source": [
    "##################### CREATING AN 3-D RANDOM ARRAY #####################\n",
    "\n",
    "np.random.random([2,2,3])\n",
    "\n",
    "# Here the first element in list defines the set of array\n",
    "# Here the second element in list defines the rows in each set of array\n",
    "# Here the third element in the list defines the columns in each set of array"
   ]
  },
  {
   "cell_type": "markdown",
   "id": "665bd69d",
   "metadata": {},
   "source": [
    "##### - np.random.rand() [np.Function.Method( )]"
   ]
  },
  {
   "cell_type": "markdown",
   "id": "1f9de2da",
   "metadata": {},
   "source": [
    "- This function,method is used to create an array of random numbers of  the given shape between (0.0,1.0)\n",
    "- The dimensions of the returned array, must be non-negative.\n",
    "- If no argument is given a single Python `float` is returned."
   ]
  },
  {
   "cell_type": "code",
   "execution_count": 34,
   "id": "54238e21",
   "metadata": {},
   "outputs": [
    {
     "data": {
      "text/plain": [
       "array([0.25953998, 0.27225057, 0.87364586, 0.65767835])"
      ]
     },
     "execution_count": 34,
     "metadata": {},
     "output_type": "execute_result"
    }
   ],
   "source": [
    "##################### CREATING AN 1-D RANDOM ARRAY #####################\n",
    "\n",
    "np.random.rand(4)    # Here 4 defines the number of element to be generated in array\n",
    "                     # syntax :- rand(size=None)"
   ]
  },
  {
   "cell_type": "code",
   "execution_count": 35,
   "id": "ae055b66",
   "metadata": {},
   "outputs": [
    {
     "data": {
      "text/plain": [
       "0.8230534963234237"
      ]
     },
     "execution_count": 35,
     "metadata": {},
     "output_type": "execute_result"
    }
   ],
   "source": [
    "# If size of array is not defined the it will return any one float integer in between 0.0 to 1.0\n",
    "\n",
    "np.random.rand()"
   ]
  },
  {
   "cell_type": "code",
   "execution_count": 41,
   "id": "ca5cd9d7",
   "metadata": {},
   "outputs": [
    {
     "data": {
      "text/plain": [
       "array([[0.54980592, 0.05856422, 0.52618541],\n",
       "       [0.1123    , 0.24051699, 0.09431991]])"
      ]
     },
     "execution_count": 41,
     "metadata": {},
     "output_type": "execute_result"
    }
   ],
   "source": [
    "##################### CREATING AN 2-D RANDOM ARRAY #####################\n",
    "\n",
    "np.random.rand(2,3)  \n",
    "\n",
    "# Here the 1st element in list defines the rows of array \n",
    "# Here the 2nd element in list defines the columns of array"
   ]
  },
  {
   "cell_type": "markdown",
   "id": "0503a75a",
   "metadata": {},
   "source": [
    "Here there is no any need of defining the array dimension and shape of 2-D/3-D in a list as the `rand()` method directly except the element in the form of tuple"
   ]
  },
  {
   "cell_type": "code",
   "execution_count": 40,
   "id": "d5c67fcf",
   "metadata": {},
   "outputs": [
    {
     "data": {
      "text/plain": [
       "array([[[0.62543294, 0.219221  , 0.80998909],\n",
       "        [0.8407319 , 0.08282947, 0.39681631]],\n",
       "\n",
       "       [[0.06407533, 0.31329649, 0.41113281],\n",
       "        [0.41180491, 0.71275346, 0.69685572]]])"
      ]
     },
     "execution_count": 40,
     "metadata": {},
     "output_type": "execute_result"
    }
   ],
   "source": [
    "##################### CREATING AN 3-D RANDOM ARRAY #####################\n",
    "\n",
    "np.random.rand(2,2,3)\n",
    "\n",
    "# Here the first element in list defines the set of array\n",
    "# Here the second element in list defines the rows in each set of array\n",
    "# Here the third element in the list defines the columns in each set of array"
   ]
  },
  {
   "cell_type": "markdown",
   "id": "5165bdfb",
   "metadata": {},
   "source": [
    "##### np.random.randn() [np.Function.Method( )]"
   ]
  },
  {
   "cell_type": "markdown",
   "id": "bdc0ab54",
   "metadata": {},
   "source": [
    "- `np.random.randn()` returns the positive as well as also it can returns the negative random values above aor below zero.  \n",
    "- If no argument is given a single Python `float` is returned."
   ]
  },
  {
   "cell_type": "code",
   "execution_count": 48,
   "id": "3bf083fd",
   "metadata": {},
   "outputs": [
    {
     "data": {
      "text/plain": [
       "array([-1.59881296,  0.75677288, -0.05764282,  1.13894535])"
      ]
     },
     "execution_count": 48,
     "metadata": {},
     "output_type": "execute_result"
    }
   ],
   "source": [
    "##################### CREATING AN 1-D RANDOM ARRAY #####################\n",
    "\n",
    "np.random.randn(4)   # Here 4 defines the number of element to be generated in array\n",
    "                     # syntax :- rand(size=None)"
   ]
  },
  {
   "cell_type": "code",
   "execution_count": 49,
   "id": "44823e75",
   "metadata": {},
   "outputs": [
    {
     "data": {
      "text/plain": [
       "-1.669209089546741"
      ]
     },
     "execution_count": 49,
     "metadata": {},
     "output_type": "execute_result"
    }
   ],
   "source": [
    "# If size of array is not defined the it will return any one float integer in between 0.0 to 1.0\n",
    "\n",
    "np.random.randn()"
   ]
  },
  {
   "cell_type": "code",
   "execution_count": 51,
   "id": "9ce55405",
   "metadata": {},
   "outputs": [
    {
     "data": {
      "text/plain": [
       "array([[-0.30824331,  0.57858086, -1.26077969],\n",
       "       [ 0.50358989,  0.33117219, -0.99256086]])"
      ]
     },
     "execution_count": 51,
     "metadata": {},
     "output_type": "execute_result"
    }
   ],
   "source": [
    "##################### CREATING AN 2-D RANDOM ARRAY #####################\n",
    "\n",
    "np.random.randn(2,3)  \n",
    "\n",
    "# Here the 1st element in list defines the rows of array \n",
    "# Here the 2nd element in list defines the columns of array"
   ]
  },
  {
   "cell_type": "markdown",
   "id": "2a5fd79b",
   "metadata": {},
   "source": [
    "Here there is no any need of defining the array dimension and shape of 2-D/3-D in a list as the `rand()` method directly except the element in the form of tuple"
   ]
  },
  {
   "cell_type": "code",
   "execution_count": 52,
   "id": "bb8c5fb4",
   "metadata": {},
   "outputs": [
    {
     "data": {
      "text/plain": [
       "array([[[-1.39339889,  0.37055144,  0.44297836],\n",
       "        [ 0.47322319,  1.29300736,  0.5478085 ]],\n",
       "\n",
       "       [[ 1.17110938,  1.61270812,  0.4753949 ],\n",
       "        [ 1.96605698, -1.16640566, -0.20586683]]])"
      ]
     },
     "execution_count": 52,
     "metadata": {},
     "output_type": "execute_result"
    }
   ],
   "source": [
    "##################### CREATING AN 3-D RANDOM ARRAY #####################\n",
    "\n",
    "np.random.randn(2,2,3)\n",
    "\n",
    "# Here the first element in list defines the set of array\n",
    "# Here the second element in list defines the rows in each set of array\n",
    "# Here the third element in the list defines the columns in each set of array"
   ]
  },
  {
   "cell_type": "markdown",
   "id": "a1a876da",
   "metadata": {},
   "source": [
    "##### - np.random.randint() [np.Function.Method( )] "
   ]
  },
  {
   "cell_type": "markdown",
   "id": "3e5cc908",
   "metadata": {},
   "source": [
    "- The `random.randint()` function,methode returns the random integer values from low(inclusive) to high(inclusive)"
   ]
  },
  {
   "cell_type": "code",
   "execution_count": 60,
   "id": "46b0ebf6",
   "metadata": {},
   "outputs": [
    {
     "data": {
      "text/plain": [
       "2"
      ]
     },
     "execution_count": 60,
     "metadata": {},
     "output_type": "execute_result"
    }
   ],
   "source": [
    "np.random.randint(2,10)\n",
    "\n",
    "# Here it returns only one random integer value between 2 to 10\n",
    "# The 2,10 defines the range of numbers from which we want an random values"
   ]
  },
  {
   "cell_type": "code",
   "execution_count": 66,
   "id": "35f0ddbc",
   "metadata": {},
   "outputs": [
    {
     "data": {
      "text/plain": [
       "array([1, 8, 8, 9, 1, 8, 7, 5, 4, 1, 1, 6])"
      ]
     },
     "execution_count": 66,
     "metadata": {},
     "output_type": "execute_result"
    }
   ],
   "source": [
    "##################### CREATING AN 1-D RANDOM ARRAY #####################\n",
    "\n",
    "np.random.randint(low= 1, high = 10, size = 12)\n",
    "\n",
    "# Here it returns 12 random integer value between 1 to 10\n",
    "# low defines the start value of range\n",
    "# high defines the end value of range\n",
    "# size defines the number of element required in the array"
   ]
  },
  {
   "cell_type": "code",
   "execution_count": 68,
   "id": "f5164915",
   "metadata": {},
   "outputs": [
    {
     "data": {
      "text/plain": [
       "array([2, 1, 5, 2, 3, 9, 6, 6, 2, 4, 2, 5])"
      ]
     },
     "execution_count": 68,
     "metadata": {},
     "output_type": "execute_result"
    }
   ],
   "source": [
    "np.random.randint(1,10,12)"
   ]
  },
  {
   "cell_type": "code",
   "execution_count": 70,
   "id": "d62b2fa8",
   "metadata": {},
   "outputs": [
    {
     "ename": "TypeError",
     "evalue": "randint() takes at least 1 positional argument (0 given)",
     "output_type": "error",
     "traceback": [
      "\u001b[1;31m---------------------------------------------------------------------------\u001b[0m",
      "\u001b[1;31mTypeError\u001b[0m                                 Traceback (most recent call last)",
      "Input \u001b[1;32mIn [70]\u001b[0m, in \u001b[0;36m<cell line: 1>\u001b[1;34m()\u001b[0m\n\u001b[1;32m----> 1\u001b[0m \u001b[43mnp\u001b[49m\u001b[38;5;241;43m.\u001b[39;49m\u001b[43mrandom\u001b[49m\u001b[38;5;241;43m.\u001b[39;49m\u001b[43mrandint\u001b[49m\u001b[43m(\u001b[49m\u001b[43m)\u001b[49m\n",
      "File \u001b[1;32mmtrand.pyx:646\u001b[0m, in \u001b[0;36mnumpy.random.mtrand.RandomState.randint\u001b[1;34m()\u001b[0m\n",
      "\u001b[1;31mTypeError\u001b[0m: randint() takes at least 1 positional argument (0 given)"
     ]
    }
   ],
   "source": [
    "np.random.randint()"
   ]
  },
  {
   "cell_type": "code",
   "execution_count": 81,
   "id": "cb26d2e7",
   "metadata": {},
   "outputs": [
    {
     "data": {
      "text/plain": [
       "array([[7, 9, 1],\n",
       "       [9, 6, 7]])"
      ]
     },
     "execution_count": 81,
     "metadata": {},
     "output_type": "execute_result"
    }
   ],
   "source": [
    "##################### CREATING AN 2-D RANDOM ARRAY #####################\n",
    "\n",
    "np.random.randint(low= 1, high = 10, size = (2,3))\n",
    "\n",
    "# low defines the start value of range\n",
    "# high defines the end value of range\n",
    "# # size defines the shape and dimension the of array with rows and columns"
   ]
  },
  {
   "cell_type": "code",
   "execution_count": 82,
   "id": "b0ec0539",
   "metadata": {},
   "outputs": [
    {
     "data": {
      "text/plain": [
       "array([[2, 4, 4],\n",
       "       [8, 8, 6]])"
      ]
     },
     "execution_count": 82,
     "metadata": {},
     "output_type": "execute_result"
    }
   ],
   "source": [
    "np.random.randint(1,10,(2,3))"
   ]
  },
  {
   "cell_type": "code",
   "execution_count": 83,
   "id": "e982cacd",
   "metadata": {},
   "outputs": [
    {
     "data": {
      "text/plain": [
       "array([[[1, 5, 9],\n",
       "        [3, 7, 2]],\n",
       "\n",
       "       [[5, 2, 4],\n",
       "        [4, 9, 1]]])"
      ]
     },
     "execution_count": 83,
     "metadata": {},
     "output_type": "execute_result"
    }
   ],
   "source": [
    "##################### CREATING AN 3-D RANDOM ARRAY #####################\n",
    "\n",
    "np.random.randint(low = 1, high = 10, size = [2,2,3])\n",
    "# low defines the start value of range\n",
    "# high defines the end value of range\n",
    "# size defines the shape and dimension the of array with set, rows and columns"
   ]
  },
  {
   "cell_type": "code",
   "execution_count": 84,
   "id": "0687637b",
   "metadata": {},
   "outputs": [
    {
     "data": {
      "text/plain": [
       "array([[[1, 9, 2],\n",
       "        [1, 5, 5]],\n",
       "\n",
       "       [[8, 4, 6],\n",
       "        [5, 1, 4]]])"
      ]
     },
     "execution_count": 84,
     "metadata": {},
     "output_type": "execute_result"
    }
   ],
   "source": [
    "np.random.randint(1,10,(2,2,3))"
   ]
  }
 ],
 "metadata": {
  "kernelspec": {
   "display_name": "Python 3 (ipykernel)",
   "language": "python",
   "name": "python3"
  },
  "language_info": {
   "codemirror_mode": {
    "name": "ipython",
    "version": 3
   },
   "file_extension": ".py",
   "mimetype": "text/x-python",
   "name": "python",
   "nbconvert_exporter": "python",
   "pygments_lexer": "ipython3",
   "version": "3.9.12"
  }
 },
 "nbformat": 4,
 "nbformat_minor": 5
}
